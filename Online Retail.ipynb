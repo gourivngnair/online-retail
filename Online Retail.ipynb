{
 "cells": [
  {
   "cell_type": "markdown",
   "metadata": {},
   "source": [
    "# RFM Analysis on Online-Retail Dataset"
   ]
  },
  {
   "cell_type": "code",
   "execution_count": 1,
   "metadata": {
    "datalore": {
     "hide_input_from_viewers": false,
     "hide_output_from_viewers": false,
     "type": "CODE"
    }
   },
   "outputs": [],
   "source": [
    "# Import libraries needed for preprocessing and visualization\n",
    "import pandas as pd\n",
    "import matplotlib.pyplot as plt\n",
    "import ipympl\n",
    "import seaborn as sns\n",
    "from scipy import stats\n",
    "import numpy as np\n",
    "\n",
    "\n",
    "# Import libraries needed for Clustering  \n",
    "from sklearn.preprocessing import StandardScaler\n",
    "from sklearn.cluster import KMeans"
   ]
  },
  {
   "cell_type": "markdown",
   "metadata": {},
   "source": [
    "## Read the dataset\n",
    "\n",
    "The Online-Retail dataset from the UCI Machine Learning Repository contains information regaring online transactions made in a company from 01/12/2010 and 09/12/2011."
   ]
  },
  {
   "cell_type": "code",
   "execution_count": 2,
   "metadata": {
    "datalore": {
     "hide_input_from_viewers": false,
     "hide_output_from_viewers": false,
     "type": "CODE"
    }
   },
   "outputs": [
    {
     "data": {
      "text/html": [
       "<div>\n",
       "<style scoped>\n",
       "    .dataframe tbody tr th:only-of-type {\n",
       "        vertical-align: middle;\n",
       "    }\n",
       "\n",
       "    .dataframe tbody tr th {\n",
       "        vertical-align: top;\n",
       "    }\n",
       "\n",
       "    .dataframe thead th {\n",
       "        text-align: right;\n",
       "    }\n",
       "</style>\n",
       "<table border=\"1\" class=\"dataframe\">\n",
       "  <thead>\n",
       "    <tr style=\"text-align: right;\">\n",
       "      <th></th>\n",
       "      <th>InvoiceNo</th>\n",
       "      <th>StockCode</th>\n",
       "      <th>Description</th>\n",
       "      <th>Quantity</th>\n",
       "      <th>InvoiceDate</th>\n",
       "      <th>UnitPrice</th>\n",
       "      <th>CustomerID</th>\n",
       "      <th>Country</th>\n",
       "    </tr>\n",
       "  </thead>\n",
       "  <tbody>\n",
       "    <tr>\n",
       "      <th>0</th>\n",
       "      <td>536365</td>\n",
       "      <td>85123A</td>\n",
       "      <td>WHITE HANGING HEART T-LIGHT HOLDER</td>\n",
       "      <td>6</td>\n",
       "      <td>2010-12-01 08:26:00</td>\n",
       "      <td>2.55</td>\n",
       "      <td>17850.0</td>\n",
       "      <td>United Kingdom</td>\n",
       "    </tr>\n",
       "    <tr>\n",
       "      <th>1</th>\n",
       "      <td>536365</td>\n",
       "      <td>71053</td>\n",
       "      <td>WHITE METAL LANTERN</td>\n",
       "      <td>6</td>\n",
       "      <td>2010-12-01 08:26:00</td>\n",
       "      <td>3.39</td>\n",
       "      <td>17850.0</td>\n",
       "      <td>United Kingdom</td>\n",
       "    </tr>\n",
       "    <tr>\n",
       "      <th>2</th>\n",
       "      <td>536365</td>\n",
       "      <td>84406B</td>\n",
       "      <td>CREAM CUPID HEARTS COAT HANGER</td>\n",
       "      <td>8</td>\n",
       "      <td>2010-12-01 08:26:00</td>\n",
       "      <td>2.75</td>\n",
       "      <td>17850.0</td>\n",
       "      <td>United Kingdom</td>\n",
       "    </tr>\n",
       "    <tr>\n",
       "      <th>3</th>\n",
       "      <td>536365</td>\n",
       "      <td>84029G</td>\n",
       "      <td>KNITTED UNION FLAG HOT WATER BOTTLE</td>\n",
       "      <td>6</td>\n",
       "      <td>2010-12-01 08:26:00</td>\n",
       "      <td>3.39</td>\n",
       "      <td>17850.0</td>\n",
       "      <td>United Kingdom</td>\n",
       "    </tr>\n",
       "    <tr>\n",
       "      <th>4</th>\n",
       "      <td>536365</td>\n",
       "      <td>84029E</td>\n",
       "      <td>RED WOOLLY HOTTIE WHITE HEART.</td>\n",
       "      <td>6</td>\n",
       "      <td>2010-12-01 08:26:00</td>\n",
       "      <td>3.39</td>\n",
       "      <td>17850.0</td>\n",
       "      <td>United Kingdom</td>\n",
       "    </tr>\n",
       "  </tbody>\n",
       "</table>\n",
       "</div>"
      ],
      "text/plain": [
       "  InvoiceNo StockCode                          Description  Quantity  \\\n",
       "0    536365    85123A   WHITE HANGING HEART T-LIGHT HOLDER         6   \n",
       "1    536365     71053                  WHITE METAL LANTERN         6   \n",
       "2    536365    84406B       CREAM CUPID HEARTS COAT HANGER         8   \n",
       "3    536365    84029G  KNITTED UNION FLAG HOT WATER BOTTLE         6   \n",
       "4    536365    84029E       RED WOOLLY HOTTIE WHITE HEART.         6   \n",
       "\n",
       "          InvoiceDate  UnitPrice  CustomerID         Country  \n",
       "0 2010-12-01 08:26:00       2.55     17850.0  United Kingdom  \n",
       "1 2010-12-01 08:26:00       3.39     17850.0  United Kingdom  \n",
       "2 2010-12-01 08:26:00       2.75     17850.0  United Kingdom  \n",
       "3 2010-12-01 08:26:00       3.39     17850.0  United Kingdom  \n",
       "4 2010-12-01 08:26:00       3.39     17850.0  United Kingdom  "
      ]
     },
     "execution_count": 2,
     "metadata": {},
     "output_type": "execute_result"
    }
   ],
   "source": [
    "# Read the data on which analysis needs to be done and display first 5 entries\n",
    "data='Online Retail.xlsx'\n",
    "df_retail=pd.read_excel(data)\n",
    "df_retail.head()"
   ]
  },
  {
   "cell_type": "markdown",
   "metadata": {},
   "source": [
    "## Exploratory Data Analysis\n",
    "\n",
    "For the purpose of RFM analysis, we only require the customer ID, number of items and its unit price, number of transactions and the date of order. "
   ]
  },
  {
   "cell_type": "code",
   "execution_count": 3,
   "metadata": {
    "datalore": {
     "hide_input_from_viewers": false,
     "hide_output_from_viewers": false,
     "type": "CODE"
    }
   },
   "outputs": [
    {
     "name": "stdout",
     "output_type": "stream",
     "text": [
      "<class 'pandas.core.frame.DataFrame'>\n",
      "RangeIndex: 541909 entries, 0 to 541908\n",
      "Data columns (total 8 columns):\n",
      " #   Column       Non-Null Count   Dtype         \n",
      "---  ------       --------------   -----         \n",
      " 0   InvoiceNo    541909 non-null  object        \n",
      " 1   StockCode    541909 non-null  object        \n",
      " 2   Description  540455 non-null  object        \n",
      " 3   Quantity     541909 non-null  int64         \n",
      " 4   InvoiceDate  541909 non-null  datetime64[ns]\n",
      " 5   UnitPrice    541909 non-null  float64       \n",
      " 6   CustomerID   406829 non-null  float64       \n",
      " 7   Country      541909 non-null  object        \n",
      "dtypes: datetime64[ns](1), float64(2), int64(1), object(4)\n",
      "memory usage: 33.1+ MB\n"
     ]
    }
   ],
   "source": [
    "# Displays datatype, number of non null values and general properties of fields\n",
    "df_retail.info() "
   ]
  },
  {
   "cell_type": "markdown",
   "metadata": {},
   "source": [
    "We can see that number of non null values in customer ID and Description is lower than the rest of the columns, thus there exists null values in both. For puropses of customer segmentation, description is not relevant and hence the entries with null values for it need not be removed. "
   ]
  },
  {
   "cell_type": "code",
   "execution_count": 4,
   "metadata": {
    "datalore": {
     "hide_input_from_viewers": false,
     "hide_output_from_viewers": false,
     "type": "CODE"
    }
   },
   "outputs": [
    {
     "name": "stdout",
     "output_type": "stream",
     "text": [
      "The number of null entries for CustomerID is : 135080\n"
     ]
    }
   ],
   "source": [
    "# Number of null entries in customer ID\n",
    "print(\"The number of null entries for CustomerID is : {}\".format(df_retail['CustomerID'].isna().sum()))"
   ]
  },
  {
   "cell_type": "code",
   "execution_count": 5,
   "metadata": {
    "datalore": {
     "hide_input_from_viewers": false,
     "hide_output_from_viewers": false,
     "type": "CODE"
    }
   },
   "outputs": [
    {
     "name": "stdout",
     "output_type": "stream",
     "text": [
      "The number of duplicate entries : 5268\n"
     ]
    }
   ],
   "source": [
    "# Checks the number of duplicates\n",
    "print(\"The number of duplicate entries : {}\".format(df_retail.duplicated().sum())) "
   ]
  },
  {
   "cell_type": "markdown",
   "metadata": {},
   "source": [
    "The country wise distribution can be helpful to further filter out data. "
   ]
  },
  {
   "cell_type": "code",
   "execution_count": 6,
   "metadata": {
    "datalore": {
     "hide_input_from_viewers": false,
     "hide_output_from_viewers": false,
     "type": "CODE"
    },
    "tags": []
   },
   "outputs": [
    {
     "data": {
      "application/vnd.jupyter.widget-view+json": {
       "model_id": "2c48d1de0c0f4b0eaa5153afc737bf37",
       "version_major": 2,
       "version_minor": 0
      },
      "image/png": "[encoded data removed]",
      "text/html": [
       "\n",
       "            <div style=\"display: inline-block;\">\n",
       "                <div class=\"jupyter-widgets widget-label\" style=\"text-align: center;\">\n",
       "                    Figure\n",
       "                </div>\n",
       "                <img src='data:image/png;base64,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' width=600.0/>\n",
       "            </div>\n",
       "        "
      ],
      "text/plain": [
       "Canvas(toolbar=Toolbar(toolitems=[('Home', 'Reset original view', 'home', 'home'), ('Back', 'Back to previous …"
      ]
     },
     "metadata": {},
     "output_type": "display_data"
    }
   ],
   "source": [
    "fig, ax = plt.subplots(figsize=(6,6))\n",
    "country_counts = df_retail['Country'].value_counts()\n",
    "country_counts=country_counts.reset_index()\n",
    "country_counts.columns=['Country','Count']\n",
    "ax=sns.barplot(x='Country', y='Count',data=country_counts.head(10),estimator=max,ax=ax)\n",
    "ax.set_xticklabels(ax.get_xticklabels(), rotation=45)\n",
    "ax.set_title('Transactions in top 10 countries', fontsize = 14)\n",
    "plt.show()"
   ]
  },
  {
   "cell_type": "markdown",
   "metadata": {},
   "source": [
    "A large majority of orders are from the United Kingdom. Hence, for the purpose of this study, we can safely reject data points belonging to other countries"
   ]
  },
  {
   "cell_type": "markdown",
   "metadata": {},
   "source": [
    "## Data Preprocessing\n",
    "**Some insights made so far**:\n",
    "- There exists 133252 null entries in CustomerID.\n",
    "- There are 5268 duplicate entries.\n",
    "- Most of the entries are from the UK.\n",
    "\n",
    "First, the duplicate entries, entries with Country other than UK and entries with null values for CustomerID will be dropped."
   ]
  },
  {
   "cell_type": "code",
   "execution_count": 7,
   "metadata": {
    "datalore": {
     "hide_input_from_viewers": false,
     "hide_output_from_viewers": false,
     "type": "CODE"
    }
   },
   "outputs": [
    {
     "data": {
      "text/plain": [
       "0"
      ]
     },
     "execution_count": 7,
     "metadata": {},
     "output_type": "execute_result"
    }
   ],
   "source": [
    "# Removes all duplicates keeping the first instance\n",
    "df_retail.drop_duplicates(keep='first',inplace=True) \n",
    "df_retail.duplicated().sum()"
   ]
  },
  {
   "cell_type": "code",
   "execution_count": 8,
   "metadata": {
    "datalore": {
     "hide_input_from_viewers": false,
     "hide_output_from_viewers": false,
     "type": "CODE"
    },
    "scrolled": true
   },
   "outputs": [
    {
     "data": {
      "text/plain": [
       "United Kingdom    490300\n",
       "Name: Country, dtype: int64"
      ]
     },
     "execution_count": 8,
     "metadata": {},
     "output_type": "execute_result"
    }
   ],
   "source": [
    "# Keeps only entries from the United Kingdom\n",
    "df_retail=df_retail[df_retail['Country']=='United Kingdom'] \n",
    "df_retail['Country'].value_counts()"
   ]
  },
  {
   "cell_type": "code",
   "execution_count": 9,
   "metadata": {
    "datalore": {
     "hide_input_from_viewers": false,
     "hide_output_from_viewers": false,
     "type": "CODE"
    }
   },
   "outputs": [
    {
     "name": "stdout",
     "output_type": "stream",
     "text": [
      "<class 'pandas.core.frame.DataFrame'>\n",
      "Int64Index: 356728 entries, 0 to 541893\n",
      "Data columns (total 8 columns):\n",
      " #   Column       Non-Null Count   Dtype         \n",
      "---  ------       --------------   -----         \n",
      " 0   InvoiceNo    356728 non-null  object        \n",
      " 1   StockCode    356728 non-null  object        \n",
      " 2   Description  356728 non-null  object        \n",
      " 3   Quantity     356728 non-null  int64         \n",
      " 4   InvoiceDate  356728 non-null  datetime64[ns]\n",
      " 5   UnitPrice    356728 non-null  float64       \n",
      " 6   CustomerID   356728 non-null  float64       \n",
      " 7   Country      356728 non-null  object        \n",
      "dtypes: datetime64[ns](1), float64(2), int64(1), object(4)\n",
      "memory usage: 24.5+ MB\n"
     ]
    }
   ],
   "source": [
    "# Drop rows with null entries in CustomerID\n",
    "df_retail=df_retail.dropna(subset=['CustomerID'])\n",
    "df_retail.info()"
   ]
  },
  {
   "cell_type": "code",
   "execution_count": 10,
   "metadata": {},
   "outputs": [
    {
     "data": {
      "text/html": [
       "<div>\n",
       "<style scoped>\n",
       "    .dataframe tbody tr th:only-of-type {\n",
       "        vertical-align: middle;\n",
       "    }\n",
       "\n",
       "    .dataframe tbody tr th {\n",
       "        vertical-align: top;\n",
       "    }\n",
       "\n",
       "    .dataframe thead th {\n",
       "        text-align: right;\n",
       "    }\n",
       "</style>\n",
       "<table border=\"1\" class=\"dataframe\">\n",
       "  <thead>\n",
       "    <tr style=\"text-align: right;\">\n",
       "      <th></th>\n",
       "      <th>Quantity</th>\n",
       "      <th>UnitPrice</th>\n",
       "      <th>CustomerID</th>\n",
       "    </tr>\n",
       "  </thead>\n",
       "  <tbody>\n",
       "    <tr>\n",
       "      <th>count</th>\n",
       "      <td>356728.000000</td>\n",
       "      <td>356728.000000</td>\n",
       "      <td>356728.000000</td>\n",
       "    </tr>\n",
       "    <tr>\n",
       "      <th>mean</th>\n",
       "      <td>11.198644</td>\n",
       "      <td>3.268255</td>\n",
       "      <td>15543.795284</td>\n",
       "    </tr>\n",
       "    <tr>\n",
       "      <th>std</th>\n",
       "      <td>264.998044</td>\n",
       "      <td>71.162330</td>\n",
       "      <td>1594.286219</td>\n",
       "    </tr>\n",
       "    <tr>\n",
       "      <th>min</th>\n",
       "      <td>-80995.000000</td>\n",
       "      <td>0.000000</td>\n",
       "      <td>12346.000000</td>\n",
       "    </tr>\n",
       "    <tr>\n",
       "      <th>25%</th>\n",
       "      <td>2.000000</td>\n",
       "      <td>1.250000</td>\n",
       "      <td>14191.000000</td>\n",
       "    </tr>\n",
       "    <tr>\n",
       "      <th>50%</th>\n",
       "      <td>4.000000</td>\n",
       "      <td>1.950000</td>\n",
       "      <td>15513.000000</td>\n",
       "    </tr>\n",
       "    <tr>\n",
       "      <th>75%</th>\n",
       "      <td>12.000000</td>\n",
       "      <td>3.750000</td>\n",
       "      <td>16931.000000</td>\n",
       "    </tr>\n",
       "    <tr>\n",
       "      <th>max</th>\n",
       "      <td>80995.000000</td>\n",
       "      <td>38970.000000</td>\n",
       "      <td>18287.000000</td>\n",
       "    </tr>\n",
       "  </tbody>\n",
       "</table>\n",
       "</div>"
      ],
      "text/plain": [
       "            Quantity      UnitPrice     CustomerID\n",
       "count  356728.000000  356728.000000  356728.000000\n",
       "mean       11.198644       3.268255   15543.795284\n",
       "std       264.998044      71.162330    1594.286219\n",
       "min    -80995.000000       0.000000   12346.000000\n",
       "25%         2.000000       1.250000   14191.000000\n",
       "50%         4.000000       1.950000   15513.000000\n",
       "75%        12.000000       3.750000   16931.000000\n",
       "max     80995.000000   38970.000000   18287.000000"
      ]
     },
     "execution_count": 10,
     "metadata": {},
     "output_type": "execute_result"
    }
   ],
   "source": [
    "df_retail.describe()"
   ]
  },
  {
   "cell_type": "markdown",
   "metadata": {},
   "source": [
    "The minimum valuse of quantity and unit price are negative. This is not physically possible and could happen only due to canceled orders. According to the data description, the InvoiceNo of canceled orders contains the letter 'C' in them. These canceled order entries have to be removed to filter out actual transactions."
   ]
  },
  {
   "cell_type": "code",
   "execution_count": 11,
   "metadata": {
    "datalore": {
     "hide_input_from_viewers": false,
     "hide_output_from_viewers": false,
     "type": "CODE"
    }
   },
   "outputs": [
    {
     "name": "stdout",
     "output_type": "stream",
     "text": [
      "The number of canceled orders is : 0         False\n",
      "1         False\n",
      "2         False\n",
      "3         False\n",
      "4         False\n",
      "          ...  \n",
      "541889    False\n",
      "541890    False\n",
      "541891    False\n",
      "541892    False\n",
      "541893    False\n",
      "Name: InvoiceNo, Length: 356728, dtype: bool\n"
     ]
    }
   ],
   "source": [
    "# removes all cancelled orders\n",
    "print(\"The number of canceled orders is : {}\".format(df_retail[\"InvoiceNo\"].str.contains(\"C\", na=False)))\n",
    "df_retail = df_retail[~df_retail[\"InvoiceNo\"].str.contains(\"C\", na=False)] "
   ]
  },
  {
   "cell_type": "code",
   "execution_count": 12,
   "metadata": {},
   "outputs": [
    {
     "data": {
      "text/html": [
       "<div>\n",
       "<style scoped>\n",
       "    .dataframe tbody tr th:only-of-type {\n",
       "        vertical-align: middle;\n",
       "    }\n",
       "\n",
       "    .dataframe tbody tr th {\n",
       "        vertical-align: top;\n",
       "    }\n",
       "\n",
       "    .dataframe thead th {\n",
       "        text-align: right;\n",
       "    }\n",
       "</style>\n",
       "<table border=\"1\" class=\"dataframe\">\n",
       "  <thead>\n",
       "    <tr style=\"text-align: right;\">\n",
       "      <th></th>\n",
       "      <th>Quantity</th>\n",
       "      <th>UnitPrice</th>\n",
       "      <th>CustomerID</th>\n",
       "    </tr>\n",
       "  </thead>\n",
       "  <tbody>\n",
       "    <tr>\n",
       "      <th>count</th>\n",
       "      <td>349227.000000</td>\n",
       "      <td>349227.000000</td>\n",
       "      <td>349227.000000</td>\n",
       "    </tr>\n",
       "    <tr>\n",
       "      <th>mean</th>\n",
       "      <td>12.181295</td>\n",
       "      <td>2.972124</td>\n",
       "      <td>15548.333625</td>\n",
       "    </tr>\n",
       "    <tr>\n",
       "      <th>std</th>\n",
       "      <td>191.797470</td>\n",
       "      <td>17.990307</td>\n",
       "      <td>1594.403077</td>\n",
       "    </tr>\n",
       "    <tr>\n",
       "      <th>min</th>\n",
       "      <td>1.000000</td>\n",
       "      <td>0.000000</td>\n",
       "      <td>12346.000000</td>\n",
       "    </tr>\n",
       "    <tr>\n",
       "      <th>25%</th>\n",
       "      <td>2.000000</td>\n",
       "      <td>1.250000</td>\n",
       "      <td>14191.000000</td>\n",
       "    </tr>\n",
       "    <tr>\n",
       "      <th>50%</th>\n",
       "      <td>4.000000</td>\n",
       "      <td>1.950000</td>\n",
       "      <td>15518.000000</td>\n",
       "    </tr>\n",
       "    <tr>\n",
       "      <th>75%</th>\n",
       "      <td>12.000000</td>\n",
       "      <td>3.750000</td>\n",
       "      <td>16931.000000</td>\n",
       "    </tr>\n",
       "    <tr>\n",
       "      <th>max</th>\n",
       "      <td>80995.000000</td>\n",
       "      <td>8142.750000</td>\n",
       "      <td>18287.000000</td>\n",
       "    </tr>\n",
       "  </tbody>\n",
       "</table>\n",
       "</div>"
      ],
      "text/plain": [
       "            Quantity      UnitPrice     CustomerID\n",
       "count  349227.000000  349227.000000  349227.000000\n",
       "mean       12.181295       2.972124   15548.333625\n",
       "std       191.797470      17.990307    1594.403077\n",
       "min         1.000000       0.000000   12346.000000\n",
       "25%         2.000000       1.250000   14191.000000\n",
       "50%         4.000000       1.950000   15518.000000\n",
       "75%        12.000000       3.750000   16931.000000\n",
       "max     80995.000000    8142.750000   18287.000000"
      ]
     },
     "execution_count": 12,
     "metadata": {},
     "output_type": "execute_result"
    }
   ],
   "source": [
    "df_retail.describe()"
   ]
  },
  {
   "cell_type": "markdown",
   "metadata": {},
   "source": [
    "There are still instances of negative values of unit price and quantity. These entries have to be removed."
   ]
  },
  {
   "cell_type": "code",
   "execution_count": 13,
   "metadata": {
    "datalore": {
     "hide_input_from_viewers": false,
     "hide_output_from_viewers": false,
     "type": "CODE"
    }
   },
   "outputs": [
    {
     "name": "stdout",
     "output_type": "stream",
     "text": [
      "<class 'pandas.core.frame.DataFrame'>\n",
      "Int64Index: 349203 entries, 0 to 541893\n",
      "Data columns (total 8 columns):\n",
      " #   Column       Non-Null Count   Dtype         \n",
      "---  ------       --------------   -----         \n",
      " 0   InvoiceNo    349203 non-null  object        \n",
      " 1   StockCode    349203 non-null  object        \n",
      " 2   Description  349203 non-null  object        \n",
      " 3   Quantity     349203 non-null  int64         \n",
      " 4   InvoiceDate  349203 non-null  datetime64[ns]\n",
      " 5   UnitPrice    349203 non-null  float64       \n",
      " 6   CustomerID   349203 non-null  float64       \n",
      " 7   Country      349203 non-null  object        \n",
      "dtypes: datetime64[ns](1), float64(2), int64(1), object(4)\n",
      "memory usage: 24.0+ MB\n"
     ]
    }
   ],
   "source": [
    "# Keep only non negative values of Price and Quantity\n",
    "df_retail = df_retail[(df_retail['UnitPrice']>0) & (df_retail['Quantity']>0)]\n",
    "df_retail.info()"
   ]
  },
  {
   "cell_type": "markdown",
   "metadata": {},
   "source": [
    "## RFM Analysis\n",
    "For the purpose of clustering, first we have to define Recency, Frequency and Monetary values.\n",
    "- **Monetary value**- It can be the net amount recieved by the comany from one customer. i.e The sum of quantity times unit price across all transactions of a given customer.\n",
    "- **Frequency**- This can be defined as the number of purchases made by one customer. i.e the numbver of transactions per customer.\n",
    "- **Recency**- The time between last transaction and current date. Here, we can assume the most recent transaction date to be the correct date. \n"
   ]
  },
  {
   "cell_type": "code",
   "execution_count": 14,
   "metadata": {
    "datalore": {
     "hide_input_from_viewers": false,
     "hide_output_from_viewers": false,
     "type": "CODE"
    }
   },
   "outputs": [
    {
     "data": {
      "text/html": [
       "<div>\n",
       "<style scoped>\n",
       "    .dataframe tbody tr th:only-of-type {\n",
       "        vertical-align: middle;\n",
       "    }\n",
       "\n",
       "    .dataframe tbody tr th {\n",
       "        vertical-align: top;\n",
       "    }\n",
       "\n",
       "    .dataframe thead th {\n",
       "        text-align: right;\n",
       "    }\n",
       "</style>\n",
       "<table border=\"1\" class=\"dataframe\">\n",
       "  <thead>\n",
       "    <tr style=\"text-align: right;\">\n",
       "      <th></th>\n",
       "      <th>InvoiceNo</th>\n",
       "      <th>StockCode</th>\n",
       "      <th>Description</th>\n",
       "      <th>Quantity</th>\n",
       "      <th>InvoiceDate</th>\n",
       "      <th>UnitPrice</th>\n",
       "      <th>CustomerID</th>\n",
       "      <th>Country</th>\n",
       "      <th>Amount</th>\n",
       "    </tr>\n",
       "  </thead>\n",
       "  <tbody>\n",
       "    <tr>\n",
       "      <th>0</th>\n",
       "      <td>536365</td>\n",
       "      <td>85123A</td>\n",
       "      <td>WHITE HANGING HEART T-LIGHT HOLDER</td>\n",
       "      <td>6</td>\n",
       "      <td>2010-12-01 08:26:00</td>\n",
       "      <td>2.55</td>\n",
       "      <td>17850.0</td>\n",
       "      <td>United Kingdom</td>\n",
       "      <td>15.30</td>\n",
       "    </tr>\n",
       "    <tr>\n",
       "      <th>1</th>\n",
       "      <td>536365</td>\n",
       "      <td>71053</td>\n",
       "      <td>WHITE METAL LANTERN</td>\n",
       "      <td>6</td>\n",
       "      <td>2010-12-01 08:26:00</td>\n",
       "      <td>3.39</td>\n",
       "      <td>17850.0</td>\n",
       "      <td>United Kingdom</td>\n",
       "      <td>20.34</td>\n",
       "    </tr>\n",
       "    <tr>\n",
       "      <th>2</th>\n",
       "      <td>536365</td>\n",
       "      <td>84406B</td>\n",
       "      <td>CREAM CUPID HEARTS COAT HANGER</td>\n",
       "      <td>8</td>\n",
       "      <td>2010-12-01 08:26:00</td>\n",
       "      <td>2.75</td>\n",
       "      <td>17850.0</td>\n",
       "      <td>United Kingdom</td>\n",
       "      <td>22.00</td>\n",
       "    </tr>\n",
       "    <tr>\n",
       "      <th>3</th>\n",
       "      <td>536365</td>\n",
       "      <td>84029G</td>\n",
       "      <td>KNITTED UNION FLAG HOT WATER BOTTLE</td>\n",
       "      <td>6</td>\n",
       "      <td>2010-12-01 08:26:00</td>\n",
       "      <td>3.39</td>\n",
       "      <td>17850.0</td>\n",
       "      <td>United Kingdom</td>\n",
       "      <td>20.34</td>\n",
       "    </tr>\n",
       "    <tr>\n",
       "      <th>4</th>\n",
       "      <td>536365</td>\n",
       "      <td>84029E</td>\n",
       "      <td>RED WOOLLY HOTTIE WHITE HEART.</td>\n",
       "      <td>6</td>\n",
       "      <td>2010-12-01 08:26:00</td>\n",
       "      <td>3.39</td>\n",
       "      <td>17850.0</td>\n",
       "      <td>United Kingdom</td>\n",
       "      <td>20.34</td>\n",
       "    </tr>\n",
       "  </tbody>\n",
       "</table>\n",
       "</div>"
      ],
      "text/plain": [
       "  InvoiceNo StockCode                          Description  Quantity  \\\n",
       "0    536365    85123A   WHITE HANGING HEART T-LIGHT HOLDER         6   \n",
       "1    536365     71053                  WHITE METAL LANTERN         6   \n",
       "2    536365    84406B       CREAM CUPID HEARTS COAT HANGER         8   \n",
       "3    536365    84029G  KNITTED UNION FLAG HOT WATER BOTTLE         6   \n",
       "4    536365    84029E       RED WOOLLY HOTTIE WHITE HEART.         6   \n",
       "\n",
       "          InvoiceDate  UnitPrice  CustomerID         Country  Amount  \n",
       "0 2010-12-01 08:26:00       2.55     17850.0  United Kingdom   15.30  \n",
       "1 2010-12-01 08:26:00       3.39     17850.0  United Kingdom   20.34  \n",
       "2 2010-12-01 08:26:00       2.75     17850.0  United Kingdom   22.00  \n",
       "3 2010-12-01 08:26:00       3.39     17850.0  United Kingdom   20.34  \n",
       "4 2010-12-01 08:26:00       3.39     17850.0  United Kingdom   20.34  "
      ]
     },
     "execution_count": 14,
     "metadata": {},
     "output_type": "execute_result"
    }
   ],
   "source": [
    "# Calculates amount as product of unit price and Quantity\n",
    "df_retail['Amount']=df_retail['Quantity']*df_retail['UnitPrice']\n",
    "df_retail.head()"
   ]
  },
  {
   "cell_type": "code",
   "execution_count": 15,
   "metadata": {
    "datalore": {
     "hide_input_from_viewers": false,
     "hide_output_from_viewers": false,
     "type": "CODE"
    }
   },
   "outputs": [
    {
     "data": {
      "text/html": [
       "<div>\n",
       "<style scoped>\n",
       "    .dataframe tbody tr th:only-of-type {\n",
       "        vertical-align: middle;\n",
       "    }\n",
       "\n",
       "    .dataframe tbody tr th {\n",
       "        vertical-align: top;\n",
       "    }\n",
       "\n",
       "    .dataframe thead th {\n",
       "        text-align: right;\n",
       "    }\n",
       "</style>\n",
       "<table border=\"1\" class=\"dataframe\">\n",
       "  <thead>\n",
       "    <tr style=\"text-align: right;\">\n",
       "      <th></th>\n",
       "      <th>CustomerID</th>\n",
       "      <th>Amount</th>\n",
       "    </tr>\n",
       "  </thead>\n",
       "  <tbody>\n",
       "    <tr>\n",
       "      <th>0</th>\n",
       "      <td>12346.0</td>\n",
       "      <td>77183.60</td>\n",
       "    </tr>\n",
       "    <tr>\n",
       "      <th>1</th>\n",
       "      <td>12747.0</td>\n",
       "      <td>4196.01</td>\n",
       "    </tr>\n",
       "    <tr>\n",
       "      <th>2</th>\n",
       "      <td>12748.0</td>\n",
       "      <td>33053.19</td>\n",
       "    </tr>\n",
       "    <tr>\n",
       "      <th>3</th>\n",
       "      <td>12749.0</td>\n",
       "      <td>4090.88</td>\n",
       "    </tr>\n",
       "    <tr>\n",
       "      <th>4</th>\n",
       "      <td>12820.0</td>\n",
       "      <td>942.34</td>\n",
       "    </tr>\n",
       "  </tbody>\n",
       "</table>\n",
       "</div>"
      ],
      "text/plain": [
       "   CustomerID    Amount\n",
       "0     12346.0  77183.60\n",
       "1     12747.0   4196.01\n",
       "2     12748.0  33053.19\n",
       "3     12749.0   4090.88\n",
       "4     12820.0    942.34"
      ]
     },
     "execution_count": 15,
     "metadata": {},
     "output_type": "execute_result"
    }
   ],
   "source": [
    "# Calculates total monetary value of each customers as sum of Amount of all transactions and stores in new dataframe\n",
    "monetary=df_retail.groupby('CustomerID')['Amount'].sum()\n",
    "monetary = monetary.reset_index()\n",
    "monetary.head()"
   ]
  },
  {
   "cell_type": "code",
   "execution_count": 16,
   "metadata": {
    "datalore": {
     "hide_input_from_viewers": false,
     "hide_output_from_viewers": false,
     "type": "CODE"
    }
   },
   "outputs": [
    {
     "data": {
      "text/html": [
       "<div>\n",
       "<style scoped>\n",
       "    .dataframe tbody tr th:only-of-type {\n",
       "        vertical-align: middle;\n",
       "    }\n",
       "\n",
       "    .dataframe tbody tr th {\n",
       "        vertical-align: top;\n",
       "    }\n",
       "\n",
       "    .dataframe thead th {\n",
       "        text-align: right;\n",
       "    }\n",
       "</style>\n",
       "<table border=\"1\" class=\"dataframe\">\n",
       "  <thead>\n",
       "    <tr style=\"text-align: right;\">\n",
       "      <th></th>\n",
       "      <th>CustomerID</th>\n",
       "      <th>InvoiceNo</th>\n",
       "    </tr>\n",
       "  </thead>\n",
       "  <tbody>\n",
       "    <tr>\n",
       "      <th>0</th>\n",
       "      <td>12346.0</td>\n",
       "      <td>1</td>\n",
       "    </tr>\n",
       "    <tr>\n",
       "      <th>1</th>\n",
       "      <td>12747.0</td>\n",
       "      <td>103</td>\n",
       "    </tr>\n",
       "    <tr>\n",
       "      <th>2</th>\n",
       "      <td>12748.0</td>\n",
       "      <td>4412</td>\n",
       "    </tr>\n",
       "    <tr>\n",
       "      <th>3</th>\n",
       "      <td>12749.0</td>\n",
       "      <td>199</td>\n",
       "    </tr>\n",
       "    <tr>\n",
       "      <th>4</th>\n",
       "      <td>12820.0</td>\n",
       "      <td>59</td>\n",
       "    </tr>\n",
       "  </tbody>\n",
       "</table>\n",
       "</div>"
      ],
      "text/plain": [
       "   CustomerID  InvoiceNo\n",
       "0     12346.0          1\n",
       "1     12747.0        103\n",
       "2     12748.0       4412\n",
       "3     12749.0        199\n",
       "4     12820.0         59"
      ]
     },
     "execution_count": 16,
     "metadata": {},
     "output_type": "execute_result"
    }
   ],
   "source": [
    "# Total number of individual transaction of customers by invoice number\n",
    "frequency = df_retail.groupby('CustomerID')['InvoiceNo'].count()\n",
    "frequency = frequency.reset_index()\n",
    "frequency.head()"
   ]
  },
  {
   "cell_type": "code",
   "execution_count": 17,
   "metadata": {
    "datalore": {
     "hide_input_from_viewers": false,
     "hide_output_from_viewers": false,
     "type": "CODE"
    }
   },
   "outputs": [
    {
     "data": {
      "text/html": [
       "<div>\n",
       "<style scoped>\n",
       "    .dataframe tbody tr th:only-of-type {\n",
       "        vertical-align: middle;\n",
       "    }\n",
       "\n",
       "    .dataframe tbody tr th {\n",
       "        vertical-align: top;\n",
       "    }\n",
       "\n",
       "    .dataframe thead th {\n",
       "        text-align: right;\n",
       "    }\n",
       "</style>\n",
       "<table border=\"1\" class=\"dataframe\">\n",
       "  <thead>\n",
       "    <tr style=\"text-align: right;\">\n",
       "      <th></th>\n",
       "      <th>InvoiceNo</th>\n",
       "      <th>StockCode</th>\n",
       "      <th>Description</th>\n",
       "      <th>Quantity</th>\n",
       "      <th>InvoiceDate</th>\n",
       "      <th>UnitPrice</th>\n",
       "      <th>CustomerID</th>\n",
       "      <th>Country</th>\n",
       "      <th>Amount</th>\n",
       "      <th>Latest</th>\n",
       "    </tr>\n",
       "  </thead>\n",
       "  <tbody>\n",
       "    <tr>\n",
       "      <th>0</th>\n",
       "      <td>536365</td>\n",
       "      <td>85123A</td>\n",
       "      <td>WHITE HANGING HEART T-LIGHT HOLDER</td>\n",
       "      <td>6</td>\n",
       "      <td>2010-12-01 08:26:00</td>\n",
       "      <td>2.55</td>\n",
       "      <td>17850.0</td>\n",
       "      <td>United Kingdom</td>\n",
       "      <td>15.30</td>\n",
       "      <td>373 days 04:23:00</td>\n",
       "    </tr>\n",
       "    <tr>\n",
       "      <th>1</th>\n",
       "      <td>536365</td>\n",
       "      <td>71053</td>\n",
       "      <td>WHITE METAL LANTERN</td>\n",
       "      <td>6</td>\n",
       "      <td>2010-12-01 08:26:00</td>\n",
       "      <td>3.39</td>\n",
       "      <td>17850.0</td>\n",
       "      <td>United Kingdom</td>\n",
       "      <td>20.34</td>\n",
       "      <td>373 days 04:23:00</td>\n",
       "    </tr>\n",
       "    <tr>\n",
       "      <th>2</th>\n",
       "      <td>536365</td>\n",
       "      <td>84406B</td>\n",
       "      <td>CREAM CUPID HEARTS COAT HANGER</td>\n",
       "      <td>8</td>\n",
       "      <td>2010-12-01 08:26:00</td>\n",
       "      <td>2.75</td>\n",
       "      <td>17850.0</td>\n",
       "      <td>United Kingdom</td>\n",
       "      <td>22.00</td>\n",
       "      <td>373 days 04:23:00</td>\n",
       "    </tr>\n",
       "    <tr>\n",
       "      <th>3</th>\n",
       "      <td>536365</td>\n",
       "      <td>84029G</td>\n",
       "      <td>KNITTED UNION FLAG HOT WATER BOTTLE</td>\n",
       "      <td>6</td>\n",
       "      <td>2010-12-01 08:26:00</td>\n",
       "      <td>3.39</td>\n",
       "      <td>17850.0</td>\n",
       "      <td>United Kingdom</td>\n",
       "      <td>20.34</td>\n",
       "      <td>373 days 04:23:00</td>\n",
       "    </tr>\n",
       "    <tr>\n",
       "      <th>4</th>\n",
       "      <td>536365</td>\n",
       "      <td>84029E</td>\n",
       "      <td>RED WOOLLY HOTTIE WHITE HEART.</td>\n",
       "      <td>6</td>\n",
       "      <td>2010-12-01 08:26:00</td>\n",
       "      <td>3.39</td>\n",
       "      <td>17850.0</td>\n",
       "      <td>United Kingdom</td>\n",
       "      <td>20.34</td>\n",
       "      <td>373 days 04:23:00</td>\n",
       "    </tr>\n",
       "  </tbody>\n",
       "</table>\n",
       "</div>"
      ],
      "text/plain": [
       "  InvoiceNo StockCode                          Description  Quantity  \\\n",
       "0    536365    85123A   WHITE HANGING HEART T-LIGHT HOLDER         6   \n",
       "1    536365     71053                  WHITE METAL LANTERN         6   \n",
       "2    536365    84406B       CREAM CUPID HEARTS COAT HANGER         8   \n",
       "3    536365    84029G  KNITTED UNION FLAG HOT WATER BOTTLE         6   \n",
       "4    536365    84029E       RED WOOLLY HOTTIE WHITE HEART.         6   \n",
       "\n",
       "          InvoiceDate  UnitPrice  CustomerID         Country  Amount  \\\n",
       "0 2010-12-01 08:26:00       2.55     17850.0  United Kingdom   15.30   \n",
       "1 2010-12-01 08:26:00       3.39     17850.0  United Kingdom   20.34   \n",
       "2 2010-12-01 08:26:00       2.75     17850.0  United Kingdom   22.00   \n",
       "3 2010-12-01 08:26:00       3.39     17850.0  United Kingdom   20.34   \n",
       "4 2010-12-01 08:26:00       3.39     17850.0  United Kingdom   20.34   \n",
       "\n",
       "             Latest  \n",
       "0 373 days 04:23:00  \n",
       "1 373 days 04:23:00  \n",
       "2 373 days 04:23:00  \n",
       "3 373 days 04:23:00  \n",
       "4 373 days 04:23:00  "
      ]
     },
     "execution_count": 17,
     "metadata": {},
     "output_type": "execute_result"
    }
   ],
   "source": [
    "# Number of days between each transaction and last recorded transaction \n",
    "df_retail['Latest'] = max(df_retail['InvoiceDate']) - df_retail['InvoiceDate']\n",
    "df_retail.head()"
   ]
  },
  {
   "cell_type": "code",
   "execution_count": 18,
   "metadata": {
    "datalore": {
     "hide_input_from_viewers": false,
     "hide_output_from_viewers": false,
     "type": "CODE"
    }
   },
   "outputs": [
    {
     "data": {
      "text/html": [
       "<div>\n",
       "<style scoped>\n",
       "    .dataframe tbody tr th:only-of-type {\n",
       "        vertical-align: middle;\n",
       "    }\n",
       "\n",
       "    .dataframe tbody tr th {\n",
       "        vertical-align: top;\n",
       "    }\n",
       "\n",
       "    .dataframe thead th {\n",
       "        text-align: right;\n",
       "    }\n",
       "</style>\n",
       "<table border=\"1\" class=\"dataframe\">\n",
       "  <thead>\n",
       "    <tr style=\"text-align: right;\">\n",
       "      <th></th>\n",
       "      <th>CustomerID</th>\n",
       "      <th>Latest</th>\n",
       "    </tr>\n",
       "  </thead>\n",
       "  <tbody>\n",
       "    <tr>\n",
       "      <th>0</th>\n",
       "      <td>12346.0</td>\n",
       "      <td>325 days 02:48:00</td>\n",
       "    </tr>\n",
       "    <tr>\n",
       "      <th>1</th>\n",
       "      <td>12747.0</td>\n",
       "      <td>1 days 22:15:00</td>\n",
       "    </tr>\n",
       "    <tr>\n",
       "      <th>2</th>\n",
       "      <td>12748.0</td>\n",
       "      <td>0 days 00:29:00</td>\n",
       "    </tr>\n",
       "    <tr>\n",
       "      <th>3</th>\n",
       "      <td>12749.0</td>\n",
       "      <td>3 days 02:53:00</td>\n",
       "    </tr>\n",
       "    <tr>\n",
       "      <th>4</th>\n",
       "      <td>12820.0</td>\n",
       "      <td>2 days 21:37:00</td>\n",
       "    </tr>\n",
       "  </tbody>\n",
       "</table>\n",
       "</div>"
      ],
      "text/plain": [
       "   CustomerID            Latest\n",
       "0     12346.0 325 days 02:48:00\n",
       "1     12747.0   1 days 22:15:00\n",
       "2     12748.0   0 days 00:29:00\n",
       "3     12749.0   3 days 02:53:00\n",
       "4     12820.0   2 days 21:37:00"
      ]
     },
     "execution_count": 18,
     "metadata": {},
     "output_type": "execute_result"
    }
   ],
   "source": [
    "# Most recent transaction per customer \n",
    "recency = df_retail.groupby('CustomerID')['Latest'].min()\n",
    "recency = recency.reset_index()\n",
    "recency.head()"
   ]
  },
  {
   "cell_type": "code",
   "execution_count": 19,
   "metadata": {
    "datalore": {
     "hide_input_from_viewers": false,
     "hide_output_from_viewers": false,
     "type": "CODE"
    }
   },
   "outputs": [
    {
     "data": {
      "text/html": [
       "<div>\n",
       "<style scoped>\n",
       "    .dataframe tbody tr th:only-of-type {\n",
       "        vertical-align: middle;\n",
       "    }\n",
       "\n",
       "    .dataframe tbody tr th {\n",
       "        vertical-align: top;\n",
       "    }\n",
       "\n",
       "    .dataframe thead th {\n",
       "        text-align: right;\n",
       "    }\n",
       "</style>\n",
       "<table border=\"1\" class=\"dataframe\">\n",
       "  <thead>\n",
       "    <tr style=\"text-align: right;\">\n",
       "      <th></th>\n",
       "      <th>CustomerID</th>\n",
       "      <th>Latest</th>\n",
       "    </tr>\n",
       "  </thead>\n",
       "  <tbody>\n",
       "    <tr>\n",
       "      <th>0</th>\n",
       "      <td>12346.0</td>\n",
       "      <td>325</td>\n",
       "    </tr>\n",
       "    <tr>\n",
       "      <th>1</th>\n",
       "      <td>12747.0</td>\n",
       "      <td>1</td>\n",
       "    </tr>\n",
       "    <tr>\n",
       "      <th>2</th>\n",
       "      <td>12748.0</td>\n",
       "      <td>0</td>\n",
       "    </tr>\n",
       "    <tr>\n",
       "      <th>3</th>\n",
       "      <td>12749.0</td>\n",
       "      <td>3</td>\n",
       "    </tr>\n",
       "    <tr>\n",
       "      <th>4</th>\n",
       "      <td>12820.0</td>\n",
       "      <td>2</td>\n",
       "    </tr>\n",
       "  </tbody>\n",
       "</table>\n",
       "</div>"
      ],
      "text/plain": [
       "   CustomerID  Latest\n",
       "0     12346.0     325\n",
       "1     12747.0       1\n",
       "2     12748.0       0\n",
       "3     12749.0       3\n",
       "4     12820.0       2"
      ]
     },
     "execution_count": 19,
     "metadata": {},
     "output_type": "execute_result"
    }
   ],
   "source": [
    "# Remove time from the values\n",
    "recency['Latest']=recency['Latest'].dt.days\n",
    "recency.head()"
   ]
  },
  {
   "cell_type": "code",
   "execution_count": 20,
   "metadata": {
    "datalore": {
     "hide_input_from_viewers": false,
     "hide_output_from_viewers": false,
     "type": "CODE"
    }
   },
   "outputs": [
    {
     "data": {
      "text/html": [
       "<div>\n",
       "<style scoped>\n",
       "    .dataframe tbody tr th:only-of-type {\n",
       "        vertical-align: middle;\n",
       "    }\n",
       "\n",
       "    .dataframe tbody tr th {\n",
       "        vertical-align: top;\n",
       "    }\n",
       "\n",
       "    .dataframe thead th {\n",
       "        text-align: right;\n",
       "    }\n",
       "</style>\n",
       "<table border=\"1\" class=\"dataframe\">\n",
       "  <thead>\n",
       "    <tr style=\"text-align: right;\">\n",
       "      <th></th>\n",
       "      <th>CustomerID</th>\n",
       "      <th>Amount</th>\n",
       "      <th>InvoiceNo</th>\n",
       "    </tr>\n",
       "  </thead>\n",
       "  <tbody>\n",
       "    <tr>\n",
       "      <th>0</th>\n",
       "      <td>12346.0</td>\n",
       "      <td>77183.60</td>\n",
       "      <td>1</td>\n",
       "    </tr>\n",
       "    <tr>\n",
       "      <th>1</th>\n",
       "      <td>12747.0</td>\n",
       "      <td>4196.01</td>\n",
       "      <td>103</td>\n",
       "    </tr>\n",
       "    <tr>\n",
       "      <th>2</th>\n",
       "      <td>12748.0</td>\n",
       "      <td>33053.19</td>\n",
       "      <td>4412</td>\n",
       "    </tr>\n",
       "    <tr>\n",
       "      <th>3</th>\n",
       "      <td>12749.0</td>\n",
       "      <td>4090.88</td>\n",
       "      <td>199</td>\n",
       "    </tr>\n",
       "    <tr>\n",
       "      <th>4</th>\n",
       "      <td>12820.0</td>\n",
       "      <td>942.34</td>\n",
       "      <td>59</td>\n",
       "    </tr>\n",
       "  </tbody>\n",
       "</table>\n",
       "</div>"
      ],
      "text/plain": [
       "   CustomerID    Amount  InvoiceNo\n",
       "0     12346.0  77183.60          1\n",
       "1     12747.0   4196.01        103\n",
       "2     12748.0  33053.19       4412\n",
       "3     12749.0   4090.88        199\n",
       "4     12820.0    942.34         59"
      ]
     },
     "execution_count": 20,
     "metadata": {},
     "output_type": "execute_result"
    }
   ],
   "source": [
    "# Merge monetary and frequency tables based on CustomerID\n",
    "rfm = pd.merge(monetary, frequency, on='CustomerID', how='inner')\n",
    "rfm.head()"
   ]
  },
  {
   "cell_type": "code",
   "execution_count": 21,
   "metadata": {
    "datalore": {
     "hide_input_from_viewers": false,
     "hide_output_from_viewers": false,
     "type": "CODE"
    }
   },
   "outputs": [
    {
     "data": {
      "text/html": [
       "<div>\n",
       "<style scoped>\n",
       "    .dataframe tbody tr th:only-of-type {\n",
       "        vertical-align: middle;\n",
       "    }\n",
       "\n",
       "    .dataframe tbody tr th {\n",
       "        vertical-align: top;\n",
       "    }\n",
       "\n",
       "    .dataframe thead th {\n",
       "        text-align: right;\n",
       "    }\n",
       "</style>\n",
       "<table border=\"1\" class=\"dataframe\">\n",
       "  <thead>\n",
       "    <tr style=\"text-align: right;\">\n",
       "      <th></th>\n",
       "      <th>CustomerID</th>\n",
       "      <th>Monetary</th>\n",
       "      <th>Frequency</th>\n",
       "      <th>Recency</th>\n",
       "    </tr>\n",
       "  </thead>\n",
       "  <tbody>\n",
       "    <tr>\n",
       "      <th>0</th>\n",
       "      <td>12346.0</td>\n",
       "      <td>77183.60</td>\n",
       "      <td>1</td>\n",
       "      <td>325</td>\n",
       "    </tr>\n",
       "    <tr>\n",
       "      <th>1</th>\n",
       "      <td>12747.0</td>\n",
       "      <td>4196.01</td>\n",
       "      <td>103</td>\n",
       "      <td>1</td>\n",
       "    </tr>\n",
       "    <tr>\n",
       "      <th>2</th>\n",
       "      <td>12748.0</td>\n",
       "      <td>33053.19</td>\n",
       "      <td>4412</td>\n",
       "      <td>0</td>\n",
       "    </tr>\n",
       "    <tr>\n",
       "      <th>3</th>\n",
       "      <td>12749.0</td>\n",
       "      <td>4090.88</td>\n",
       "      <td>199</td>\n",
       "      <td>3</td>\n",
       "    </tr>\n",
       "    <tr>\n",
       "      <th>4</th>\n",
       "      <td>12820.0</td>\n",
       "      <td>942.34</td>\n",
       "      <td>59</td>\n",
       "      <td>2</td>\n",
       "    </tr>\n",
       "  </tbody>\n",
       "</table>\n",
       "</div>"
      ],
      "text/plain": [
       "   CustomerID  Monetary  Frequency  Recency\n",
       "0     12346.0  77183.60          1      325\n",
       "1     12747.0   4196.01        103        1\n",
       "2     12748.0  33053.19       4412        0\n",
       "3     12749.0   4090.88        199        3\n",
       "4     12820.0    942.34         59        2"
      ]
     },
     "execution_count": 21,
     "metadata": {},
     "output_type": "execute_result"
    }
   ],
   "source": [
    "# Merge monetary and frequency table with recency table based on CustomerID and change column name\n",
    "rfm = pd.merge(rfm, recency, on='CustomerID', how='inner')\n",
    "rfm.columns=['CustomerID','Monetary','Frequency','Recency']\n",
    "rfm.head()"
   ]
  },
  {
   "cell_type": "code",
   "execution_count": 22,
   "metadata": {
    "datalore": {
     "hide_input_from_viewers": false,
     "hide_output_from_viewers": false,
     "type": "CODE"
    }
   },
   "outputs": [],
   "source": [
    "# CustomerID is stored as string\n",
    "rfm['CustomerID']=rfm['CustomerID'].astype(str)"
   ]
  },
  {
   "cell_type": "markdown",
   "metadata": {},
   "source": [
    "Now, we have an RFM table. For the next step, we need to remove the outliers. We will use the **z-score** method for the same."
   ]
  },
  {
   "cell_type": "code",
   "execution_count": 23,
   "metadata": {
    "datalore": {
     "hide_input_from_viewers": false,
     "hide_output_from_viewers": false,
     "type": "CODE"
    }
   },
   "outputs": [
    {
     "data": {
      "text/html": [
       "<div>\n",
       "<style scoped>\n",
       "    .dataframe tbody tr th:only-of-type {\n",
       "        vertical-align: middle;\n",
       "    }\n",
       "\n",
       "    .dataframe tbody tr th {\n",
       "        vertical-align: top;\n",
       "    }\n",
       "\n",
       "    .dataframe thead th {\n",
       "        text-align: right;\n",
       "    }\n",
       "</style>\n",
       "<table border=\"1\" class=\"dataframe\">\n",
       "  <thead>\n",
       "    <tr style=\"text-align: right;\">\n",
       "      <th></th>\n",
       "      <th>Monetary</th>\n",
       "      <th>Frequency</th>\n",
       "      <th>Recency</th>\n",
       "    </tr>\n",
       "  </thead>\n",
       "  <tbody>\n",
       "    <tr>\n",
       "      <th>count</th>\n",
       "      <td>3920.000000</td>\n",
       "      <td>3920.000000</td>\n",
       "      <td>3920.000000</td>\n",
       "    </tr>\n",
       "    <tr>\n",
       "      <th>mean</th>\n",
       "      <td>1858.424654</td>\n",
       "      <td>89.082398</td>\n",
       "      <td>91.208418</td>\n",
       "    </tr>\n",
       "    <tr>\n",
       "      <th>std</th>\n",
       "      <td>7478.631256</td>\n",
       "      <td>214.034542</td>\n",
       "      <td>99.533854</td>\n",
       "    </tr>\n",
       "    <tr>\n",
       "      <th>min</th>\n",
       "      <td>3.750000</td>\n",
       "      <td>1.000000</td>\n",
       "      <td>0.000000</td>\n",
       "    </tr>\n",
       "    <tr>\n",
       "      <th>25%</th>\n",
       "      <td>298.185000</td>\n",
       "      <td>17.000000</td>\n",
       "      <td>17.000000</td>\n",
       "    </tr>\n",
       "    <tr>\n",
       "      <th>50%</th>\n",
       "      <td>644.975000</td>\n",
       "      <td>40.000000</td>\n",
       "      <td>50.000000</td>\n",
       "    </tr>\n",
       "    <tr>\n",
       "      <th>75%</th>\n",
       "      <td>1571.285000</td>\n",
       "      <td>98.000000</td>\n",
       "      <td>142.000000</td>\n",
       "    </tr>\n",
       "    <tr>\n",
       "      <th>max</th>\n",
       "      <td>259657.300000</td>\n",
       "      <td>7676.000000</td>\n",
       "      <td>373.000000</td>\n",
       "    </tr>\n",
       "  </tbody>\n",
       "</table>\n",
       "</div>"
      ],
      "text/plain": [
       "            Monetary    Frequency      Recency\n",
       "count    3920.000000  3920.000000  3920.000000\n",
       "mean     1858.424654    89.082398    91.208418\n",
       "std      7478.631256   214.034542    99.533854\n",
       "min         3.750000     1.000000     0.000000\n",
       "25%       298.185000    17.000000    17.000000\n",
       "50%       644.975000    40.000000    50.000000\n",
       "75%      1571.285000    98.000000   142.000000\n",
       "max    259657.300000  7676.000000   373.000000"
      ]
     },
     "execution_count": 23,
     "metadata": {},
     "output_type": "execute_result"
    }
   ],
   "source": [
    "# Statistical description of dataframe\n",
    "rfm.describe()"
   ]
  },
  {
   "cell_type": "markdown",
   "metadata": {},
   "source": [
    "The mean is taken as 0 and standard deviation as 1. We will fit only the values that lie within 3 standard deviations from the mean and remove the rest. This process is repeated for all 3 columns."
   ]
  },
  {
   "cell_type": "code",
   "execution_count": 24,
   "metadata": {
    "datalore": {
     "hide_input_from_viewers": false,
     "hide_output_from_viewers": false,
     "type": "CODE"
    }
   },
   "outputs": [
    {
     "data": {
      "text/plain": [
       "(24294.31842285217, -20577.46911468891, 1858.4246540816325, 7478.631256256846)"
      ]
     },
     "execution_count": 24,
     "metadata": {},
     "output_type": "execute_result"
    }
   ],
   "source": [
    "# Set upper limit and lower limit at 3 standard deviations from the mean\n",
    "m_mean=rfm['Monetary'].mean()\n",
    "m_sd=rfm['Monetary'].std()\n",
    "upperl_m=m_mean+3*m_sd\n",
    "lowerl_m=m_mean-3*m_sd\n",
    "upperl_m,lowerl_m,m_mean,m_sd"
   ]
  },
  {
   "cell_type": "code",
   "execution_count": 25,
   "metadata": {
    "datalore": {
     "hide_input_from_viewers": false,
     "hide_output_from_viewers": false,
     "type": "CODE"
    }
   },
   "outputs": [
    {
     "data": {
      "text/html": [
       "<div>\n",
       "<style scoped>\n",
       "    .dataframe tbody tr th:only-of-type {\n",
       "        vertical-align: middle;\n",
       "    }\n",
       "\n",
       "    .dataframe tbody tr th {\n",
       "        vertical-align: top;\n",
       "    }\n",
       "\n",
       "    .dataframe thead th {\n",
       "        text-align: right;\n",
       "    }\n",
       "</style>\n",
       "<table border=\"1\" class=\"dataframe\">\n",
       "  <thead>\n",
       "    <tr style=\"text-align: right;\">\n",
       "      <th></th>\n",
       "      <th>Monetary</th>\n",
       "      <th>Frequency</th>\n",
       "      <th>Recency</th>\n",
       "    </tr>\n",
       "  </thead>\n",
       "  <tbody>\n",
       "    <tr>\n",
       "      <th>count</th>\n",
       "      <td>3887.000000</td>\n",
       "      <td>3887.000000</td>\n",
       "      <td>3887.000000</td>\n",
       "    </tr>\n",
       "    <tr>\n",
       "      <th>mean</th>\n",
       "      <td>1352.646929</td>\n",
       "      <td>81.866478</td>\n",
       "      <td>91.746077</td>\n",
       "    </tr>\n",
       "    <tr>\n",
       "      <th>std</th>\n",
       "      <td>2083.818453</td>\n",
       "      <td>128.558731</td>\n",
       "      <td>99.563190</td>\n",
       "    </tr>\n",
       "    <tr>\n",
       "      <th>min</th>\n",
       "      <td>3.750000</td>\n",
       "      <td>1.000000</td>\n",
       "      <td>0.000000</td>\n",
       "    </tr>\n",
       "    <tr>\n",
       "      <th>25%</th>\n",
       "      <td>295.465000</td>\n",
       "      <td>16.000000</td>\n",
       "      <td>17.000000</td>\n",
       "    </tr>\n",
       "    <tr>\n",
       "      <th>50%</th>\n",
       "      <td>638.050000</td>\n",
       "      <td>40.000000</td>\n",
       "      <td>50.000000</td>\n",
       "    </tr>\n",
       "    <tr>\n",
       "      <th>75%</th>\n",
       "      <td>1533.230000</td>\n",
       "      <td>97.000000</td>\n",
       "      <td>143.000000</td>\n",
       "    </tr>\n",
       "    <tr>\n",
       "      <th>max</th>\n",
       "      <td>21086.300000</td>\n",
       "      <td>2677.000000</td>\n",
       "      <td>373.000000</td>\n",
       "    </tr>\n",
       "  </tbody>\n",
       "</table>\n",
       "</div>"
      ],
      "text/plain": [
       "           Monetary    Frequency      Recency\n",
       "count   3887.000000  3887.000000  3887.000000\n",
       "mean    1352.646929    81.866478    91.746077\n",
       "std     2083.818453   128.558731    99.563190\n",
       "min        3.750000     1.000000     0.000000\n",
       "25%      295.465000    16.000000    17.000000\n",
       "50%      638.050000    40.000000    50.000000\n",
       "75%     1533.230000    97.000000   143.000000\n",
       "max    21086.300000  2677.000000   373.000000"
      ]
     },
     "execution_count": 25,
     "metadata": {},
     "output_type": "execute_result"
    }
   ],
   "source": [
    "# Remove outliers\n",
    "rfm=rfm[(rfm['Monetary']>lowerl_m) & (rfm['Monetary']<upperl_m)] \n",
    "rfm.describe()"
   ]
  },
  {
   "cell_type": "code",
   "execution_count": 26,
   "metadata": {
    "datalore": {
     "hide_input_from_viewers": false,
     "hide_output_from_viewers": false,
     "type": "CODE"
    }
   },
   "outputs": [
    {
     "data": {
      "text/plain": [
       "(467.54267109615193,\n",
       " -303.80971508894845,\n",
       " 81.86647800360176,\n",
       " 128.55873103085005)"
      ]
     },
     "execution_count": 26,
     "metadata": {},
     "output_type": "execute_result"
    }
   ],
   "source": [
    "# Repeat for frequency\n",
    "f_mean=rfm['Frequency'].mean()\n",
    "f_sd=rfm['Frequency'].std()\n",
    "upperl_f=f_mean+3*f_sd\n",
    "lowerl_f=f_mean-3*f_sd\n",
    "upperl_f,lowerl_f,f_mean,f_sd"
   ]
  },
  {
   "cell_type": "code",
   "execution_count": 27,
   "metadata": {
    "datalore": {
     "hide_input_from_viewers": false,
     "hide_output_from_viewers": false,
     "type": "CODE"
    }
   },
   "outputs": [
    {
     "data": {
      "text/html": [
       "<div>\n",
       "<style scoped>\n",
       "    .dataframe tbody tr th:only-of-type {\n",
       "        vertical-align: middle;\n",
       "    }\n",
       "\n",
       "    .dataframe tbody tr th {\n",
       "        vertical-align: top;\n",
       "    }\n",
       "\n",
       "    .dataframe thead th {\n",
       "        text-align: right;\n",
       "    }\n",
       "</style>\n",
       "<table border=\"1\" class=\"dataframe\">\n",
       "  <thead>\n",
       "    <tr style=\"text-align: right;\">\n",
       "      <th></th>\n",
       "      <th>Monetary</th>\n",
       "      <th>Frequency</th>\n",
       "      <th>Recency</th>\n",
       "    </tr>\n",
       "  </thead>\n",
       "  <tbody>\n",
       "    <tr>\n",
       "      <th>count</th>\n",
       "      <td>3816.000000</td>\n",
       "      <td>3816.000000</td>\n",
       "      <td>3816.000000</td>\n",
       "    </tr>\n",
       "    <tr>\n",
       "      <th>mean</th>\n",
       "      <td>1252.649113</td>\n",
       "      <td>69.819969</td>\n",
       "      <td>93.250262</td>\n",
       "    </tr>\n",
       "    <tr>\n",
       "      <th>std</th>\n",
       "      <td>1875.664680</td>\n",
       "      <td>82.122428</td>\n",
       "      <td>99.832045</td>\n",
       "    </tr>\n",
       "    <tr>\n",
       "      <th>min</th>\n",
       "      <td>3.750000</td>\n",
       "      <td>1.000000</td>\n",
       "      <td>0.000000</td>\n",
       "    </tr>\n",
       "    <tr>\n",
       "      <th>25%</th>\n",
       "      <td>290.390000</td>\n",
       "      <td>16.000000</td>\n",
       "      <td>18.000000</td>\n",
       "    </tr>\n",
       "    <tr>\n",
       "      <th>50%</th>\n",
       "      <td>622.130000</td>\n",
       "      <td>39.000000</td>\n",
       "      <td>51.000000</td>\n",
       "    </tr>\n",
       "    <tr>\n",
       "      <th>75%</th>\n",
       "      <td>1445.280000</td>\n",
       "      <td>91.000000</td>\n",
       "      <td>147.000000</td>\n",
       "    </tr>\n",
       "    <tr>\n",
       "      <th>max</th>\n",
       "      <td>21086.300000</td>\n",
       "      <td>467.000000</td>\n",
       "      <td>373.000000</td>\n",
       "    </tr>\n",
       "  </tbody>\n",
       "</table>\n",
       "</div>"
      ],
      "text/plain": [
       "           Monetary    Frequency      Recency\n",
       "count   3816.000000  3816.000000  3816.000000\n",
       "mean    1252.649113    69.819969    93.250262\n",
       "std     1875.664680    82.122428    99.832045\n",
       "min        3.750000     1.000000     0.000000\n",
       "25%      290.390000    16.000000    18.000000\n",
       "50%      622.130000    39.000000    51.000000\n",
       "75%     1445.280000    91.000000   147.000000\n",
       "max    21086.300000   467.000000   373.000000"
      ]
     },
     "execution_count": 27,
     "metadata": {},
     "output_type": "execute_result"
    }
   ],
   "source": [
    "rfm=rfm[(rfm['Frequency']>lowerl_f) & (rfm['Frequency']<upperl_f)] \n",
    "rfm.describe()"
   ]
  },
  {
   "cell_type": "code",
   "execution_count": 28,
   "metadata": {
    "datalore": {
     "hide_input_from_viewers": false,
     "hide_output_from_viewers": false,
     "type": "CODE"
    }
   },
   "outputs": [
    {
     "data": {
      "text/plain": [
       "(392.7463972429747, -206.24587313396, 93.25026205450733, 99.83204506282244)"
      ]
     },
     "execution_count": 28,
     "metadata": {},
     "output_type": "execute_result"
    }
   ],
   "source": [
    "# Repeat for Recency\n",
    "r_mean=rfm['Recency'].mean()\n",
    "r_sd=rfm['Recency'].std()\n",
    "upperl_r=r_mean+3*r_sd\n",
    "lowerl_r=r_mean-3*r_sd\n",
    "upperl_r,lowerl_r,r_mean,r_sd"
   ]
  },
  {
   "cell_type": "code",
   "execution_count": 29,
   "metadata": {
    "datalore": {
     "hide_input_from_viewers": false,
     "hide_output_from_viewers": false,
     "type": "CODE"
    }
   },
   "outputs": [
    {
     "name": "stdout",
     "output_type": "stream",
     "text": [
      "<class 'pandas.core.frame.DataFrame'>\n",
      "Int64Index: 3816 entries, 1 to 3919\n",
      "Data columns (total 4 columns):\n",
      " #   Column      Non-Null Count  Dtype  \n",
      "---  ------      --------------  -----  \n",
      " 0   CustomerID  3816 non-null   object \n",
      " 1   Monetary    3816 non-null   float64\n",
      " 2   Frequency   3816 non-null   int64  \n",
      " 3   Recency     3816 non-null   int64  \n",
      "dtypes: float64(1), int64(2), object(1)\n",
      "memory usage: 149.1+ KB\n"
     ]
    },
    {
     "data": {
      "text/html": [
       "<div>\n",
       "<style scoped>\n",
       "    .dataframe tbody tr th:only-of-type {\n",
       "        vertical-align: middle;\n",
       "    }\n",
       "\n",
       "    .dataframe tbody tr th {\n",
       "        vertical-align: top;\n",
       "    }\n",
       "\n",
       "    .dataframe thead th {\n",
       "        text-align: right;\n",
       "    }\n",
       "</style>\n",
       "<table border=\"1\" class=\"dataframe\">\n",
       "  <thead>\n",
       "    <tr style=\"text-align: right;\">\n",
       "      <th></th>\n",
       "      <th>CustomerID</th>\n",
       "      <th>Monetary</th>\n",
       "      <th>Frequency</th>\n",
       "      <th>Recency</th>\n",
       "    </tr>\n",
       "  </thead>\n",
       "  <tbody>\n",
       "    <tr>\n",
       "      <th>1</th>\n",
       "      <td>12747.0</td>\n",
       "      <td>4196.01</td>\n",
       "      <td>103</td>\n",
       "      <td>1</td>\n",
       "    </tr>\n",
       "    <tr>\n",
       "      <th>3</th>\n",
       "      <td>12749.0</td>\n",
       "      <td>4090.88</td>\n",
       "      <td>199</td>\n",
       "      <td>3</td>\n",
       "    </tr>\n",
       "    <tr>\n",
       "      <th>4</th>\n",
       "      <td>12820.0</td>\n",
       "      <td>942.34</td>\n",
       "      <td>59</td>\n",
       "      <td>2</td>\n",
       "    </tr>\n",
       "    <tr>\n",
       "      <th>5</th>\n",
       "      <td>12821.0</td>\n",
       "      <td>92.72</td>\n",
       "      <td>6</td>\n",
       "      <td>213</td>\n",
       "    </tr>\n",
       "    <tr>\n",
       "      <th>6</th>\n",
       "      <td>12822.0</td>\n",
       "      <td>948.88</td>\n",
       "      <td>46</td>\n",
       "      <td>70</td>\n",
       "    </tr>\n",
       "  </tbody>\n",
       "</table>\n",
       "</div>"
      ],
      "text/plain": [
       "  CustomerID  Monetary  Frequency  Recency\n",
       "1    12747.0   4196.01        103        1\n",
       "3    12749.0   4090.88        199        3\n",
       "4    12820.0    942.34         59        2\n",
       "5    12821.0     92.72          6      213\n",
       "6    12822.0    948.88         46       70"
      ]
     },
     "execution_count": 29,
     "metadata": {},
     "output_type": "execute_result"
    }
   ],
   "source": [
    "rfm.info()\n",
    "rfm.head()"
   ]
  },
  {
   "cell_type": "markdown",
   "metadata": {},
   "source": [
    "## K-Means Clustering\n",
    "\n",
    "K-Means algorithm assumes symmertical distribution and normalized variables.\n",
    "\n",
    "- In case the variables are not symmetrically distributed, since all values are positive, we can apply log transformation.\n",
    "- If the mean and variables are not equal, the variables could be normalized using Min-Max normalization. "
   ]
  },
  {
   "cell_type": "code",
   "execution_count": 30,
   "metadata": {},
   "outputs": [],
   "source": [
    "# measure skewness\n",
    "def skewness_measure(df, column):\n",
    "    skew = stats.skew(df[column])\n",
    "    skewtest = stats.skewtest(df[column])\n",
    "    plt.title('Distribution of ' + column)\n",
    "    sns.distplot(df[column])\n",
    "    print(\"{}'s: Skew: {}, : {}\".format(column, skew, skewtest))\n",
    "    return "
   ]
  },
  {
   "cell_type": "code",
   "execution_count": 31,
   "metadata": {},
   "outputs": [
    {
     "name": "stdout",
     "output_type": "stream",
     "text": [
      "Recency's: Skew: 1.217276495560285, : SkewtestResult(statistic=24.566687218671124, pvalue=2.8688868188306188e-133)\n",
      "Frequency's: Skew: 2.139498393651452, : SkewtestResult(statistic=34.93427049128807, pvalue=2.244572451154113e-267)\n"
     ]
    },
    {
     "name": "stderr",
     "output_type": "stream",
     "text": [
      "C:\\Anaconda\\lib\\site-packages\\seaborn\\distributions.py:2619: FutureWarning: `distplot` is a deprecated function and will be removed in a future version. Please adapt your code to use either `displot` (a figure-level function with similar flexibility) or `histplot` (an axes-level function for histograms).\n",
      "  warnings.warn(msg, FutureWarning)\n",
      "C:\\Anaconda\\lib\\site-packages\\seaborn\\distributions.py:2619: FutureWarning: `distplot` is a deprecated function and will be removed in a future version. Please adapt your code to use either `displot` (a figure-level function with similar flexibility) or `histplot` (an axes-level function for histograms).\n",
      "  warnings.warn(msg, FutureWarning)\n",
      "C:\\Anaconda\\lib\\site-packages\\seaborn\\distributions.py:2619: FutureWarning: `distplot` is a deprecated function and will be removed in a future version. Please adapt your code to use either `displot` (a figure-level function with similar flexibility) or `histplot` (an axes-level function for histograms).\n",
      "  warnings.warn(msg, FutureWarning)\n"
     ]
    },
    {
     "name": "stdout",
     "output_type": "stream",
     "text": [
      "Monetary's: Skew: 4.26118567689371, : SkewtestResult(statistic=48.659926664078775, pvalue=0.0)\n"
     ]
    }
   ],
   "source": [
    "# Plot skewness of all variables\n",
    "plt.figure(figsize=(9, 9))\n",
    "\n",
    "plt.subplot(3, 1, 1)\n",
    "skewness_measure(rfm,'Recency')\n",
    "\n",
    "plt.subplot(3, 1, 2)\n",
    "skewness_measure(rfm,'Frequency')\n",
    "\n",
    "plt.subplot(3, 1, 3)\n",
    "skewness_measure(rfm,'Monetary')\n",
    "\n",
    "plt.tight_layout()\n",
    "plt.savefig('before_transform.png', format='png', dpi=250)"
   ]
  },
  {
   "cell_type": "code",
   "execution_count": 32,
   "metadata": {},
   "outputs": [],
   "source": [
    "#log transformation\n",
    "rfm_rlog = np.log(rfm['Recency']+0.1) #can't take log(0) and so add a small number\n",
    "rfm_flog = np.log(rfm['Frequency'])\n",
    "rfm_mlog = np.log(rfm['Monetary']+0.1)"
   ]
  },
  {
   "cell_type": "markdown",
   "metadata": {},
   "source": [
    "Now let's plot the skewness after log transform."
   ]
  },
  {
   "cell_type": "code",
   "execution_count": 33,
   "metadata": {},
   "outputs": [
    {
     "name": "stderr",
     "output_type": "stream",
     "text": [
      "C:\\Anaconda\\lib\\site-packages\\seaborn\\distributions.py:2619: FutureWarning: `distplot` is a deprecated function and will be removed in a future version. Please adapt your code to use either `displot` (a figure-level function with similar flexibility) or `histplot` (an axes-level function for histograms).\n",
      "  warnings.warn(msg, FutureWarning)\n",
      "C:\\Anaconda\\lib\\site-packages\\seaborn\\distributions.py:2619: FutureWarning: `distplot` is a deprecated function and will be removed in a future version. Please adapt your code to use either `displot` (a figure-level function with similar flexibility) or `histplot` (an axes-level function for histograms).\n",
      "  warnings.warn(msg, FutureWarning)\n",
      "C:\\Anaconda\\lib\\site-packages\\seaborn\\distributions.py:2619: FutureWarning: `distplot` is a deprecated function and will be removed in a future version. Please adapt your code to use either `displot` (a figure-level function with similar flexibility) or `histplot` (an axes-level function for histograms).\n",
      "  warnings.warn(msg, FutureWarning)\n"
     ]
    },
    {
     "name": "stdout",
     "output_type": "stream",
     "text": [
      "Recency's: Skew: -1.1882590353698503, : SkewtestResult(statistic=-24.15402941208342, pvalue=6.773102489251262e-129)\n",
      "Frequency's: Skew: -0.4339450180864357, : SkewtestResult(statistic=-10.507635524591295, pvalue=7.966586177943693e-26)\n",
      "Monetary's: Skew: 0.05981899692414256, : SkewtestResult(statistic=1.5101877210017653, pvalue=0.13099553096772962)\n"
     ]
    }
   ],
   "source": [
    "log_rfm = pd.DataFrame({'Monetary': rfm_mlog,'Recency': rfm_rlog,'Frequency': rfm_flog})\n",
    "\n",
    "# Plot skewness of all variables\n",
    "plt.figure(figsize=(9, 9))\n",
    "\n",
    "plt.subplot(3, 1, 1)\n",
    "skewness_measure(log_rfm,'Recency')\n",
    "\n",
    "plt.subplot(3, 1, 2)\n",
    "skewness_measure(log_rfm,'Frequency')\n",
    "\n",
    "plt.subplot(3, 1, 3)\n",
    "skewness_measure(log_rfm,'Monetary')\n",
    "\n",
    "plt.tight_layout()\n",
    "plt.savefig('after_transform.png', format='png', dpi=250)"
   ]
  },
  {
   "cell_type": "markdown",
   "metadata": {},
   "source": [
    "Now, to standardize the data, we will remove mean and scale to unit variance. "
   ]
  },
  {
   "cell_type": "code",
   "execution_count": 34,
   "metadata": {
    "datalore": {
     "hide_input_from_viewers": false,
     "hide_output_from_viewers": false,
     "type": "CODE"
    }
   },
   "outputs": [
    {
     "data": {
      "text/plain": [
       "(3816, 3)"
      ]
     },
     "execution_count": 34,
     "metadata": {},
     "output_type": "execute_result"
    }
   ],
   "source": [
    "# Rescaling the attributes\n",
    "rfm_reshaped = log_rfm[['Monetary', 'Frequency', 'Recency']]\n",
    "\n",
    "# Instantiate\n",
    "scaler = StandardScaler()\n",
    "\n",
    "# fit_transform\n",
    "rfm_df_scaled = scaler.fit_transform(rfm_reshaped)\n",
    "rfm_df_scaled.shape"
   ]
  },
  {
   "cell_type": "code",
   "execution_count": 35,
   "metadata": {
    "datalore": {
     "hide_input_from_viewers": false,
     "hide_output_from_viewers": false,
     "type": "CODE"
    }
   },
   "outputs": [
    {
     "data": {
      "text/html": [
       "<div>\n",
       "<style scoped>\n",
       "    .dataframe tbody tr th:only-of-type {\n",
       "        vertical-align: middle;\n",
       "    }\n",
       "\n",
       "    .dataframe tbody tr th {\n",
       "        vertical-align: top;\n",
       "    }\n",
       "\n",
       "    .dataframe thead th {\n",
       "        text-align: right;\n",
       "    }\n",
       "</style>\n",
       "<table border=\"1\" class=\"dataframe\">\n",
       "  <thead>\n",
       "    <tr style=\"text-align: right;\">\n",
       "      <th></th>\n",
       "      <th>Monetary</th>\n",
       "      <th>Frequency</th>\n",
       "      <th>Recency</th>\n",
       "    </tr>\n",
       "  </thead>\n",
       "  <tbody>\n",
       "    <tr>\n",
       "      <th>0</th>\n",
       "      <td>1.622201</td>\n",
       "      <td>0.830796</td>\n",
       "      <td>-2.261574</td>\n",
       "    </tr>\n",
       "    <tr>\n",
       "      <th>1</th>\n",
       "      <td>1.600304</td>\n",
       "      <td>1.351598</td>\n",
       "      <td>-1.615766</td>\n",
       "    </tr>\n",
       "    <tr>\n",
       "      <th>2</th>\n",
       "      <td>0.333427</td>\n",
       "      <td>0.390170</td>\n",
       "      <td>-1.858524</td>\n",
       "    </tr>\n",
       "    <tr>\n",
       "      <th>3</th>\n",
       "      <td>-1.666741</td>\n",
       "      <td>-1.417423</td>\n",
       "      <td>1.021067</td>\n",
       "    </tr>\n",
       "    <tr>\n",
       "      <th>4</th>\n",
       "      <td>0.339395</td>\n",
       "      <td>0.193343</td>\n",
       "      <td>0.328045</td>\n",
       "    </tr>\n",
       "  </tbody>\n",
       "</table>\n",
       "</div>"
      ],
      "text/plain": [
       "   Monetary  Frequency   Recency\n",
       "0  1.622201   0.830796 -2.261574\n",
       "1  1.600304   1.351598 -1.615766\n",
       "2  0.333427   0.390170 -1.858524\n",
       "3 -1.666741  -1.417423  1.021067\n",
       "4  0.339395   0.193343  0.328045"
      ]
     },
     "execution_count": 35,
     "metadata": {},
     "output_type": "execute_result"
    }
   ],
   "source": [
    "# Make dataframe and name colums\n",
    "rfm_scaled = pd.DataFrame(rfm_df_scaled)\n",
    "rfm_scaled.columns = ['Monetary', 'Frequency', 'Recency']\n",
    "rfm_scaled.head()"
   ]
  },
  {
   "cell_type": "markdown",
   "metadata": {},
   "source": [
    "To find optimum clusters, we will plot the elbow curve and pick the k at the elbow. "
   ]
  },
  {
   "cell_type": "code",
   "execution_count": 36,
   "metadata": {
    "datalore": {
     "hide_input_from_viewers": false,
     "hide_output_from_viewers": false,
     "type": "CODE"
    }
   },
   "outputs": [],
   "source": [
    "# Calculate SSE to find optimum number of clusters\n",
    "sse = []\n",
    "k_rng = range(1,11)\n",
    "for k in k_rng:\n",
    "    km = KMeans(n_clusters=k,init='k-means++')\n",
    "    km.fit(rfm_scaled[['Monetary', 'Frequency', 'Recency']])\n",
    "    sse.append(km.inertia_)"
   ]
  },
  {
   "cell_type": "code",
   "execution_count": 37,
   "metadata": {
    "datalore": {
     "hide_input_from_viewers": false,
     "hide_output_from_viewers": false,
     "type": "CODE"
    }
   },
   "outputs": [
    {
     "data": {
      "application/vnd.jupyter.widget-view+json": {
       "model_id": "7fe239d368774169b75ac858ab9133be",
       "version_major": 2,
       "version_minor": 0
      },
      "image/png": "[encoded data removed]",
      "text/html": [
       "\n",
       "            <div style=\"display: inline-block;\">\n",
       "                <div class=\"jupyter-widgets widget-label\" style=\"text-align: center;\">\n",
       "                    Figure\n",
       "                </div>\n",
       "                <img src='data:image/png;base64,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' width=640.0/>\n",
       "            </div>\n",
       "        "
      ],
      "text/plain": [
       "Canvas(toolbar=Toolbar(toolitems=[('Home', 'Reset original view', 'home', 'home'), ('Back', 'Back to previous …"
      ]
     },
     "metadata": {},
     "output_type": "display_data"
    }
   ],
   "source": [
    "# Plot elbow plot to find k\n",
    "fig, ax = plt.subplots()\n",
    "plt.xlabel('K')\n",
    "plt.ylabel('Sum of squared error')\n",
    "plt.plot(k_rng,sse)\n",
    "plt.show()"
   ]
  },
  {
   "cell_type": "markdown",
   "metadata": {},
   "source": [
    "The elbow appears at 2 clusters. So, we will take k=2."
   ]
  },
  {
   "cell_type": "code",
   "execution_count": 38,
   "metadata": {
    "datalore": {
     "hide_input_from_viewers": false,
     "hide_output_from_viewers": false,
     "type": "CODE"
    }
   },
   "outputs": [
    {
     "data": {
      "text/plain": [
       "array([0, 0, 0, ..., 1, 1, 0])"
      ]
     },
     "execution_count": 38,
     "metadata": {},
     "output_type": "execute_result"
    }
   ],
   "source": [
    "# Perform K-Means clustering on normalized data\n",
    "km = KMeans(n_clusters=2)\n",
    "y_predicted = km.fit_predict(rfm_scaled[['Monetary', 'Frequency', 'Recency']])\n",
    "y_predicted"
   ]
  },
  {
   "cell_type": "code",
   "execution_count": 39,
   "metadata": {
    "datalore": {
     "hide_input_from_viewers": false,
     "hide_output_from_viewers": false,
     "type": "CODE"
    }
   },
   "outputs": [
    {
     "data": {
      "text/plain": [
       "array([[ 0.79848919,  0.79391165, -0.599741  ],\n",
       "       [-0.67993621, -0.6760383 ,  0.51069649]])"
      ]
     },
     "execution_count": 39,
     "metadata": {},
     "output_type": "execute_result"
    }
   ],
   "source": [
    "# Display cluster centers\n",
    "km.cluster_centers_"
   ]
  },
  {
   "cell_type": "code",
   "execution_count": 40,
   "metadata": {
    "datalore": {
     "hide_input_from_viewers": false,
     "hide_output_from_viewers": false,
     "type": "CODE"
    }
   },
   "outputs": [
    {
     "data": {
      "text/html": [
       "<div>\n",
       "<style scoped>\n",
       "    .dataframe tbody tr th:only-of-type {\n",
       "        vertical-align: middle;\n",
       "    }\n",
       "\n",
       "    .dataframe tbody tr th {\n",
       "        vertical-align: top;\n",
       "    }\n",
       "\n",
       "    .dataframe thead th {\n",
       "        text-align: right;\n",
       "    }\n",
       "</style>\n",
       "<table border=\"1\" class=\"dataframe\">\n",
       "  <thead>\n",
       "    <tr style=\"text-align: right;\">\n",
       "      <th></th>\n",
       "      <th>Monetary</th>\n",
       "      <th>Frequency</th>\n",
       "      <th>Recency</th>\n",
       "      <th>Cluster</th>\n",
       "    </tr>\n",
       "  </thead>\n",
       "  <tbody>\n",
       "    <tr>\n",
       "      <th>0</th>\n",
       "      <td>1.622201</td>\n",
       "      <td>0.830796</td>\n",
       "      <td>-2.261574</td>\n",
       "      <td>0</td>\n",
       "    </tr>\n",
       "    <tr>\n",
       "      <th>1</th>\n",
       "      <td>1.600304</td>\n",
       "      <td>1.351598</td>\n",
       "      <td>-1.615766</td>\n",
       "      <td>0</td>\n",
       "    </tr>\n",
       "    <tr>\n",
       "      <th>2</th>\n",
       "      <td>0.333427</td>\n",
       "      <td>0.390170</td>\n",
       "      <td>-1.858524</td>\n",
       "      <td>0</td>\n",
       "    </tr>\n",
       "    <tr>\n",
       "      <th>3</th>\n",
       "      <td>-1.666741</td>\n",
       "      <td>-1.417423</td>\n",
       "      <td>1.021067</td>\n",
       "      <td>1</td>\n",
       "    </tr>\n",
       "    <tr>\n",
       "      <th>4</th>\n",
       "      <td>0.339395</td>\n",
       "      <td>0.193343</td>\n",
       "      <td>0.328045</td>\n",
       "      <td>0</td>\n",
       "    </tr>\n",
       "  </tbody>\n",
       "</table>\n",
       "</div>"
      ],
      "text/plain": [
       "   Monetary  Frequency   Recency  Cluster\n",
       "0  1.622201   0.830796 -2.261574        0\n",
       "1  1.600304   1.351598 -1.615766        0\n",
       "2  0.333427   0.390170 -1.858524        0\n",
       "3 -1.666741  -1.417423  1.021067        1\n",
       "4  0.339395   0.193343  0.328045        0"
      ]
     },
     "execution_count": 40,
     "metadata": {},
     "output_type": "execute_result"
    }
   ],
   "source": [
    "# Add clusters to dataset\n",
    "rfm_scaled['Cluster']=y_predicted\n",
    "rfm_scaled.head()"
   ]
  },
  {
   "cell_type": "code",
   "execution_count": 41,
   "metadata": {},
   "outputs": [],
   "source": [
    "rfm1=rfm_scaled[rfm_scaled['Cluster']==0]\n",
    "rfm2=rfm_scaled[rfm_scaled['Cluster']==1]"
   ]
  },
  {
   "cell_type": "markdown",
   "metadata": {},
   "source": [
    "Now, we can plot the clusters we obtained from K-Means clustering."
   ]
  },
  {
   "cell_type": "code",
   "execution_count": 42,
   "metadata": {
    "datalore": {
     "hide_input_from_viewers": false,
     "hide_output_from_viewers": false,
     "type": "CODE"
    }
   },
   "outputs": [],
   "source": [
    "sns.set(style = \"darkgrid\")\n",
    "fig = plt.figure()\n",
    "ax = fig.add_subplot(111, projection='3d')\n",
    "ax.scatter3D(rfm1.Monetary, rfm1.Frequency, rfm1.Recency, c='#58508d', label = 'Cluster 1')\n",
    "ax.scatter3D(rfm2.Monetary, rfm2.Frequency, rfm2.Recency, c='#bc5090', label = 'Cluster 2')\n",
    "ax.set_xlabel(\"Monetary\",fontsize=12)\n",
    "ax.set_ylabel(\"Frequency\",fontsize=12)\n",
    "ax.set_zlabel(\"Recency\",fontsize=12)\n",
    "plt.title(\"RFM\",fontsize=18)\n",
    "plt.legend(bbox_to_anchor=(1.0,1.0),prop={'size': 12})\n",
    "plt.tight_layout()\n",
    "plt.savefig('clusters.png', format='png', dpi=250)"
   ]
  },
  {
   "cell_type": "markdown",
   "metadata": {},
   "source": [
    "## Conclusion\n",
    "\n",
    "For the purpose of the following analysis, it is safe to assume that there is no correlation between the products bought and the customer cluster. The influence of products and geographical factors can be studied in a different study.\n",
    "\n",
    "**Some reccomendations**:\n",
    "- The cancelled orders can all be dealt with uniformly. In this case, while some cancelled orders were represented by the letter 'C' in the invoice number, the others were represented by negative feilds for unit price or quantity.\n",
    "- Duplicates can be avoided.\n",
    "- Null entries are to be reevaluated. "
   ]
  },
  {
   "cell_type": "code",
   "execution_count": null,
   "metadata": {},
   "outputs": [],
   "source": []
  }
 ],
 "metadata": {
  "datalore": {
   "base_environment": "default",
   "computation_mode": "JUPYTER",
   "package_manager": "pip",
   "packages": [
    {
     "name": "openpyxl",
     "source": "PIP",
     "version": "3.2.0b1"
    },
    {
     "name": "mlxtend",
     "source": "PIP",
     "version": "0.20.0"
    },
    {
     "name": "ipympl",
     "source": "PIP",
     "version": "0.9.1"
    }
   ],
   "version": 1
  },
  "kernelspec": {
   "display_name": "Python 3 (ipykernel)",
   "language": "python",
   "name": "python3"
  },
  "language_info": {
   "codemirror_mode": {
    "name": "ipython",
    "version": 3
   },
   "file_extension": ".py",
   "mimetype": "text/x-python",
   "name": "python",
   "nbconvert_exporter": "python",
   "pygments_lexer": "ipython3",
   "version": "3.9.7"
  }
 },
 "nbformat": 4,
 "nbformat_minor": 4
}
