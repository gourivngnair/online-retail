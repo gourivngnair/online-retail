{
 "cells": [
  {
   "cell_type": "markdown",
   "metadata": {},
   "source": [
    "# RFM Analysis on Online-Retail Dataset"
   ]
  },
  {
   "cell_type": "code",
   "execution_count": 1,
   "metadata": {
    "datalore": {
     "hide_input_from_viewers": false,
     "hide_output_from_viewers": false,
     "type": "CODE"
    }
   },
   "outputs": [],
   "source": [
    "# Import libraries needed for preprocessing and visualization\n",
    "import pandas as pd\n",
    "import matplotlib.pyplot as plt\n",
    "import ipympl\n",
    "import seaborn as sns\n",
    "from scipy import stats\n",
    "import numpy as np\n",
    "\n",
    "\n",
    "# Import libraries needed for Clustering  \n",
    "from sklearn.preprocessing import StandardScaler\n",
    "from sklearn.cluster import KMeans"
   ]
  },
  {
   "cell_type": "markdown",
   "metadata": {},
   "source": [
    "## Read the dataset\n",
    "\n",
    "The Online-Retail dataset from the UCI Machine Learning Repository contains information regaring online transactions made in a company from 01/12/2010 and 09/12/2011."
   ]
  },
  {
   "cell_type": "code",
   "execution_count": 2,
   "metadata": {
    "datalore": {
     "hide_input_from_viewers": false,
     "hide_output_from_viewers": false,
     "type": "CODE"
    }
   },
   "outputs": [
    {
     "data": {
      "text/html": [
       "<div>\n",
       "<style scoped>\n",
       "    .dataframe tbody tr th:only-of-type {\n",
       "        vertical-align: middle;\n",
       "    }\n",
       "\n",
       "    .dataframe tbody tr th {\n",
       "        vertical-align: top;\n",
       "    }\n",
       "\n",
       "    .dataframe thead th {\n",
       "        text-align: right;\n",
       "    }\n",
       "</style>\n",
       "<table border=\"1\" class=\"dataframe\">\n",
       "  <thead>\n",
       "    <tr style=\"text-align: right;\">\n",
       "      <th></th>\n",
       "      <th>InvoiceNo</th>\n",
       "      <th>StockCode</th>\n",
       "      <th>Description</th>\n",
       "      <th>Quantity</th>\n",
       "      <th>InvoiceDate</th>\n",
       "      <th>UnitPrice</th>\n",
       "      <th>CustomerID</th>\n",
       "      <th>Country</th>\n",
       "    </tr>\n",
       "  </thead>\n",
       "  <tbody>\n",
       "    <tr>\n",
       "      <th>0</th>\n",
       "      <td>536365</td>\n",
       "      <td>85123A</td>\n",
       "      <td>WHITE HANGING HEART T-LIGHT HOLDER</td>\n",
       "      <td>6</td>\n",
       "      <td>2010-12-01 08:26:00</td>\n",
       "      <td>2.55</td>\n",
       "      <td>17850.0</td>\n",
       "      <td>United Kingdom</td>\n",
       "    </tr>\n",
       "    <tr>\n",
       "      <th>1</th>\n",
       "      <td>536365</td>\n",
       "      <td>71053</td>\n",
       "      <td>WHITE METAL LANTERN</td>\n",
       "      <td>6</td>\n",
       "      <td>2010-12-01 08:26:00</td>\n",
       "      <td>3.39</td>\n",
       "      <td>17850.0</td>\n",
       "      <td>United Kingdom</td>\n",
       "    </tr>\n",
       "    <tr>\n",
       "      <th>2</th>\n",
       "      <td>536365</td>\n",
       "      <td>84406B</td>\n",
       "      <td>CREAM CUPID HEARTS COAT HANGER</td>\n",
       "      <td>8</td>\n",
       "      <td>2010-12-01 08:26:00</td>\n",
       "      <td>2.75</td>\n",
       "      <td>17850.0</td>\n",
       "      <td>United Kingdom</td>\n",
       "    </tr>\n",
       "    <tr>\n",
       "      <th>3</th>\n",
       "      <td>536365</td>\n",
       "      <td>84029G</td>\n",
       "      <td>KNITTED UNION FLAG HOT WATER BOTTLE</td>\n",
       "      <td>6</td>\n",
       "      <td>2010-12-01 08:26:00</td>\n",
       "      <td>3.39</td>\n",
       "      <td>17850.0</td>\n",
       "      <td>United Kingdom</td>\n",
       "    </tr>\n",
       "    <tr>\n",
       "      <th>4</th>\n",
       "      <td>536365</td>\n",
       "      <td>84029E</td>\n",
       "      <td>RED WOOLLY HOTTIE WHITE HEART.</td>\n",
       "      <td>6</td>\n",
       "      <td>2010-12-01 08:26:00</td>\n",
       "      <td>3.39</td>\n",
       "      <td>17850.0</td>\n",
       "      <td>United Kingdom</td>\n",
       "    </tr>\n",
       "  </tbody>\n",
       "</table>\n",
       "</div>"
      ],
      "text/plain": [
       "  InvoiceNo StockCode                          Description  Quantity  \\\n",
       "0    536365    85123A   WHITE HANGING HEART T-LIGHT HOLDER         6   \n",
       "1    536365     71053                  WHITE METAL LANTERN         6   \n",
       "2    536365    84406B       CREAM CUPID HEARTS COAT HANGER         8   \n",
       "3    536365    84029G  KNITTED UNION FLAG HOT WATER BOTTLE         6   \n",
       "4    536365    84029E       RED WOOLLY HOTTIE WHITE HEART.         6   \n",
       "\n",
       "          InvoiceDate  UnitPrice  CustomerID         Country  \n",
       "0 2010-12-01 08:26:00       2.55     17850.0  United Kingdom  \n",
       "1 2010-12-01 08:26:00       3.39     17850.0  United Kingdom  \n",
       "2 2010-12-01 08:26:00       2.75     17850.0  United Kingdom  \n",
       "3 2010-12-01 08:26:00       3.39     17850.0  United Kingdom  \n",
       "4 2010-12-01 08:26:00       3.39     17850.0  United Kingdom  "
      ]
     },
     "execution_count": 2,
     "metadata": {},
     "output_type": "execute_result"
    }
   ],
   "source": [
    "# Read the data on which analysis needs to be done and display first 5 entries\n",
    "data='Online Retail.xlsx'\n",
    "df_retail=pd.read_excel(data)\n",
    "df_retail.head()"
   ]
  },
  {
   "cell_type": "markdown",
   "metadata": {},
   "source": [
    "## Exploratory Data Analysis\n",
    "\n",
    "For the purpose of RFM analysis, we only require the customer ID, number of items and its unit price, number of transactions and the date of order. "
   ]
  },
  {
   "cell_type": "code",
   "execution_count": 3,
   "metadata": {
    "datalore": {
     "hide_input_from_viewers": false,
     "hide_output_from_viewers": false,
     "type": "CODE"
    }
   },
   "outputs": [
    {
     "name": "stdout",
     "output_type": "stream",
     "text": [
      "<class 'pandas.core.frame.DataFrame'>\n",
      "RangeIndex: 541909 entries, 0 to 541908\n",
      "Data columns (total 8 columns):\n",
      " #   Column       Non-Null Count   Dtype         \n",
      "---  ------       --------------   -----         \n",
      " 0   InvoiceNo    541909 non-null  object        \n",
      " 1   StockCode    541909 non-null  object        \n",
      " 2   Description  540455 non-null  object        \n",
      " 3   Quantity     541909 non-null  int64         \n",
      " 4   InvoiceDate  541909 non-null  datetime64[ns]\n",
      " 5   UnitPrice    541909 non-null  float64       \n",
      " 6   CustomerID   406829 non-null  float64       \n",
      " 7   Country      541909 non-null  object        \n",
      "dtypes: datetime64[ns](1), float64(2), int64(1), object(4)\n",
      "memory usage: 33.1+ MB\n"
     ]
    }
   ],
   "source": [
    "# Displays datatype, number of non null values and general properties of fields\n",
    "df_retail.info() "
   ]
  },
  {
   "cell_type": "markdown",
   "metadata": {},
   "source": [
    "We can see that number of non null values in customer ID and Description is lower than the rest of the columns, thus there exists null values in both. For puropses of customer segmentation, description is not relevant and hence the entries with null values for it need not be removed. "
   ]
  },
  {
   "cell_type": "code",
   "execution_count": 4,
   "metadata": {
    "datalore": {
     "hide_input_from_viewers": false,
     "hide_output_from_viewers": false,
     "type": "CODE"
    }
   },
   "outputs": [
    {
     "name": "stdout",
     "output_type": "stream",
     "text": [
      "The number of null entries for CustomerID is : 135080\n"
     ]
    }
   ],
   "source": [
    "# Number of null entries in customer ID\n",
    "print(\"The number of null entries for CustomerID is : {}\".format(df_retail['CustomerID'].isna().sum()))"
   ]
  },
  {
   "cell_type": "code",
   "execution_count": 5,
   "metadata": {
    "datalore": {
     "hide_input_from_viewers": false,
     "hide_output_from_viewers": false,
     "type": "CODE"
    }
   },
   "outputs": [
    {
     "name": "stdout",
     "output_type": "stream",
     "text": [
      "The number of duplicate entries : 5268\n"
     ]
    }
   ],
   "source": [
    "# Checks the number of duplicates\n",
    "print(\"The number of duplicate entries : {}\".format(df_retail.duplicated().sum())) "
   ]
  },
  {
   "cell_type": "markdown",
   "metadata": {},
   "source": [
    "The country wise distribution can be helpful to further filter out data. "
   ]
  },
  {
   "cell_type": "code",
   "execution_count": 6,
   "metadata": {
    "datalore": {
     "hide_input_from_viewers": false,
     "hide_output_from_viewers": false,
     "type": "CODE"
    },
    "tags": []
   },
   "outputs": [
    {
     "data": {
      "application/vnd.jupyter.widget-view+json": {
       "model_id": "657c0405c3994cd183d635a2459d08fd",
       "version_major": 2,
       "version_minor": 0
      },
      "image/png": "[encoded data removed]",
      "text/html": [
       "\n",
       "            <div style=\"display: inline-block;\">\n",
       "                <div class=\"jupyter-widgets widget-label\" style=\"text-align: center;\">\n",
       "                    Figure\n",
       "                </div>\n",
       "                <img src='data:image/png;base64,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' width=1000.0/>\n",
       "            </div>\n",
       "        "
      ],
      "text/plain": [
       "Canvas(toolbar=Toolbar(toolitems=[('Home', 'Reset original view', 'home', 'home'), ('Back', 'Back to previous …"
      ]
     },
     "metadata": {},
     "output_type": "display_data"
    }
   ],
   "source": [
    "fig, ax = plt.subplots(figsize=(10,10))\n",
    "country_counts = df_retail['Country'].value_counts()\n",
    "country_counts=country_counts.reset_index()\n",
    "country_counts.columns=['Country','Count']\n",
    "ax=sns.barplot(x='Country', y='Count',data=country_counts.head(10),estimator=max,ax=ax)\n",
    "ax.set_xticklabels(ax.get_xticklabels(), rotation=45)\n",
    "ax.set_title('Transactions in top 10 countries', fontsize = 14)\n",
    "plt.show()"
   ]
  },
  {
   "cell_type": "markdown",
   "metadata": {},
   "source": [
    "A large majority of orders are from the United Kingdom. Hence, for the purpose of this study, we can safely reject data points belonging to other countries"
   ]
  },
  {
   "cell_type": "markdown",
   "metadata": {},
   "source": [
    "## Data Preprocessing\n",
    "**Some insights made so far**:\n",
    "- There exists 133252 null entries in CustomerID.\n",
    "- There are 5268 duplicate entries.\n",
    "- Most of the entries are from the UK.\n",
    "\n",
    "First, the duplicate entries, entries with Country other than UK and entries with null values for CustomerID will be dropped."
   ]
  },
  {
   "cell_type": "code",
   "execution_count": 7,
   "metadata": {
    "datalore": {
     "hide_input_from_viewers": false,
     "hide_output_from_viewers": false,
     "type": "CODE"
    }
   },
   "outputs": [
    {
     "data": {
      "text/plain": [
       "0"
      ]
     },
     "execution_count": 7,
     "metadata": {},
     "output_type": "execute_result"
    }
   ],
   "source": [
    "# Removes all duplicates keeping the first instance\n",
    "df_retail.drop_duplicates(keep='first',inplace=True) \n",
    "df_retail.duplicated().sum()"
   ]
  },
  {
   "cell_type": "code",
   "execution_count": 8,
   "metadata": {
    "datalore": {
     "hide_input_from_viewers": false,
     "hide_output_from_viewers": false,
     "type": "CODE"
    },
    "scrolled": true
   },
   "outputs": [
    {
     "data": {
      "text/plain": [
       "United Kingdom    490300\n",
       "Name: Country, dtype: int64"
      ]
     },
     "execution_count": 8,
     "metadata": {},
     "output_type": "execute_result"
    }
   ],
   "source": [
    "# Keeps only entries from the United Kingdom\n",
    "df_retail=df_retail[df_retail['Country']=='United Kingdom'] \n",
    "df_retail['Country'].value_counts()"
   ]
  },
  {
   "cell_type": "code",
   "execution_count": 9,
   "metadata": {
    "datalore": {
     "hide_input_from_viewers": false,
     "hide_output_from_viewers": false,
     "type": "CODE"
    }
   },
   "outputs": [
    {
     "name": "stdout",
     "output_type": "stream",
     "text": [
      "<class 'pandas.core.frame.DataFrame'>\n",
      "Int64Index: 356728 entries, 0 to 541893\n",
      "Data columns (total 8 columns):\n",
      " #   Column       Non-Null Count   Dtype         \n",
      "---  ------       --------------   -----         \n",
      " 0   InvoiceNo    356728 non-null  object        \n",
      " 1   StockCode    356728 non-null  object        \n",
      " 2   Description  356728 non-null  object        \n",
      " 3   Quantity     356728 non-null  int64         \n",
      " 4   InvoiceDate  356728 non-null  datetime64[ns]\n",
      " 5   UnitPrice    356728 non-null  float64       \n",
      " 6   CustomerID   356728 non-null  float64       \n",
      " 7   Country      356728 non-null  object        \n",
      "dtypes: datetime64[ns](1), float64(2), int64(1), object(4)\n",
      "memory usage: 24.5+ MB\n"
     ]
    }
   ],
   "source": [
    "# Drop rows with null entries in CustomerID\n",
    "df_retail=df_retail.dropna(subset=['CustomerID'])\n",
    "df_retail.info()"
   ]
  },
  {
   "cell_type": "code",
   "execution_count": 10,
   "metadata": {},
   "outputs": [
    {
     "data": {
      "text/html": [
       "<div>\n",
       "<style scoped>\n",
       "    .dataframe tbody tr th:only-of-type {\n",
       "        vertical-align: middle;\n",
       "    }\n",
       "\n",
       "    .dataframe tbody tr th {\n",
       "        vertical-align: top;\n",
       "    }\n",
       "\n",
       "    .dataframe thead th {\n",
       "        text-align: right;\n",
       "    }\n",
       "</style>\n",
       "<table border=\"1\" class=\"dataframe\">\n",
       "  <thead>\n",
       "    <tr style=\"text-align: right;\">\n",
       "      <th></th>\n",
       "      <th>Quantity</th>\n",
       "      <th>UnitPrice</th>\n",
       "      <th>CustomerID</th>\n",
       "    </tr>\n",
       "  </thead>\n",
       "  <tbody>\n",
       "    <tr>\n",
       "      <th>count</th>\n",
       "      <td>356728.000000</td>\n",
       "      <td>356728.000000</td>\n",
       "      <td>356728.000000</td>\n",
       "    </tr>\n",
       "    <tr>\n",
       "      <th>mean</th>\n",
       "      <td>11.198644</td>\n",
       "      <td>3.268255</td>\n",
       "      <td>15543.795284</td>\n",
       "    </tr>\n",
       "    <tr>\n",
       "      <th>std</th>\n",
       "      <td>264.998044</td>\n",
       "      <td>71.162330</td>\n",
       "      <td>1594.286219</td>\n",
       "    </tr>\n",
       "    <tr>\n",
       "      <th>min</th>\n",
       "      <td>-80995.000000</td>\n",
       "      <td>0.000000</td>\n",
       "      <td>12346.000000</td>\n",
       "    </tr>\n",
       "    <tr>\n",
       "      <th>25%</th>\n",
       "      <td>2.000000</td>\n",
       "      <td>1.250000</td>\n",
       "      <td>14191.000000</td>\n",
       "    </tr>\n",
       "    <tr>\n",
       "      <th>50%</th>\n",
       "      <td>4.000000</td>\n",
       "      <td>1.950000</td>\n",
       "      <td>15513.000000</td>\n",
       "    </tr>\n",
       "    <tr>\n",
       "      <th>75%</th>\n",
       "      <td>12.000000</td>\n",
       "      <td>3.750000</td>\n",
       "      <td>16931.000000</td>\n",
       "    </tr>\n",
       "    <tr>\n",
       "      <th>max</th>\n",
       "      <td>80995.000000</td>\n",
       "      <td>38970.000000</td>\n",
       "      <td>18287.000000</td>\n",
       "    </tr>\n",
       "  </tbody>\n",
       "</table>\n",
       "</div>"
      ],
      "text/plain": [
       "            Quantity      UnitPrice     CustomerID\n",
       "count  356728.000000  356728.000000  356728.000000\n",
       "mean       11.198644       3.268255   15543.795284\n",
       "std       264.998044      71.162330    1594.286219\n",
       "min    -80995.000000       0.000000   12346.000000\n",
       "25%         2.000000       1.250000   14191.000000\n",
       "50%         4.000000       1.950000   15513.000000\n",
       "75%        12.000000       3.750000   16931.000000\n",
       "max     80995.000000   38970.000000   18287.000000"
      ]
     },
     "execution_count": 10,
     "metadata": {},
     "output_type": "execute_result"
    }
   ],
   "source": [
    "df_retail.describe()"
   ]
  },
  {
   "cell_type": "markdown",
   "metadata": {},
   "source": [
    "The minimum valuse of quantity and unit price are negative. This is not physically possible and could happen only due to canceled orders. According to the data description, the InvoiceNo of canceled orders contains the letter 'C' in them. These canceled order entries have to be removed to filter out actual transactions."
   ]
  },
  {
   "cell_type": "code",
   "execution_count": 11,
   "metadata": {
    "datalore": {
     "hide_input_from_viewers": false,
     "hide_output_from_viewers": false,
     "type": "CODE"
    }
   },
   "outputs": [
    {
     "name": "stdout",
     "output_type": "stream",
     "text": [
      "The number of canceled orders is : 0         False\n",
      "1         False\n",
      "2         False\n",
      "3         False\n",
      "4         False\n",
      "          ...  \n",
      "541889    False\n",
      "541890    False\n",
      "541891    False\n",
      "541892    False\n",
      "541893    False\n",
      "Name: InvoiceNo, Length: 356728, dtype: bool\n"
     ]
    }
   ],
   "source": [
    "# removes all cancelled orders\n",
    "print(\"The number of canceled orders is : {}\".format(df_retail[\"InvoiceNo\"].str.contains(\"C\", na=False)))\n",
    "df_retail = df_retail[~df_retail[\"InvoiceNo\"].str.contains(\"C\", na=False)] "
   ]
  },
  {
   "cell_type": "code",
   "execution_count": 12,
   "metadata": {},
   "outputs": [
    {
     "data": {
      "text/html": [
       "<div>\n",
       "<style scoped>\n",
       "    .dataframe tbody tr th:only-of-type {\n",
       "        vertical-align: middle;\n",
       "    }\n",
       "\n",
       "    .dataframe tbody tr th {\n",
       "        vertical-align: top;\n",
       "    }\n",
       "\n",
       "    .dataframe thead th {\n",
       "        text-align: right;\n",
       "    }\n",
       "</style>\n",
       "<table border=\"1\" class=\"dataframe\">\n",
       "  <thead>\n",
       "    <tr style=\"text-align: right;\">\n",
       "      <th></th>\n",
       "      <th>Quantity</th>\n",
       "      <th>UnitPrice</th>\n",
       "      <th>CustomerID</th>\n",
       "    </tr>\n",
       "  </thead>\n",
       "  <tbody>\n",
       "    <tr>\n",
       "      <th>count</th>\n",
       "      <td>349227.000000</td>\n",
       "      <td>349227.000000</td>\n",
       "      <td>349227.000000</td>\n",
       "    </tr>\n",
       "    <tr>\n",
       "      <th>mean</th>\n",
       "      <td>12.181295</td>\n",
       "      <td>2.972124</td>\n",
       "      <td>15548.333625</td>\n",
       "    </tr>\n",
       "    <tr>\n",
       "      <th>std</th>\n",
       "      <td>191.797470</td>\n",
       "      <td>17.990307</td>\n",
       "      <td>1594.403077</td>\n",
       "    </tr>\n",
       "    <tr>\n",
       "      <th>min</th>\n",
       "      <td>1.000000</td>\n",
       "      <td>0.000000</td>\n",
       "      <td>12346.000000</td>\n",
       "    </tr>\n",
       "    <tr>\n",
       "      <th>25%</th>\n",
       "      <td>2.000000</td>\n",
       "      <td>1.250000</td>\n",
       "      <td>14191.000000</td>\n",
       "    </tr>\n",
       "    <tr>\n",
       "      <th>50%</th>\n",
       "      <td>4.000000</td>\n",
       "      <td>1.950000</td>\n",
       "      <td>15518.000000</td>\n",
       "    </tr>\n",
       "    <tr>\n",
       "      <th>75%</th>\n",
       "      <td>12.000000</td>\n",
       "      <td>3.750000</td>\n",
       "      <td>16931.000000</td>\n",
       "    </tr>\n",
       "    <tr>\n",
       "      <th>max</th>\n",
       "      <td>80995.000000</td>\n",
       "      <td>8142.750000</td>\n",
       "      <td>18287.000000</td>\n",
       "    </tr>\n",
       "  </tbody>\n",
       "</table>\n",
       "</div>"
      ],
      "text/plain": [
       "            Quantity      UnitPrice     CustomerID\n",
       "count  349227.000000  349227.000000  349227.000000\n",
       "mean       12.181295       2.972124   15548.333625\n",
       "std       191.797470      17.990307    1594.403077\n",
       "min         1.000000       0.000000   12346.000000\n",
       "25%         2.000000       1.250000   14191.000000\n",
       "50%         4.000000       1.950000   15518.000000\n",
       "75%        12.000000       3.750000   16931.000000\n",
       "max     80995.000000    8142.750000   18287.000000"
      ]
     },
     "execution_count": 12,
     "metadata": {},
     "output_type": "execute_result"
    }
   ],
   "source": [
    "df_retail.describe()"
   ]
  },
  {
   "cell_type": "markdown",
   "metadata": {},
   "source": [
    "There are still instances of negative values of unit price and quantity. These entries have to be removed."
   ]
  },
  {
   "cell_type": "code",
   "execution_count": 13,
   "metadata": {
    "datalore": {
     "hide_input_from_viewers": false,
     "hide_output_from_viewers": false,
     "type": "CODE"
    }
   },
   "outputs": [
    {
     "name": "stdout",
     "output_type": "stream",
     "text": [
      "<class 'pandas.core.frame.DataFrame'>\n",
      "Int64Index: 349203 entries, 0 to 541893\n",
      "Data columns (total 8 columns):\n",
      " #   Column       Non-Null Count   Dtype         \n",
      "---  ------       --------------   -----         \n",
      " 0   InvoiceNo    349203 non-null  object        \n",
      " 1   StockCode    349203 non-null  object        \n",
      " 2   Description  349203 non-null  object        \n",
      " 3   Quantity     349203 non-null  int64         \n",
      " 4   InvoiceDate  349203 non-null  datetime64[ns]\n",
      " 5   UnitPrice    349203 non-null  float64       \n",
      " 6   CustomerID   349203 non-null  float64       \n",
      " 7   Country      349203 non-null  object        \n",
      "dtypes: datetime64[ns](1), float64(2), int64(1), object(4)\n",
      "memory usage: 24.0+ MB\n"
     ]
    }
   ],
   "source": [
    "# Keep only non negative values of Price and Quantity\n",
    "df_retail = df_retail[(df_retail['UnitPrice']>0) & (df_retail['Quantity']>0)]\n",
    "df_retail.info()"
   ]
  },
  {
   "cell_type": "markdown",
   "metadata": {},
   "source": [
    "## RFM Analysis\n",
    "For the purpose of clustering, first we have to define Recency, Frequency and Monetary values.\n",
    "- **Monetary value**- It can be the net amount recieved by the comany from one customer. i.e The sum of quantity times unit price across all transactions of a given customer.\n",
    "- **Frequency**- This can be defined as the number of purchases made by one customer. i.e the numbver of transactions per customer.\n",
    "- **Recency**- The time between last transaction and current date. Here, we can assume the most recent transaction date to be the correct date. \n"
   ]
  },
  {
   "cell_type": "code",
   "execution_count": 14,
   "metadata": {
    "datalore": {
     "hide_input_from_viewers": false,
     "hide_output_from_viewers": false,
     "type": "CODE"
    }
   },
   "outputs": [
    {
     "data": {
      "text/html": [
       "<div>\n",
       "<style scoped>\n",
       "    .dataframe tbody tr th:only-of-type {\n",
       "        vertical-align: middle;\n",
       "    }\n",
       "\n",
       "    .dataframe tbody tr th {\n",
       "        vertical-align: top;\n",
       "    }\n",
       "\n",
       "    .dataframe thead th {\n",
       "        text-align: right;\n",
       "    }\n",
       "</style>\n",
       "<table border=\"1\" class=\"dataframe\">\n",
       "  <thead>\n",
       "    <tr style=\"text-align: right;\">\n",
       "      <th></th>\n",
       "      <th>InvoiceNo</th>\n",
       "      <th>StockCode</th>\n",
       "      <th>Description</th>\n",
       "      <th>Quantity</th>\n",
       "      <th>InvoiceDate</th>\n",
       "      <th>UnitPrice</th>\n",
       "      <th>CustomerID</th>\n",
       "      <th>Country</th>\n",
       "      <th>Amount</th>\n",
       "    </tr>\n",
       "  </thead>\n",
       "  <tbody>\n",
       "    <tr>\n",
       "      <th>0</th>\n",
       "      <td>536365</td>\n",
       "      <td>85123A</td>\n",
       "      <td>WHITE HANGING HEART T-LIGHT HOLDER</td>\n",
       "      <td>6</td>\n",
       "      <td>2010-12-01 08:26:00</td>\n",
       "      <td>2.55</td>\n",
       "      <td>17850.0</td>\n",
       "      <td>United Kingdom</td>\n",
       "      <td>15.30</td>\n",
       "    </tr>\n",
       "    <tr>\n",
       "      <th>1</th>\n",
       "      <td>536365</td>\n",
       "      <td>71053</td>\n",
       "      <td>WHITE METAL LANTERN</td>\n",
       "      <td>6</td>\n",
       "      <td>2010-12-01 08:26:00</td>\n",
       "      <td>3.39</td>\n",
       "      <td>17850.0</td>\n",
       "      <td>United Kingdom</td>\n",
       "      <td>20.34</td>\n",
       "    </tr>\n",
       "    <tr>\n",
       "      <th>2</th>\n",
       "      <td>536365</td>\n",
       "      <td>84406B</td>\n",
       "      <td>CREAM CUPID HEARTS COAT HANGER</td>\n",
       "      <td>8</td>\n",
       "      <td>2010-12-01 08:26:00</td>\n",
       "      <td>2.75</td>\n",
       "      <td>17850.0</td>\n",
       "      <td>United Kingdom</td>\n",
       "      <td>22.00</td>\n",
       "    </tr>\n",
       "    <tr>\n",
       "      <th>3</th>\n",
       "      <td>536365</td>\n",
       "      <td>84029G</td>\n",
       "      <td>KNITTED UNION FLAG HOT WATER BOTTLE</td>\n",
       "      <td>6</td>\n",
       "      <td>2010-12-01 08:26:00</td>\n",
       "      <td>3.39</td>\n",
       "      <td>17850.0</td>\n",
       "      <td>United Kingdom</td>\n",
       "      <td>20.34</td>\n",
       "    </tr>\n",
       "    <tr>\n",
       "      <th>4</th>\n",
       "      <td>536365</td>\n",
       "      <td>84029E</td>\n",
       "      <td>RED WOOLLY HOTTIE WHITE HEART.</td>\n",
       "      <td>6</td>\n",
       "      <td>2010-12-01 08:26:00</td>\n",
       "      <td>3.39</td>\n",
       "      <td>17850.0</td>\n",
       "      <td>United Kingdom</td>\n",
       "      <td>20.34</td>\n",
       "    </tr>\n",
       "  </tbody>\n",
       "</table>\n",
       "</div>"
      ],
      "text/plain": [
       "  InvoiceNo StockCode                          Description  Quantity  \\\n",
       "0    536365    85123A   WHITE HANGING HEART T-LIGHT HOLDER         6   \n",
       "1    536365     71053                  WHITE METAL LANTERN         6   \n",
       "2    536365    84406B       CREAM CUPID HEARTS COAT HANGER         8   \n",
       "3    536365    84029G  KNITTED UNION FLAG HOT WATER BOTTLE         6   \n",
       "4    536365    84029E       RED WOOLLY HOTTIE WHITE HEART.         6   \n",
       "\n",
       "          InvoiceDate  UnitPrice  CustomerID         Country  Amount  \n",
       "0 2010-12-01 08:26:00       2.55     17850.0  United Kingdom   15.30  \n",
       "1 2010-12-01 08:26:00       3.39     17850.0  United Kingdom   20.34  \n",
       "2 2010-12-01 08:26:00       2.75     17850.0  United Kingdom   22.00  \n",
       "3 2010-12-01 08:26:00       3.39     17850.0  United Kingdom   20.34  \n",
       "4 2010-12-01 08:26:00       3.39     17850.0  United Kingdom   20.34  "
      ]
     },
     "execution_count": 14,
     "metadata": {},
     "output_type": "execute_result"
    }
   ],
   "source": [
    "# Calculates amount as product of unit price and Quantity\n",
    "df_retail['Amount']=df_retail['Quantity']*df_retail['UnitPrice']\n",
    "df_retail.head()"
   ]
  },
  {
   "cell_type": "code",
   "execution_count": 15,
   "metadata": {
    "datalore": {
     "hide_input_from_viewers": false,
     "hide_output_from_viewers": false,
     "type": "CODE"
    }
   },
   "outputs": [
    {
     "data": {
      "text/html": [
       "<div>\n",
       "<style scoped>\n",
       "    .dataframe tbody tr th:only-of-type {\n",
       "        vertical-align: middle;\n",
       "    }\n",
       "\n",
       "    .dataframe tbody tr th {\n",
       "        vertical-align: top;\n",
       "    }\n",
       "\n",
       "    .dataframe thead th {\n",
       "        text-align: right;\n",
       "    }\n",
       "</style>\n",
       "<table border=\"1\" class=\"dataframe\">\n",
       "  <thead>\n",
       "    <tr style=\"text-align: right;\">\n",
       "      <th></th>\n",
       "      <th>CustomerID</th>\n",
       "      <th>Amount</th>\n",
       "    </tr>\n",
       "  </thead>\n",
       "  <tbody>\n",
       "    <tr>\n",
       "      <th>0</th>\n",
       "      <td>12346.0</td>\n",
       "      <td>77183.60</td>\n",
       "    </tr>\n",
       "    <tr>\n",
       "      <th>1</th>\n",
       "      <td>12747.0</td>\n",
       "      <td>4196.01</td>\n",
       "    </tr>\n",
       "    <tr>\n",
       "      <th>2</th>\n",
       "      <td>12748.0</td>\n",
       "      <td>33053.19</td>\n",
       "    </tr>\n",
       "    <tr>\n",
       "      <th>3</th>\n",
       "      <td>12749.0</td>\n",
       "      <td>4090.88</td>\n",
       "    </tr>\n",
       "    <tr>\n",
       "      <th>4</th>\n",
       "      <td>12820.0</td>\n",
       "      <td>942.34</td>\n",
       "    </tr>\n",
       "  </tbody>\n",
       "</table>\n",
       "</div>"
      ],
      "text/plain": [
       "   CustomerID    Amount\n",
       "0     12346.0  77183.60\n",
       "1     12747.0   4196.01\n",
       "2     12748.0  33053.19\n",
       "3     12749.0   4090.88\n",
       "4     12820.0    942.34"
      ]
     },
     "execution_count": 15,
     "metadata": {},
     "output_type": "execute_result"
    }
   ],
   "source": [
    "# Calculates total monetary value of each customers as sum of Amount of all transactions and stores in new dataframe\n",
    "monetary=df_retail.groupby('CustomerID')['Amount'].sum()\n",
    "monetary = monetary.reset_index()\n",
    "monetary.head()"
   ]
  },
  {
   "cell_type": "code",
   "execution_count": 16,
   "metadata": {
    "datalore": {
     "hide_input_from_viewers": false,
     "hide_output_from_viewers": false,
     "type": "CODE"
    }
   },
   "outputs": [
    {
     "data": {
      "text/html": [
       "<div>\n",
       "<style scoped>\n",
       "    .dataframe tbody tr th:only-of-type {\n",
       "        vertical-align: middle;\n",
       "    }\n",
       "\n",
       "    .dataframe tbody tr th {\n",
       "        vertical-align: top;\n",
       "    }\n",
       "\n",
       "    .dataframe thead th {\n",
       "        text-align: right;\n",
       "    }\n",
       "</style>\n",
       "<table border=\"1\" class=\"dataframe\">\n",
       "  <thead>\n",
       "    <tr style=\"text-align: right;\">\n",
       "      <th></th>\n",
       "      <th>CustomerID</th>\n",
       "      <th>InvoiceNo</th>\n",
       "    </tr>\n",
       "  </thead>\n",
       "  <tbody>\n",
       "    <tr>\n",
       "      <th>0</th>\n",
       "      <td>12346.0</td>\n",
       "      <td>1</td>\n",
       "    </tr>\n",
       "    <tr>\n",
       "      <th>1</th>\n",
       "      <td>12747.0</td>\n",
       "      <td>103</td>\n",
       "    </tr>\n",
       "    <tr>\n",
       "      <th>2</th>\n",
       "      <td>12748.0</td>\n",
       "      <td>4412</td>\n",
       "    </tr>\n",
       "    <tr>\n",
       "      <th>3</th>\n",
       "      <td>12749.0</td>\n",
       "      <td>199</td>\n",
       "    </tr>\n",
       "    <tr>\n",
       "      <th>4</th>\n",
       "      <td>12820.0</td>\n",
       "      <td>59</td>\n",
       "    </tr>\n",
       "  </tbody>\n",
       "</table>\n",
       "</div>"
      ],
      "text/plain": [
       "   CustomerID  InvoiceNo\n",
       "0     12346.0          1\n",
       "1     12747.0        103\n",
       "2     12748.0       4412\n",
       "3     12749.0        199\n",
       "4     12820.0         59"
      ]
     },
     "execution_count": 16,
     "metadata": {},
     "output_type": "execute_result"
    }
   ],
   "source": [
    "# Total number of individual transaction of customers by invoice number\n",
    "frequency = df_retail.groupby('CustomerID')['InvoiceNo'].count()\n",
    "frequency = frequency.reset_index()\n",
    "frequency.head()"
   ]
  },
  {
   "cell_type": "code",
   "execution_count": 17,
   "metadata": {
    "datalore": {
     "hide_input_from_viewers": false,
     "hide_output_from_viewers": false,
     "type": "CODE"
    }
   },
   "outputs": [
    {
     "data": {
      "text/html": [
       "<div>\n",
       "<style scoped>\n",
       "    .dataframe tbody tr th:only-of-type {\n",
       "        vertical-align: middle;\n",
       "    }\n",
       "\n",
       "    .dataframe tbody tr th {\n",
       "        vertical-align: top;\n",
       "    }\n",
       "\n",
       "    .dataframe thead th {\n",
       "        text-align: right;\n",
       "    }\n",
       "</style>\n",
       "<table border=\"1\" class=\"dataframe\">\n",
       "  <thead>\n",
       "    <tr style=\"text-align: right;\">\n",
       "      <th></th>\n",
       "      <th>InvoiceNo</th>\n",
       "      <th>StockCode</th>\n",
       "      <th>Description</th>\n",
       "      <th>Quantity</th>\n",
       "      <th>InvoiceDate</th>\n",
       "      <th>UnitPrice</th>\n",
       "      <th>CustomerID</th>\n",
       "      <th>Country</th>\n",
       "      <th>Amount</th>\n",
       "      <th>Latest</th>\n",
       "    </tr>\n",
       "  </thead>\n",
       "  <tbody>\n",
       "    <tr>\n",
       "      <th>0</th>\n",
       "      <td>536365</td>\n",
       "      <td>85123A</td>\n",
       "      <td>WHITE HANGING HEART T-LIGHT HOLDER</td>\n",
       "      <td>6</td>\n",
       "      <td>2010-12-01 08:26:00</td>\n",
       "      <td>2.55</td>\n",
       "      <td>17850.0</td>\n",
       "      <td>United Kingdom</td>\n",
       "      <td>15.30</td>\n",
       "      <td>373 days 04:23:00</td>\n",
       "    </tr>\n",
       "    <tr>\n",
       "      <th>1</th>\n",
       "      <td>536365</td>\n",
       "      <td>71053</td>\n",
       "      <td>WHITE METAL LANTERN</td>\n",
       "      <td>6</td>\n",
       "      <td>2010-12-01 08:26:00</td>\n",
       "      <td>3.39</td>\n",
       "      <td>17850.0</td>\n",
       "      <td>United Kingdom</td>\n",
       "      <td>20.34</td>\n",
       "      <td>373 days 04:23:00</td>\n",
       "    </tr>\n",
       "    <tr>\n",
       "      <th>2</th>\n",
       "      <td>536365</td>\n",
       "      <td>84406B</td>\n",
       "      <td>CREAM CUPID HEARTS COAT HANGER</td>\n",
       "      <td>8</td>\n",
       "      <td>2010-12-01 08:26:00</td>\n",
       "      <td>2.75</td>\n",
       "      <td>17850.0</td>\n",
       "      <td>United Kingdom</td>\n",
       "      <td>22.00</td>\n",
       "      <td>373 days 04:23:00</td>\n",
       "    </tr>\n",
       "    <tr>\n",
       "      <th>3</th>\n",
       "      <td>536365</td>\n",
       "      <td>84029G</td>\n",
       "      <td>KNITTED UNION FLAG HOT WATER BOTTLE</td>\n",
       "      <td>6</td>\n",
       "      <td>2010-12-01 08:26:00</td>\n",
       "      <td>3.39</td>\n",
       "      <td>17850.0</td>\n",
       "      <td>United Kingdom</td>\n",
       "      <td>20.34</td>\n",
       "      <td>373 days 04:23:00</td>\n",
       "    </tr>\n",
       "    <tr>\n",
       "      <th>4</th>\n",
       "      <td>536365</td>\n",
       "      <td>84029E</td>\n",
       "      <td>RED WOOLLY HOTTIE WHITE HEART.</td>\n",
       "      <td>6</td>\n",
       "      <td>2010-12-01 08:26:00</td>\n",
       "      <td>3.39</td>\n",
       "      <td>17850.0</td>\n",
       "      <td>United Kingdom</td>\n",
       "      <td>20.34</td>\n",
       "      <td>373 days 04:23:00</td>\n",
       "    </tr>\n",
       "  </tbody>\n",
       "</table>\n",
       "</div>"
      ],
      "text/plain": [
       "  InvoiceNo StockCode                          Description  Quantity  \\\n",
       "0    536365    85123A   WHITE HANGING HEART T-LIGHT HOLDER         6   \n",
       "1    536365     71053                  WHITE METAL LANTERN         6   \n",
       "2    536365    84406B       CREAM CUPID HEARTS COAT HANGER         8   \n",
       "3    536365    84029G  KNITTED UNION FLAG HOT WATER BOTTLE         6   \n",
       "4    536365    84029E       RED WOOLLY HOTTIE WHITE HEART.         6   \n",
       "\n",
       "          InvoiceDate  UnitPrice  CustomerID         Country  Amount  \\\n",
       "0 2010-12-01 08:26:00       2.55     17850.0  United Kingdom   15.30   \n",
       "1 2010-12-01 08:26:00       3.39     17850.0  United Kingdom   20.34   \n",
       "2 2010-12-01 08:26:00       2.75     17850.0  United Kingdom   22.00   \n",
       "3 2010-12-01 08:26:00       3.39     17850.0  United Kingdom   20.34   \n",
       "4 2010-12-01 08:26:00       3.39     17850.0  United Kingdom   20.34   \n",
       "\n",
       "             Latest  \n",
       "0 373 days 04:23:00  \n",
       "1 373 days 04:23:00  \n",
       "2 373 days 04:23:00  \n",
       "3 373 days 04:23:00  \n",
       "4 373 days 04:23:00  "
      ]
     },
     "execution_count": 17,
     "metadata": {},
     "output_type": "execute_result"
    }
   ],
   "source": [
    "# Number of days between each transaction and last recorded transaction \n",
    "df_retail['Latest'] = max(df_retail['InvoiceDate']) - df_retail['InvoiceDate']\n",
    "df_retail.head()"
   ]
  },
  {
   "cell_type": "code",
   "execution_count": 18,
   "metadata": {
    "datalore": {
     "hide_input_from_viewers": false,
     "hide_output_from_viewers": false,
     "type": "CODE"
    }
   },
   "outputs": [
    {
     "data": {
      "text/html": [
       "<div>\n",
       "<style scoped>\n",
       "    .dataframe tbody tr th:only-of-type {\n",
       "        vertical-align: middle;\n",
       "    }\n",
       "\n",
       "    .dataframe tbody tr th {\n",
       "        vertical-align: top;\n",
       "    }\n",
       "\n",
       "    .dataframe thead th {\n",
       "        text-align: right;\n",
       "    }\n",
       "</style>\n",
       "<table border=\"1\" class=\"dataframe\">\n",
       "  <thead>\n",
       "    <tr style=\"text-align: right;\">\n",
       "      <th></th>\n",
       "      <th>CustomerID</th>\n",
       "      <th>Latest</th>\n",
       "    </tr>\n",
       "  </thead>\n",
       "  <tbody>\n",
       "    <tr>\n",
       "      <th>0</th>\n",
       "      <td>12346.0</td>\n",
       "      <td>325 days 02:48:00</td>\n",
       "    </tr>\n",
       "    <tr>\n",
       "      <th>1</th>\n",
       "      <td>12747.0</td>\n",
       "      <td>1 days 22:15:00</td>\n",
       "    </tr>\n",
       "    <tr>\n",
       "      <th>2</th>\n",
       "      <td>12748.0</td>\n",
       "      <td>0 days 00:29:00</td>\n",
       "    </tr>\n",
       "    <tr>\n",
       "      <th>3</th>\n",
       "      <td>12749.0</td>\n",
       "      <td>3 days 02:53:00</td>\n",
       "    </tr>\n",
       "    <tr>\n",
       "      <th>4</th>\n",
       "      <td>12820.0</td>\n",
       "      <td>2 days 21:37:00</td>\n",
       "    </tr>\n",
       "  </tbody>\n",
       "</table>\n",
       "</div>"
      ],
      "text/plain": [
       "   CustomerID            Latest\n",
       "0     12346.0 325 days 02:48:00\n",
       "1     12747.0   1 days 22:15:00\n",
       "2     12748.0   0 days 00:29:00\n",
       "3     12749.0   3 days 02:53:00\n",
       "4     12820.0   2 days 21:37:00"
      ]
     },
     "execution_count": 18,
     "metadata": {},
     "output_type": "execute_result"
    }
   ],
   "source": [
    "# Most recent transaction per customer \n",
    "recency = df_retail.groupby('CustomerID')['Latest'].min()\n",
    "recency = recency.reset_index()\n",
    "recency.head()"
   ]
  },
  {
   "cell_type": "code",
   "execution_count": 19,
   "metadata": {
    "datalore": {
     "hide_input_from_viewers": false,
     "hide_output_from_viewers": false,
     "type": "CODE"
    }
   },
   "outputs": [
    {
     "data": {
      "text/html": [
       "<div>\n",
       "<style scoped>\n",
       "    .dataframe tbody tr th:only-of-type {\n",
       "        vertical-align: middle;\n",
       "    }\n",
       "\n",
       "    .dataframe tbody tr th {\n",
       "        vertical-align: top;\n",
       "    }\n",
       "\n",
       "    .dataframe thead th {\n",
       "        text-align: right;\n",
       "    }\n",
       "</style>\n",
       "<table border=\"1\" class=\"dataframe\">\n",
       "  <thead>\n",
       "    <tr style=\"text-align: right;\">\n",
       "      <th></th>\n",
       "      <th>CustomerID</th>\n",
       "      <th>Latest</th>\n",
       "    </tr>\n",
       "  </thead>\n",
       "  <tbody>\n",
       "    <tr>\n",
       "      <th>0</th>\n",
       "      <td>12346.0</td>\n",
       "      <td>325</td>\n",
       "    </tr>\n",
       "    <tr>\n",
       "      <th>1</th>\n",
       "      <td>12747.0</td>\n",
       "      <td>1</td>\n",
       "    </tr>\n",
       "    <tr>\n",
       "      <th>2</th>\n",
       "      <td>12748.0</td>\n",
       "      <td>0</td>\n",
       "    </tr>\n",
       "    <tr>\n",
       "      <th>3</th>\n",
       "      <td>12749.0</td>\n",
       "      <td>3</td>\n",
       "    </tr>\n",
       "    <tr>\n",
       "      <th>4</th>\n",
       "      <td>12820.0</td>\n",
       "      <td>2</td>\n",
       "    </tr>\n",
       "  </tbody>\n",
       "</table>\n",
       "</div>"
      ],
      "text/plain": [
       "   CustomerID  Latest\n",
       "0     12346.0     325\n",
       "1     12747.0       1\n",
       "2     12748.0       0\n",
       "3     12749.0       3\n",
       "4     12820.0       2"
      ]
     },
     "execution_count": 19,
     "metadata": {},
     "output_type": "execute_result"
    }
   ],
   "source": [
    "# Remove time from the values\n",
    "recency['Latest']=recency['Latest'].dt.days\n",
    "recency.head()"
   ]
  },
  {
   "cell_type": "code",
   "execution_count": 20,
   "metadata": {
    "datalore": {
     "hide_input_from_viewers": false,
     "hide_output_from_viewers": false,
     "type": "CODE"
    }
   },
   "outputs": [
    {
     "data": {
      "text/html": [
       "<div>\n",
       "<style scoped>\n",
       "    .dataframe tbody tr th:only-of-type {\n",
       "        vertical-align: middle;\n",
       "    }\n",
       "\n",
       "    .dataframe tbody tr th {\n",
       "        vertical-align: top;\n",
       "    }\n",
       "\n",
       "    .dataframe thead th {\n",
       "        text-align: right;\n",
       "    }\n",
       "</style>\n",
       "<table border=\"1\" class=\"dataframe\">\n",
       "  <thead>\n",
       "    <tr style=\"text-align: right;\">\n",
       "      <th></th>\n",
       "      <th>CustomerID</th>\n",
       "      <th>Amount</th>\n",
       "      <th>InvoiceNo</th>\n",
       "    </tr>\n",
       "  </thead>\n",
       "  <tbody>\n",
       "    <tr>\n",
       "      <th>0</th>\n",
       "      <td>12346.0</td>\n",
       "      <td>77183.60</td>\n",
       "      <td>1</td>\n",
       "    </tr>\n",
       "    <tr>\n",
       "      <th>1</th>\n",
       "      <td>12747.0</td>\n",
       "      <td>4196.01</td>\n",
       "      <td>103</td>\n",
       "    </tr>\n",
       "    <tr>\n",
       "      <th>2</th>\n",
       "      <td>12748.0</td>\n",
       "      <td>33053.19</td>\n",
       "      <td>4412</td>\n",
       "    </tr>\n",
       "    <tr>\n",
       "      <th>3</th>\n",
       "      <td>12749.0</td>\n",
       "      <td>4090.88</td>\n",
       "      <td>199</td>\n",
       "    </tr>\n",
       "    <tr>\n",
       "      <th>4</th>\n",
       "      <td>12820.0</td>\n",
       "      <td>942.34</td>\n",
       "      <td>59</td>\n",
       "    </tr>\n",
       "  </tbody>\n",
       "</table>\n",
       "</div>"
      ],
      "text/plain": [
       "   CustomerID    Amount  InvoiceNo\n",
       "0     12346.0  77183.60          1\n",
       "1     12747.0   4196.01        103\n",
       "2     12748.0  33053.19       4412\n",
       "3     12749.0   4090.88        199\n",
       "4     12820.0    942.34         59"
      ]
     },
     "execution_count": 20,
     "metadata": {},
     "output_type": "execute_result"
    }
   ],
   "source": [
    "# Merge monetary and frequency tables based on CustomerID\n",
    "rfm = pd.merge(monetary, frequency, on='CustomerID', how='inner')\n",
    "rfm.head()"
   ]
  },
  {
   "cell_type": "code",
   "execution_count": 21,
   "metadata": {
    "datalore": {
     "hide_input_from_viewers": false,
     "hide_output_from_viewers": false,
     "type": "CODE"
    }
   },
   "outputs": [
    {
     "data": {
      "text/html": [
       "<div>\n",
       "<style scoped>\n",
       "    .dataframe tbody tr th:only-of-type {\n",
       "        vertical-align: middle;\n",
       "    }\n",
       "\n",
       "    .dataframe tbody tr th {\n",
       "        vertical-align: top;\n",
       "    }\n",
       "\n",
       "    .dataframe thead th {\n",
       "        text-align: right;\n",
       "    }\n",
       "</style>\n",
       "<table border=\"1\" class=\"dataframe\">\n",
       "  <thead>\n",
       "    <tr style=\"text-align: right;\">\n",
       "      <th></th>\n",
       "      <th>CustomerID</th>\n",
       "      <th>Monetary</th>\n",
       "      <th>Frequency</th>\n",
       "      <th>Recency</th>\n",
       "    </tr>\n",
       "  </thead>\n",
       "  <tbody>\n",
       "    <tr>\n",
       "      <th>0</th>\n",
       "      <td>12346.0</td>\n",
       "      <td>77183.60</td>\n",
       "      <td>1</td>\n",
       "      <td>325</td>\n",
       "    </tr>\n",
       "    <tr>\n",
       "      <th>1</th>\n",
       "      <td>12747.0</td>\n",
       "      <td>4196.01</td>\n",
       "      <td>103</td>\n",
       "      <td>1</td>\n",
       "    </tr>\n",
       "    <tr>\n",
       "      <th>2</th>\n",
       "      <td>12748.0</td>\n",
       "      <td>33053.19</td>\n",
       "      <td>4412</td>\n",
       "      <td>0</td>\n",
       "    </tr>\n",
       "    <tr>\n",
       "      <th>3</th>\n",
       "      <td>12749.0</td>\n",
       "      <td>4090.88</td>\n",
       "      <td>199</td>\n",
       "      <td>3</td>\n",
       "    </tr>\n",
       "    <tr>\n",
       "      <th>4</th>\n",
       "      <td>12820.0</td>\n",
       "      <td>942.34</td>\n",
       "      <td>59</td>\n",
       "      <td>2</td>\n",
       "    </tr>\n",
       "  </tbody>\n",
       "</table>\n",
       "</div>"
      ],
      "text/plain": [
       "   CustomerID  Monetary  Frequency  Recency\n",
       "0     12346.0  77183.60          1      325\n",
       "1     12747.0   4196.01        103        1\n",
       "2     12748.0  33053.19       4412        0\n",
       "3     12749.0   4090.88        199        3\n",
       "4     12820.0    942.34         59        2"
      ]
     },
     "execution_count": 21,
     "metadata": {},
     "output_type": "execute_result"
    }
   ],
   "source": [
    "# Merge monetary and frequency table with recency table based on CustomerID and change column name\n",
    "rfm = pd.merge(rfm, recency, on='CustomerID', how='inner')\n",
    "rfm.columns=['CustomerID','Monetary','Frequency','Recency']\n",
    "rfm.head()"
   ]
  },
  {
   "cell_type": "code",
   "execution_count": 22,
   "metadata": {
    "datalore": {
     "hide_input_from_viewers": false,
     "hide_output_from_viewers": false,
     "type": "CODE"
    }
   },
   "outputs": [],
   "source": [
    "# CustomerID is stored as string\n",
    "rfm['CustomerID']=rfm['CustomerID'].astype(str)"
   ]
  },
  {
   "cell_type": "markdown",
   "metadata": {},
   "source": [
    "Now, we have an RFM table. For the next step, we need to remove the outliers. We will use the **z-score** method for the same."
   ]
  },
  {
   "cell_type": "code",
   "execution_count": 23,
   "metadata": {
    "datalore": {
     "hide_input_from_viewers": false,
     "hide_output_from_viewers": false,
     "type": "CODE"
    }
   },
   "outputs": [
    {
     "data": {
      "text/html": [
       "<div>\n",
       "<style scoped>\n",
       "    .dataframe tbody tr th:only-of-type {\n",
       "        vertical-align: middle;\n",
       "    }\n",
       "\n",
       "    .dataframe tbody tr th {\n",
       "        vertical-align: top;\n",
       "    }\n",
       "\n",
       "    .dataframe thead th {\n",
       "        text-align: right;\n",
       "    }\n",
       "</style>\n",
       "<table border=\"1\" class=\"dataframe\">\n",
       "  <thead>\n",
       "    <tr style=\"text-align: right;\">\n",
       "      <th></th>\n",
       "      <th>Monetary</th>\n",
       "      <th>Frequency</th>\n",
       "      <th>Recency</th>\n",
       "    </tr>\n",
       "  </thead>\n",
       "  <tbody>\n",
       "    <tr>\n",
       "      <th>count</th>\n",
       "      <td>3920.000000</td>\n",
       "      <td>3920.000000</td>\n",
       "      <td>3920.000000</td>\n",
       "    </tr>\n",
       "    <tr>\n",
       "      <th>mean</th>\n",
       "      <td>1858.424654</td>\n",
       "      <td>89.082398</td>\n",
       "      <td>91.208418</td>\n",
       "    </tr>\n",
       "    <tr>\n",
       "      <th>std</th>\n",
       "      <td>7478.631256</td>\n",
       "      <td>214.034542</td>\n",
       "      <td>99.533854</td>\n",
       "    </tr>\n",
       "    <tr>\n",
       "      <th>min</th>\n",
       "      <td>3.750000</td>\n",
       "      <td>1.000000</td>\n",
       "      <td>0.000000</td>\n",
       "    </tr>\n",
       "    <tr>\n",
       "      <th>25%</th>\n",
       "      <td>298.185000</td>\n",
       "      <td>17.000000</td>\n",
       "      <td>17.000000</td>\n",
       "    </tr>\n",
       "    <tr>\n",
       "      <th>50%</th>\n",
       "      <td>644.975000</td>\n",
       "      <td>40.000000</td>\n",
       "      <td>50.000000</td>\n",
       "    </tr>\n",
       "    <tr>\n",
       "      <th>75%</th>\n",
       "      <td>1571.285000</td>\n",
       "      <td>98.000000</td>\n",
       "      <td>142.000000</td>\n",
       "    </tr>\n",
       "    <tr>\n",
       "      <th>max</th>\n",
       "      <td>259657.300000</td>\n",
       "      <td>7676.000000</td>\n",
       "      <td>373.000000</td>\n",
       "    </tr>\n",
       "  </tbody>\n",
       "</table>\n",
       "</div>"
      ],
      "text/plain": [
       "            Monetary    Frequency      Recency\n",
       "count    3920.000000  3920.000000  3920.000000\n",
       "mean     1858.424654    89.082398    91.208418\n",
       "std      7478.631256   214.034542    99.533854\n",
       "min         3.750000     1.000000     0.000000\n",
       "25%       298.185000    17.000000    17.000000\n",
       "50%       644.975000    40.000000    50.000000\n",
       "75%      1571.285000    98.000000   142.000000\n",
       "max    259657.300000  7676.000000   373.000000"
      ]
     },
     "execution_count": 23,
     "metadata": {},
     "output_type": "execute_result"
    }
   ],
   "source": [
    "# Statistical description of dataframe\n",
    "rfm.describe()"
   ]
  },
  {
   "cell_type": "markdown",
   "metadata": {},
   "source": [
    "The mean is taken as 0 and standard deviation as 1. We will fit only the values that lie within 3 standard deviations from the mean and remove the rest. This process is repeated for all 3 columns."
   ]
  },
  {
   "cell_type": "code",
   "execution_count": 24,
   "metadata": {
    "datalore": {
     "hide_input_from_viewers": false,
     "hide_output_from_viewers": false,
     "type": "CODE"
    }
   },
   "outputs": [
    {
     "data": {
      "text/plain": [
       "(24294.31842285217, -20577.46911468891, 1858.4246540816325, 7478.631256256846)"
      ]
     },
     "execution_count": 24,
     "metadata": {},
     "output_type": "execute_result"
    }
   ],
   "source": [
    "# Set upper limit and lower limit at 3 standard deviations from the mean\n",
    "m_mean=rfm['Monetary'].mean()\n",
    "m_sd=rfm['Monetary'].std()\n",
    "upperl_m=m_mean+3*m_sd\n",
    "lowerl_m=m_mean-3*m_sd\n",
    "upperl_m,lowerl_m,m_mean,m_sd"
   ]
  },
  {
   "cell_type": "code",
   "execution_count": 25,
   "metadata": {
    "datalore": {
     "hide_input_from_viewers": false,
     "hide_output_from_viewers": false,
     "type": "CODE"
    }
   },
   "outputs": [
    {
     "data": {
      "text/html": [
       "<div>\n",
       "<style scoped>\n",
       "    .dataframe tbody tr th:only-of-type {\n",
       "        vertical-align: middle;\n",
       "    }\n",
       "\n",
       "    .dataframe tbody tr th {\n",
       "        vertical-align: top;\n",
       "    }\n",
       "\n",
       "    .dataframe thead th {\n",
       "        text-align: right;\n",
       "    }\n",
       "</style>\n",
       "<table border=\"1\" class=\"dataframe\">\n",
       "  <thead>\n",
       "    <tr style=\"text-align: right;\">\n",
       "      <th></th>\n",
       "      <th>Monetary</th>\n",
       "      <th>Frequency</th>\n",
       "      <th>Recency</th>\n",
       "    </tr>\n",
       "  </thead>\n",
       "  <tbody>\n",
       "    <tr>\n",
       "      <th>count</th>\n",
       "      <td>3887.000000</td>\n",
       "      <td>3887.000000</td>\n",
       "      <td>3887.000000</td>\n",
       "    </tr>\n",
       "    <tr>\n",
       "      <th>mean</th>\n",
       "      <td>1352.646929</td>\n",
       "      <td>81.866478</td>\n",
       "      <td>91.746077</td>\n",
       "    </tr>\n",
       "    <tr>\n",
       "      <th>std</th>\n",
       "      <td>2083.818453</td>\n",
       "      <td>128.558731</td>\n",
       "      <td>99.563190</td>\n",
       "    </tr>\n",
       "    <tr>\n",
       "      <th>min</th>\n",
       "      <td>3.750000</td>\n",
       "      <td>1.000000</td>\n",
       "      <td>0.000000</td>\n",
       "    </tr>\n",
       "    <tr>\n",
       "      <th>25%</th>\n",
       "      <td>295.465000</td>\n",
       "      <td>16.000000</td>\n",
       "      <td>17.000000</td>\n",
       "    </tr>\n",
       "    <tr>\n",
       "      <th>50%</th>\n",
       "      <td>638.050000</td>\n",
       "      <td>40.000000</td>\n",
       "      <td>50.000000</td>\n",
       "    </tr>\n",
       "    <tr>\n",
       "      <th>75%</th>\n",
       "      <td>1533.230000</td>\n",
       "      <td>97.000000</td>\n",
       "      <td>143.000000</td>\n",
       "    </tr>\n",
       "    <tr>\n",
       "      <th>max</th>\n",
       "      <td>21086.300000</td>\n",
       "      <td>2677.000000</td>\n",
       "      <td>373.000000</td>\n",
       "    </tr>\n",
       "  </tbody>\n",
       "</table>\n",
       "</div>"
      ],
      "text/plain": [
       "           Monetary    Frequency      Recency\n",
       "count   3887.000000  3887.000000  3887.000000\n",
       "mean    1352.646929    81.866478    91.746077\n",
       "std     2083.818453   128.558731    99.563190\n",
       "min        3.750000     1.000000     0.000000\n",
       "25%      295.465000    16.000000    17.000000\n",
       "50%      638.050000    40.000000    50.000000\n",
       "75%     1533.230000    97.000000   143.000000\n",
       "max    21086.300000  2677.000000   373.000000"
      ]
     },
     "execution_count": 25,
     "metadata": {},
     "output_type": "execute_result"
    }
   ],
   "source": [
    "# Remove outliers\n",
    "rfm=rfm[(rfm['Monetary']>lowerl_m) & (rfm['Monetary']<upperl_m)] \n",
    "rfm.describe()"
   ]
  },
  {
   "cell_type": "code",
   "execution_count": 26,
   "metadata": {
    "datalore": {
     "hide_input_from_viewers": false,
     "hide_output_from_viewers": false,
     "type": "CODE"
    }
   },
   "outputs": [
    {
     "data": {
      "text/plain": [
       "(467.54267109615193,\n",
       " -303.80971508894845,\n",
       " 81.86647800360176,\n",
       " 128.55873103085005)"
      ]
     },
     "execution_count": 26,
     "metadata": {},
     "output_type": "execute_result"
    }
   ],
   "source": [
    "# Repeat for frequency\n",
    "f_mean=rfm['Frequency'].mean()\n",
    "f_sd=rfm['Frequency'].std()\n",
    "upperl_f=f_mean+3*f_sd\n",
    "lowerl_f=f_mean-3*f_sd\n",
    "upperl_f,lowerl_f,f_mean,f_sd"
   ]
  },
  {
   "cell_type": "code",
   "execution_count": 27,
   "metadata": {
    "datalore": {
     "hide_input_from_viewers": false,
     "hide_output_from_viewers": false,
     "type": "CODE"
    }
   },
   "outputs": [
    {
     "data": {
      "text/html": [
       "<div>\n",
       "<style scoped>\n",
       "    .dataframe tbody tr th:only-of-type {\n",
       "        vertical-align: middle;\n",
       "    }\n",
       "\n",
       "    .dataframe tbody tr th {\n",
       "        vertical-align: top;\n",
       "    }\n",
       "\n",
       "    .dataframe thead th {\n",
       "        text-align: right;\n",
       "    }\n",
       "</style>\n",
       "<table border=\"1\" class=\"dataframe\">\n",
       "  <thead>\n",
       "    <tr style=\"text-align: right;\">\n",
       "      <th></th>\n",
       "      <th>Monetary</th>\n",
       "      <th>Frequency</th>\n",
       "      <th>Recency</th>\n",
       "    </tr>\n",
       "  </thead>\n",
       "  <tbody>\n",
       "    <tr>\n",
       "      <th>count</th>\n",
       "      <td>3816.000000</td>\n",
       "      <td>3816.000000</td>\n",
       "      <td>3816.000000</td>\n",
       "    </tr>\n",
       "    <tr>\n",
       "      <th>mean</th>\n",
       "      <td>1252.649113</td>\n",
       "      <td>69.819969</td>\n",
       "      <td>93.250262</td>\n",
       "    </tr>\n",
       "    <tr>\n",
       "      <th>std</th>\n",
       "      <td>1875.664680</td>\n",
       "      <td>82.122428</td>\n",
       "      <td>99.832045</td>\n",
       "    </tr>\n",
       "    <tr>\n",
       "      <th>min</th>\n",
       "      <td>3.750000</td>\n",
       "      <td>1.000000</td>\n",
       "      <td>0.000000</td>\n",
       "    </tr>\n",
       "    <tr>\n",
       "      <th>25%</th>\n",
       "      <td>290.390000</td>\n",
       "      <td>16.000000</td>\n",
       "      <td>18.000000</td>\n",
       "    </tr>\n",
       "    <tr>\n",
       "      <th>50%</th>\n",
       "      <td>622.130000</td>\n",
       "      <td>39.000000</td>\n",
       "      <td>51.000000</td>\n",
       "    </tr>\n",
       "    <tr>\n",
       "      <th>75%</th>\n",
       "      <td>1445.280000</td>\n",
       "      <td>91.000000</td>\n",
       "      <td>147.000000</td>\n",
       "    </tr>\n",
       "    <tr>\n",
       "      <th>max</th>\n",
       "      <td>21086.300000</td>\n",
       "      <td>467.000000</td>\n",
       "      <td>373.000000</td>\n",
       "    </tr>\n",
       "  </tbody>\n",
       "</table>\n",
       "</div>"
      ],
      "text/plain": [
       "           Monetary    Frequency      Recency\n",
       "count   3816.000000  3816.000000  3816.000000\n",
       "mean    1252.649113    69.819969    93.250262\n",
       "std     1875.664680    82.122428    99.832045\n",
       "min        3.750000     1.000000     0.000000\n",
       "25%      290.390000    16.000000    18.000000\n",
       "50%      622.130000    39.000000    51.000000\n",
       "75%     1445.280000    91.000000   147.000000\n",
       "max    21086.300000   467.000000   373.000000"
      ]
     },
     "execution_count": 27,
     "metadata": {},
     "output_type": "execute_result"
    }
   ],
   "source": [
    "rfm=rfm[(rfm['Frequency']>lowerl_f) & (rfm['Frequency']<upperl_f)] \n",
    "rfm.describe()"
   ]
  },
  {
   "cell_type": "code",
   "execution_count": 28,
   "metadata": {
    "datalore": {
     "hide_input_from_viewers": false,
     "hide_output_from_viewers": false,
     "type": "CODE"
    }
   },
   "outputs": [
    {
     "data": {
      "text/plain": [
       "(392.7463972429747, -206.24587313396, 93.25026205450733, 99.83204506282244)"
      ]
     },
     "execution_count": 28,
     "metadata": {},
     "output_type": "execute_result"
    }
   ],
   "source": [
    "# Repeat for Recency\n",
    "r_mean=rfm['Recency'].mean()\n",
    "r_sd=rfm['Recency'].std()\n",
    "upperl_r=r_mean+3*r_sd\n",
    "lowerl_r=r_mean-3*r_sd\n",
    "upperl_r,lowerl_r,r_mean,r_sd"
   ]
  },
  {
   "cell_type": "code",
   "execution_count": 29,
   "metadata": {
    "datalore": {
     "hide_input_from_viewers": false,
     "hide_output_from_viewers": false,
     "type": "CODE"
    }
   },
   "outputs": [
    {
     "name": "stdout",
     "output_type": "stream",
     "text": [
      "<class 'pandas.core.frame.DataFrame'>\n",
      "Int64Index: 3816 entries, 1 to 3919\n",
      "Data columns (total 4 columns):\n",
      " #   Column      Non-Null Count  Dtype  \n",
      "---  ------      --------------  -----  \n",
      " 0   CustomerID  3816 non-null   object \n",
      " 1   Monetary    3816 non-null   float64\n",
      " 2   Frequency   3816 non-null   int64  \n",
      " 3   Recency     3816 non-null   int64  \n",
      "dtypes: float64(1), int64(2), object(1)\n",
      "memory usage: 149.1+ KB\n"
     ]
    },
    {
     "data": {
      "text/html": [
       "<div>\n",
       "<style scoped>\n",
       "    .dataframe tbody tr th:only-of-type {\n",
       "        vertical-align: middle;\n",
       "    }\n",
       "\n",
       "    .dataframe tbody tr th {\n",
       "        vertical-align: top;\n",
       "    }\n",
       "\n",
       "    .dataframe thead th {\n",
       "        text-align: right;\n",
       "    }\n",
       "</style>\n",
       "<table border=\"1\" class=\"dataframe\">\n",
       "  <thead>\n",
       "    <tr style=\"text-align: right;\">\n",
       "      <th></th>\n",
       "      <th>CustomerID</th>\n",
       "      <th>Monetary</th>\n",
       "      <th>Frequency</th>\n",
       "      <th>Recency</th>\n",
       "    </tr>\n",
       "  </thead>\n",
       "  <tbody>\n",
       "    <tr>\n",
       "      <th>1</th>\n",
       "      <td>12747.0</td>\n",
       "      <td>4196.01</td>\n",
       "      <td>103</td>\n",
       "      <td>1</td>\n",
       "    </tr>\n",
       "    <tr>\n",
       "      <th>3</th>\n",
       "      <td>12749.0</td>\n",
       "      <td>4090.88</td>\n",
       "      <td>199</td>\n",
       "      <td>3</td>\n",
       "    </tr>\n",
       "    <tr>\n",
       "      <th>4</th>\n",
       "      <td>12820.0</td>\n",
       "      <td>942.34</td>\n",
       "      <td>59</td>\n",
       "      <td>2</td>\n",
       "    </tr>\n",
       "    <tr>\n",
       "      <th>5</th>\n",
       "      <td>12821.0</td>\n",
       "      <td>92.72</td>\n",
       "      <td>6</td>\n",
       "      <td>213</td>\n",
       "    </tr>\n",
       "    <tr>\n",
       "      <th>6</th>\n",
       "      <td>12822.0</td>\n",
       "      <td>948.88</td>\n",
       "      <td>46</td>\n",
       "      <td>70</td>\n",
       "    </tr>\n",
       "  </tbody>\n",
       "</table>\n",
       "</div>"
      ],
      "text/plain": [
       "  CustomerID  Monetary  Frequency  Recency\n",
       "1    12747.0   4196.01        103        1\n",
       "3    12749.0   4090.88        199        3\n",
       "4    12820.0    942.34         59        2\n",
       "5    12821.0     92.72          6      213\n",
       "6    12822.0    948.88         46       70"
      ]
     },
     "execution_count": 29,
     "metadata": {},
     "output_type": "execute_result"
    }
   ],
   "source": [
    "rfm.info()\n",
    "rfm.head()"
   ]
  },
  {
   "cell_type": "markdown",
   "metadata": {},
   "source": [
    "## K-Means Clustering\n",
    "\n",
    "K-Means algorithm assumes symmertical distribution and normalized variables.\n",
    "\n",
    "- In case the variables are not symmetrically distributed, since all values are positive, we can apply log transformation.\n",
    "- If the mean and variables are not equal, the variables could be normalized using Min-Max normalization. "
   ]
  },
  {
   "cell_type": "code",
   "execution_count": 30,
   "metadata": {},
   "outputs": [],
   "source": [
    "# measure skewness\n",
    "def skewness_measure(df, column):\n",
    "    skew = stats.skew(df[column])\n",
    "    skewtest = stats.skewtest(df[column])\n",
    "    plt.title('Distribution of ' + column)\n",
    "    sns.distplot(df[column])\n",
    "    print(\"{}'s: Skew: {}, : {}\".format(column, skew, skewtest))\n",
    "    return "
   ]
  },
  {
   "cell_type": "code",
   "execution_count": 31,
   "metadata": {},
   "outputs": [
    {
     "name": "stdout",
     "output_type": "stream",
     "text": [
      "Recency's: Skew: 1.217276495560285, : SkewtestResult(statistic=24.566687218671124, pvalue=2.8688868188306188e-133)\n"
     ]
    },
    {
     "name": "stderr",
     "output_type": "stream",
     "text": [
      "C:\\Anaconda\\lib\\site-packages\\seaborn\\distributions.py:2619: FutureWarning: `distplot` is a deprecated function and will be removed in a future version. Please adapt your code to use either `displot` (a figure-level function with similar flexibility) or `histplot` (an axes-level function for histograms).\n",
      "  warnings.warn(msg, FutureWarning)\n",
      "C:\\Anaconda\\lib\\site-packages\\seaborn\\distributions.py:2619: FutureWarning: `distplot` is a deprecated function and will be removed in a future version. Please adapt your code to use either `displot` (a figure-level function with similar flexibility) or `histplot` (an axes-level function for histograms).\n",
      "  warnings.warn(msg, FutureWarning)\n",
      "C:\\Anaconda\\lib\\site-packages\\seaborn\\distributions.py:2619: FutureWarning: `distplot` is a deprecated function and will be removed in a future version. Please adapt your code to use either `displot` (a figure-level function with similar flexibility) or `histplot` (an axes-level function for histograms).\n",
      "  warnings.warn(msg, FutureWarning)\n"
     ]
    },
    {
     "name": "stdout",
     "output_type": "stream",
     "text": [
      "Frequency's: Skew: 2.139498393651452, : SkewtestResult(statistic=34.93427049128807, pvalue=2.244572451154113e-267)\n",
      "Monetary's: Skew: 4.26118567689371, : SkewtestResult(statistic=48.659926664078775, pvalue=0.0)\n"
     ]
    }
   ],
   "source": [
    "# Plot skewness of all variables\n",
    "plt.figure(figsize=(9, 9))\n",
    "\n",
    "plt.subplot(3, 1, 1)\n",
    "skewness_measure(rfm,'Recency')\n",
    "\n",
    "plt.subplot(3, 1, 2)\n",
    "skewness_measure(rfm,'Frequency')\n",
    "\n",
    "plt.subplot(3, 1, 3)\n",
    "skewness_measure(rfm,'Monetary')\n",
    "\n",
    "plt.tight_layout()\n",
    "plt.savefig('before_transform.png', format='png', dpi=1000)"
   ]
  },
  {
   "cell_type": "code",
   "execution_count": 32,
   "metadata": {},
   "outputs": [],
   "source": [
    "#log transformation\n",
    "rfm_rlog = np.log(rfm['Recency']+0.1) #can't take log(0) and so add a small number\n",
    "rfm_flog = np.log(rfm['Frequency'])\n",
    "rfm_mlog = np.log(rfm['Monetary']+0.1)"
   ]
  },
  {
   "cell_type": "markdown",
   "metadata": {},
   "source": [
    "Now let's plot the skewness after log transform."
   ]
  },
  {
   "cell_type": "code",
   "execution_count": 33,
   "metadata": {},
   "outputs": [
    {
     "name": "stderr",
     "output_type": "stream",
     "text": [
      "C:\\Anaconda\\lib\\site-packages\\seaborn\\distributions.py:2619: FutureWarning: `distplot` is a deprecated function and will be removed in a future version. Please adapt your code to use either `displot` (a figure-level function with similar flexibility) or `histplot` (an axes-level function for histograms).\n",
      "  warnings.warn(msg, FutureWarning)\n",
      "C:\\Anaconda\\lib\\site-packages\\seaborn\\distributions.py:2619: FutureWarning: `distplot` is a deprecated function and will be removed in a future version. Please adapt your code to use either `displot` (a figure-level function with similar flexibility) or `histplot` (an axes-level function for histograms).\n",
      "  warnings.warn(msg, FutureWarning)\n",
      "C:\\Anaconda\\lib\\site-packages\\seaborn\\distributions.py:2619: FutureWarning: `distplot` is a deprecated function and will be removed in a future version. Please adapt your code to use either `displot` (a figure-level function with similar flexibility) or `histplot` (an axes-level function for histograms).\n",
      "  warnings.warn(msg, FutureWarning)\n"
     ]
    },
    {
     "name": "stdout",
     "output_type": "stream",
     "text": [
      "Recency's: Skew: -1.1882590353698503, : SkewtestResult(statistic=-24.15402941208342, pvalue=6.773102489251262e-129)\n",
      "Frequency's: Skew: -0.4339450180864357, : SkewtestResult(statistic=-10.507635524591295, pvalue=7.966586177943693e-26)\n",
      "Monetary's: Skew: 0.05981899692414256, : SkewtestResult(statistic=1.5101877210017653, pvalue=0.13099553096772962)\n"
     ]
    }
   ],
   "source": [
    "log_rfm = pd.DataFrame({'Monetary': rfm_mlog,'Recency': rfm_rlog,'Frequency': rfm_flog})\n",
    "\n",
    "# Plot skewness of all variables\n",
    "plt.figure(figsize=(9, 9))\n",
    "\n",
    "plt.subplot(3, 1, 1)\n",
    "skewness_measure(log_rfm,'Recency')\n",
    "\n",
    "plt.subplot(3, 1, 2)\n",
    "skewness_measure(log_rfm,'Frequency')\n",
    "\n",
    "plt.subplot(3, 1, 3)\n",
    "skewness_measure(log_rfm,'Monetary')\n",
    "\n",
    "plt.tight_layout()\n",
    "plt.savefig('after_transform.png', format='png', dpi=1000)"
   ]
  },
  {
   "cell_type": "markdown",
   "metadata": {},
   "source": [
    "Now, to standardize the data, we will remove mean and scale to unit variance. "
   ]
  },
  {
   "cell_type": "code",
   "execution_count": 34,
   "metadata": {
    "datalore": {
     "hide_input_from_viewers": false,
     "hide_output_from_viewers": false,
     "type": "CODE"
    }
   },
   "outputs": [
    {
     "data": {
      "text/plain": [
       "(3816, 3)"
      ]
     },
     "execution_count": 34,
     "metadata": {},
     "output_type": "execute_result"
    }
   ],
   "source": [
    "# Rescaling the attributes\n",
    "rfm_reshaped = log_rfm[['Monetary', 'Frequency', 'Recency']]\n",
    "\n",
    "# Instantiate\n",
    "scaler = StandardScaler()\n",
    "\n",
    "# fit_transform\n",
    "rfm_df_scaled = scaler.fit_transform(rfm_reshaped)\n",
    "rfm_df_scaled.shape"
   ]
  },
  {
   "cell_type": "code",
   "execution_count": 35,
   "metadata": {
    "datalore": {
     "hide_input_from_viewers": false,
     "hide_output_from_viewers": false,
     "type": "CODE"
    }
   },
   "outputs": [
    {
     "data": {
      "text/html": [
       "<div>\n",
       "<style scoped>\n",
       "    .dataframe tbody tr th:only-of-type {\n",
       "        vertical-align: middle;\n",
       "    }\n",
       "\n",
       "    .dataframe tbody tr th {\n",
       "        vertical-align: top;\n",
       "    }\n",
       "\n",
       "    .dataframe thead th {\n",
       "        text-align: right;\n",
       "    }\n",
       "</style>\n",
       "<table border=\"1\" class=\"dataframe\">\n",
       "  <thead>\n",
       "    <tr style=\"text-align: right;\">\n",
       "      <th></th>\n",
       "      <th>Monetary</th>\n",
       "      <th>Frequency</th>\n",
       "      <th>Recency</th>\n",
       "    </tr>\n",
       "  </thead>\n",
       "  <tbody>\n",
       "    <tr>\n",
       "      <th>0</th>\n",
       "      <td>1.622201</td>\n",
       "      <td>0.830796</td>\n",
       "      <td>-2.261574</td>\n",
       "    </tr>\n",
       "    <tr>\n",
       "      <th>1</th>\n",
       "      <td>1.600304</td>\n",
       "      <td>1.351598</td>\n",
       "      <td>-1.615766</td>\n",
       "    </tr>\n",
       "    <tr>\n",
       "      <th>2</th>\n",
       "      <td>0.333427</td>\n",
       "      <td>0.390170</td>\n",
       "      <td>-1.858524</td>\n",
       "    </tr>\n",
       "    <tr>\n",
       "      <th>3</th>\n",
       "      <td>-1.666741</td>\n",
       "      <td>-1.417423</td>\n",
       "      <td>1.021067</td>\n",
       "    </tr>\n",
       "    <tr>\n",
       "      <th>4</th>\n",
       "      <td>0.339395</td>\n",
       "      <td>0.193343</td>\n",
       "      <td>0.328045</td>\n",
       "    </tr>\n",
       "  </tbody>\n",
       "</table>\n",
       "</div>"
      ],
      "text/plain": [
       "   Monetary  Frequency   Recency\n",
       "0  1.622201   0.830796 -2.261574\n",
       "1  1.600304   1.351598 -1.615766\n",
       "2  0.333427   0.390170 -1.858524\n",
       "3 -1.666741  -1.417423  1.021067\n",
       "4  0.339395   0.193343  0.328045"
      ]
     },
     "execution_count": 35,
     "metadata": {},
     "output_type": "execute_result"
    }
   ],
   "source": [
    "# Make dataframe and name colums\n",
    "rfm_scaled = pd.DataFrame(rfm_df_scaled)\n",
    "rfm_scaled.columns = ['Monetary', 'Frequency', 'Recency']\n",
    "rfm_scaled.head()"
   ]
  },
  {
   "cell_type": "markdown",
   "metadata": {},
   "source": [
    "To find optimum clusters, we will plot the elbow curve and pick the k at the elbow. "
   ]
  },
  {
   "cell_type": "code",
   "execution_count": 36,
   "metadata": {
    "datalore": {
     "hide_input_from_viewers": false,
     "hide_output_from_viewers": false,
     "type": "CODE"
    }
   },
   "outputs": [],
   "source": [
    "# Calculate SSE to find optimum number of clusters\n",
    "sse = []\n",
    "k_rng = range(1,11)\n",
    "for k in k_rng:\n",
    "    km = KMeans(n_clusters=k,init='k-means++')\n",
    "    km.fit(rfm_scaled[['Monetary', 'Frequency', 'Recency']])\n",
    "    sse.append(km.inertia_)"
   ]
  },
  {
   "cell_type": "code",
   "execution_count": 37,
   "metadata": {
    "datalore": {
     "hide_input_from_viewers": false,
     "hide_output_from_viewers": false,
     "type": "CODE"
    }
   },
   "outputs": [
    {
     "data": {
      "application/vnd.jupyter.widget-view+json": {
       "model_id": "416cebd31c77471797f94fac4f9d1f55",
       "version_major": 2,
       "version_minor": 0
      },
      "image/png": "[encoded data removed]",
      "text/html": [
       "\n",
       "            <div style=\"display: inline-block;\">\n",
       "                <div class=\"jupyter-widgets widget-label\" style=\"text-align: center;\">\n",
       "                    Figure\n",
       "                </div>\n",
       "                <img src='data:image/png;base64,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' width=640.0/>\n",
       "            </div>\n",
       "        "
      ],
      "text/plain": [
       "Canvas(toolbar=Toolbar(toolitems=[('Home', 'Reset original view', 'home', 'home'), ('Back', 'Back to previous …"
      ]
     },
     "metadata": {},
     "output_type": "display_data"
    }
   ],
   "source": [
    "# Plot elbow plot to find k\n",
    "fig, ax = plt.subplots()\n",
    "plt.xlabel('K')\n",
    "plt.ylabel('Sum of squared error')\n",
    "plt.plot(k_rng,sse)\n",
    "plt.show()"
   ]
  },
  {
   "cell_type": "markdown",
   "metadata": {},
   "source": [
    "The elbow appears at 2 clusters. So, we will take k=2."
   ]
  },
  {
   "cell_type": "code",
   "execution_count": 38,
   "metadata": {
    "datalore": {
     "hide_input_from_viewers": false,
     "hide_output_from_viewers": false,
     "type": "CODE"
    }
   },
   "outputs": [
    {
     "data": {
      "text/plain": [
       "array([1, 1, 1, ..., 0, 0, 1])"
      ]
     },
     "execution_count": 38,
     "metadata": {},
     "output_type": "execute_result"
    }
   ],
   "source": [
    "# Perform K-Means clustering on normalized data\n",
    "km = KMeans(n_clusters=2)\n",
    "y_predicted = km.fit_predict(rfm_scaled[['Monetary', 'Frequency', 'Recency']])\n",
    "y_predicted"
   ]
  },
  {
   "cell_type": "code",
   "execution_count": 39,
   "metadata": {
    "datalore": {
     "hide_input_from_viewers": false,
     "hide_output_from_viewers": false,
     "type": "CODE"
    }
   },
   "outputs": [
    {
     "data": {
      "text/plain": [
       "array([[-0.67689439, -0.67082538,  0.51068146],\n",
       "       [ 0.80250366,  0.79530845, -0.60544709]])"
      ]
     },
     "execution_count": 39,
     "metadata": {},
     "output_type": "execute_result"
    }
   ],
   "source": [
    "# Display cluster centers\n",
    "km.cluster_centers_"
   ]
  },
  {
   "cell_type": "code",
   "execution_count": 40,
   "metadata": {
    "datalore": {
     "hide_input_from_viewers": false,
     "hide_output_from_viewers": false,
     "type": "CODE"
    }
   },
   "outputs": [
    {
     "data": {
      "text/html": [
       "<div>\n",
       "<style scoped>\n",
       "    .dataframe tbody tr th:only-of-type {\n",
       "        vertical-align: middle;\n",
       "    }\n",
       "\n",
       "    .dataframe tbody tr th {\n",
       "        vertical-align: top;\n",
       "    }\n",
       "\n",
       "    .dataframe thead th {\n",
       "        text-align: right;\n",
       "    }\n",
       "</style>\n",
       "<table border=\"1\" class=\"dataframe\">\n",
       "  <thead>\n",
       "    <tr style=\"text-align: right;\">\n",
       "      <th></th>\n",
       "      <th>Monetary</th>\n",
       "      <th>Frequency</th>\n",
       "      <th>Recency</th>\n",
       "      <th>Cluster</th>\n",
       "    </tr>\n",
       "  </thead>\n",
       "  <tbody>\n",
       "    <tr>\n",
       "      <th>0</th>\n",
       "      <td>1.622201</td>\n",
       "      <td>0.830796</td>\n",
       "      <td>-2.261574</td>\n",
       "      <td>1</td>\n",
       "    </tr>\n",
       "    <tr>\n",
       "      <th>1</th>\n",
       "      <td>1.600304</td>\n",
       "      <td>1.351598</td>\n",
       "      <td>-1.615766</td>\n",
       "      <td>1</td>\n",
       "    </tr>\n",
       "    <tr>\n",
       "      <th>2</th>\n",
       "      <td>0.333427</td>\n",
       "      <td>0.390170</td>\n",
       "      <td>-1.858524</td>\n",
       "      <td>1</td>\n",
       "    </tr>\n",
       "    <tr>\n",
       "      <th>3</th>\n",
       "      <td>-1.666741</td>\n",
       "      <td>-1.417423</td>\n",
       "      <td>1.021067</td>\n",
       "      <td>0</td>\n",
       "    </tr>\n",
       "    <tr>\n",
       "      <th>4</th>\n",
       "      <td>0.339395</td>\n",
       "      <td>0.193343</td>\n",
       "      <td>0.328045</td>\n",
       "      <td>1</td>\n",
       "    </tr>\n",
       "  </tbody>\n",
       "</table>\n",
       "</div>"
      ],
      "text/plain": [
       "   Monetary  Frequency   Recency  Cluster\n",
       "0  1.622201   0.830796 -2.261574        1\n",
       "1  1.600304   1.351598 -1.615766        1\n",
       "2  0.333427   0.390170 -1.858524        1\n",
       "3 -1.666741  -1.417423  1.021067        0\n",
       "4  0.339395   0.193343  0.328045        1"
      ]
     },
     "execution_count": 40,
     "metadata": {},
     "output_type": "execute_result"
    }
   ],
   "source": [
    "# Add clusters to dataset\n",
    "rfm_scaled['Cluster']=y_predicted\n",
    "rfm_scaled.head()"
   ]
  },
  {
   "cell_type": "code",
   "execution_count": 41,
   "metadata": {},
   "outputs": [],
   "source": [
    "rfm1=rfm_scaled[rfm_scaled['Cluster']==0]\n",
    "rfm2=rfm_scaled[rfm_scaled['Cluster']==1]"
   ]
  },
  {
   "cell_type": "markdown",
   "metadata": {},
   "source": [
    "Now, we can plot the clusters we obtained from K-Means clustering."
   ]
  },
  {
   "cell_type": "code",
   "execution_count": 44,
   "metadata": {
    "datalore": {
     "hide_input_from_viewers": false,
     "hide_output_from_viewers": false,
     "type": "CODE"
    }
   },
   "outputs": [],
   "source": [
    "sns.set(style = \"darkgrid\")\n",
    "fig = plt.figure()\n",
    "ax = fig.add_subplot(111, projection='3d')\n",
    "ax.scatter3D(rfm1.Monetary, rfm1.Frequency, rfm1.Recency, c='#58508d', label = 'Cluster 1')\n",
    "ax.scatter3D(rfm2.Monetary, rfm2.Frequency, rfm2.Recency, c='#bc5090', label = 'Cluster 2')\n",
    "ax.set_xlabel(\"Monetary\",fontsize=12)\n",
    "ax.set_ylabel(\"Frequency\",fontsize=12)\n",
    "ax.set_zlabel(\"Recency\",fontsize=12)\n",
    "plt.title(\"RFM\",fontsize=18)\n",
    "plt.legend(bbox_to_anchor=(1.0,1.0),prop={'size': 12})\n",
    "plt.tight_layout()\n",
    "plt.savefig('clusters.png', format='png', dpi=1000)"
   ]
  },
  {
   "cell_type": "markdown",
   "metadata": {},
   "source": [
    "## Conclusion\n",
    "\n",
    "For the purpose of the following analysis, it is safe to assume that there is no correlation between the products bought and the customer cluster. The influence of products and geographical factors can be studied in a different study.\n",
    "\n",
    "**Some reccomendations**:\n",
    "- The cancelled orders can all be dealt with uniformly. In this case, while some cancelled orders were represented by the letter 'C' in the invoice number, the others were represented by negative feilds for unit price or quantity.\n",
    "- Duplicates can be avoided.\n",
    "- Null entries are to be reevaluated. "
   ]
  },
  {
   "cell_type": "code",
   "execution_count": null,
   "metadata": {},
   "outputs": [],
   "source": []
  }
 ],
 "metadata": {
  "datalore": {
   "base_environment": "default",
   "computation_mode": "JUPYTER",
   "package_manager": "pip",
   "packages": [
    {
     "name": "openpyxl",
     "source": "PIP",
     "version": "3.2.0b1"
    },
    {
     "name": "mlxtend",
     "source": "PIP",
     "version": "0.20.0"
    },
    {
     "name": "ipympl",
     "source": "PIP",
     "version": "0.9.1"
    }
   ],
   "version": 1
  },
  "kernelspec": {
   "display_name": "Python 3 (ipykernel)",
   "language": "python",
   "name": "python3"
  },
  "language_info": {
   "codemirror_mode": {
    "name": "ipython",
    "version": 3
   },
   "file_extension": ".py",
   "mimetype": "text/x-python",
   "name": "python",
   "nbconvert_exporter": "python",
   "pygments_lexer": "ipython3",
   "version": "3.9.7"
  }
 },
 "nbformat": 4,
 "nbformat_minor": 4
}
