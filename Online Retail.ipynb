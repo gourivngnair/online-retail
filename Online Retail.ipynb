{
 "cells": [
  {
   "cell_type": "markdown",
   "metadata": {},
   "source": [
    "# RFM Analysis on Online-Retail Dataset"
   ]
  },
  {
   "cell_type": "code",
   "execution_count": 1,
   "metadata": {
    "datalore": {
     "hide_input_from_viewers": false,
     "hide_output_from_viewers": false,
     "type": "CODE"
    }
   },
   "outputs": [],
   "source": [
    "# Import libraries needed for preprocessing and visualization\n",
    "import pandas as pd\n",
    "import matplotlib.pyplot as plt\n",
    "import ipympl\n",
    "import seaborn as sns\n",
    "from scipy import stats\n",
    "import numpy as np\n",
    "\n",
    "\n",
    "# Import libraries needed for Clustering  \n",
    "from sklearn.preprocessing import StandardScaler\n",
    "from sklearn.cluster import KMeans"
   ]
  },
  {
   "cell_type": "markdown",
   "metadata": {},
   "source": [
    "## Read the dataset\n",
    "\n",
    "The Online-Retail dataset from the UCI Machine Learning Repository contains information regaring online transactions made in a company from 01/12/2010 and 09/12/2011."
   ]
  },
  {
   "cell_type": "code",
   "execution_count": 2,
   "metadata": {
    "datalore": {
     "hide_input_from_viewers": false,
     "hide_output_from_viewers": false,
     "type": "CODE"
    }
   },
   "outputs": [
    {
     "data": {
      "text/html": [
       "<div>\n",
       "<style scoped>\n",
       "    .dataframe tbody tr th:only-of-type {\n",
       "        vertical-align: middle;\n",
       "    }\n",
       "\n",
       "    .dataframe tbody tr th {\n",
       "        vertical-align: top;\n",
       "    }\n",
       "\n",
       "    .dataframe thead th {\n",
       "        text-align: right;\n",
       "    }\n",
       "</style>\n",
       "<table border=\"1\" class=\"dataframe\">\n",
       "  <thead>\n",
       "    <tr style=\"text-align: right;\">\n",
       "      <th></th>\n",
       "      <th>InvoiceNo</th>\n",
       "      <th>StockCode</th>\n",
       "      <th>Description</th>\n",
       "      <th>Quantity</th>\n",
       "      <th>InvoiceDate</th>\n",
       "      <th>UnitPrice</th>\n",
       "      <th>CustomerID</th>\n",
       "      <th>Country</th>\n",
       "    </tr>\n",
       "  </thead>\n",
       "  <tbody>\n",
       "    <tr>\n",
       "      <th>0</th>\n",
       "      <td>536365</td>\n",
       "      <td>85123A</td>\n",
       "      <td>WHITE HANGING HEART T-LIGHT HOLDER</td>\n",
       "      <td>6</td>\n",
       "      <td>2010-12-01 08:26:00</td>\n",
       "      <td>2.55</td>\n",
       "      <td>17850.0</td>\n",
       "      <td>United Kingdom</td>\n",
       "    </tr>\n",
       "    <tr>\n",
       "      <th>1</th>\n",
       "      <td>536365</td>\n",
       "      <td>71053</td>\n",
       "      <td>WHITE METAL LANTERN</td>\n",
       "      <td>6</td>\n",
       "      <td>2010-12-01 08:26:00</td>\n",
       "      <td>3.39</td>\n",
       "      <td>17850.0</td>\n",
       "      <td>United Kingdom</td>\n",
       "    </tr>\n",
       "    <tr>\n",
       "      <th>2</th>\n",
       "      <td>536365</td>\n",
       "      <td>84406B</td>\n",
       "      <td>CREAM CUPID HEARTS COAT HANGER</td>\n",
       "      <td>8</td>\n",
       "      <td>2010-12-01 08:26:00</td>\n",
       "      <td>2.75</td>\n",
       "      <td>17850.0</td>\n",
       "      <td>United Kingdom</td>\n",
       "    </tr>\n",
       "    <tr>\n",
       "      <th>3</th>\n",
       "      <td>536365</td>\n",
       "      <td>84029G</td>\n",
       "      <td>KNITTED UNION FLAG HOT WATER BOTTLE</td>\n",
       "      <td>6</td>\n",
       "      <td>2010-12-01 08:26:00</td>\n",
       "      <td>3.39</td>\n",
       "      <td>17850.0</td>\n",
       "      <td>United Kingdom</td>\n",
       "    </tr>\n",
       "    <tr>\n",
       "      <th>4</th>\n",
       "      <td>536365</td>\n",
       "      <td>84029E</td>\n",
       "      <td>RED WOOLLY HOTTIE WHITE HEART.</td>\n",
       "      <td>6</td>\n",
       "      <td>2010-12-01 08:26:00</td>\n",
       "      <td>3.39</td>\n",
       "      <td>17850.0</td>\n",
       "      <td>United Kingdom</td>\n",
       "    </tr>\n",
       "  </tbody>\n",
       "</table>\n",
       "</div>"
      ],
      "text/plain": [
       "  InvoiceNo StockCode                          Description  Quantity  \\\n",
       "0    536365    85123A   WHITE HANGING HEART T-LIGHT HOLDER         6   \n",
       "1    536365     71053                  WHITE METAL LANTERN         6   \n",
       "2    536365    84406B       CREAM CUPID HEARTS COAT HANGER         8   \n",
       "3    536365    84029G  KNITTED UNION FLAG HOT WATER BOTTLE         6   \n",
       "4    536365    84029E       RED WOOLLY HOTTIE WHITE HEART.         6   \n",
       "\n",
       "          InvoiceDate  UnitPrice  CustomerID         Country  \n",
       "0 2010-12-01 08:26:00       2.55     17850.0  United Kingdom  \n",
       "1 2010-12-01 08:26:00       3.39     17850.0  United Kingdom  \n",
       "2 2010-12-01 08:26:00       2.75     17850.0  United Kingdom  \n",
       "3 2010-12-01 08:26:00       3.39     17850.0  United Kingdom  \n",
       "4 2010-12-01 08:26:00       3.39     17850.0  United Kingdom  "
      ]
     },
     "execution_count": 2,
     "metadata": {},
     "output_type": "execute_result"
    }
   ],
   "source": [
    "# Read the data on which analysis needs to be done and display first 5 entries\n",
    "data='Online Retail.xlsx'\n",
    "df_retail=pd.read_excel(data)\n",
    "df_retail.head()"
   ]
  },
  {
   "cell_type": "markdown",
   "metadata": {},
   "source": [
    "## Exploratory Data Analysis\n",
    "\n",
    "For the purpose of RFM analysis, we only require the customer ID, number of items and its unit price, number of transactions and the date of order. "
   ]
  },
  {
   "cell_type": "code",
   "execution_count": 3,
   "metadata": {
    "datalore": {
     "hide_input_from_viewers": false,
     "hide_output_from_viewers": false,
     "type": "CODE"
    }
   },
   "outputs": [
    {
     "name": "stdout",
     "output_type": "stream",
     "text": [
      "<class 'pandas.core.frame.DataFrame'>\n",
      "RangeIndex: 541909 entries, 0 to 541908\n",
      "Data columns (total 8 columns):\n",
      " #   Column       Non-Null Count   Dtype         \n",
      "---  ------       --------------   -----         \n",
      " 0   InvoiceNo    541909 non-null  object        \n",
      " 1   StockCode    541909 non-null  object        \n",
      " 2   Description  540455 non-null  object        \n",
      " 3   Quantity     541909 non-null  int64         \n",
      " 4   InvoiceDate  541909 non-null  datetime64[ns]\n",
      " 5   UnitPrice    541909 non-null  float64       \n",
      " 6   CustomerID   406829 non-null  float64       \n",
      " 7   Country      541909 non-null  object        \n",
      "dtypes: datetime64[ns](1), float64(2), int64(1), object(4)\n",
      "memory usage: 33.1+ MB\n"
     ]
    }
   ],
   "source": [
    "# Displays datatype, number of non null values and general properties of fields\n",
    "df_retail.info() "
   ]
  },
  {
   "cell_type": "markdown",
   "metadata": {},
   "source": [
    "We can see that number of non null values in customer ID and Description is lower than the rest of the columns, thus there exists null values in both. For puropses of customer segmentation, description is not relevant and hence the entries with null values for it need not be removed. "
   ]
  },
  {
   "cell_type": "code",
   "execution_count": 4,
   "metadata": {
    "datalore": {
     "hide_input_from_viewers": false,
     "hide_output_from_viewers": false,
     "type": "CODE"
    }
   },
   "outputs": [
    {
     "name": "stdout",
     "output_type": "stream",
     "text": [
      "The number of null entries for CustomerID is : 135080\n"
     ]
    }
   ],
   "source": [
    "# Number of null entries in customer ID\n",
    "print(\"The number of null entries for CustomerID is : {}\".format(df_retail['CustomerID'].isna().sum()))"
   ]
  },
  {
   "cell_type": "code",
   "execution_count": 5,
   "metadata": {
    "datalore": {
     "hide_input_from_viewers": false,
     "hide_output_from_viewers": false,
     "type": "CODE"
    }
   },
   "outputs": [
    {
     "name": "stdout",
     "output_type": "stream",
     "text": [
      "The number of duplicate entries : 5268\n"
     ]
    }
   ],
   "source": [
    "# Checks the number of duplicates\n",
    "print(\"The number of duplicate entries : {}\".format(df_retail.duplicated().sum())) "
   ]
  },
  {
   "cell_type": "markdown",
   "metadata": {},
   "source": [
    "The country wise distribution can be helpful to further filter out data. "
   ]
  },
  {
   "cell_type": "code",
   "execution_count": 6,
   "metadata": {
    "datalore": {
     "hide_input_from_viewers": false,
     "hide_output_from_viewers": false,
     "type": "CODE"
    },
    "tags": []
   },
   "outputs": [
    {
     "data": {
      "application/vnd.jupyter.widget-view+json": {
       "model_id": "f618471e893a40b8963055da7dd018d2",
       "version_major": 2,
       "version_minor": 0
      },
      "image/png": "[encoded data removed]",
      "text/html": [
       "\n",
       "            <div style=\"display: inline-block;\">\n",
       "                <div class=\"jupyter-widgets widget-label\" style=\"text-align: center;\">\n",
       "                    Figure\n",
       "                </div>\n",
       "                <img src='data:image/png;base64,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' width=600.0/>\n",
       "            </div>\n",
       "        "
      ],
      "text/plain": [
       "Canvas(toolbar=Toolbar(toolitems=[('Home', 'Reset original view', 'home', 'home'), ('Back', 'Back to previous …"
      ]
     },
     "metadata": {},
     "output_type": "display_data"
    }
   ],
   "source": [
    "fig, ax = plt.subplots(figsize=(6,6))\n",
    "country_counts = df_retail['Country'].value_counts()\n",
    "country_counts=country_counts.reset_index()\n",
    "country_counts.columns=['Country','Count']\n",
    "ax=sns.barplot(x='Country', y='Count',data=country_counts.head(10),estimator=max,ax=ax)\n",
    "ax.set_xticklabels(ax.get_xticklabels(), rotation=45)\n",
    "ax.set_title('Transactions in top 10 countries', fontsize = 14)\n",
    "plt.show()"
   ]
  },
  {
   "cell_type": "markdown",
   "metadata": {},
   "source": [
    "A large majority of orders are from the United Kingdom. Hence, for the purpose of this study, we can safely reject data points belonging to other countries"
   ]
  },
  {
   "cell_type": "markdown",
   "metadata": {},
   "source": [
    "## Data Preprocessing\n",
    "**Some insights made so far**:\n",
    "- There exists 133252 null entries in CustomerID.\n",
    "- There are 5268 duplicate entries.\n",
    "- Most of the entries are from the UK.\n",
    "\n",
    "First, the duplicate entries, entries with Country other than UK and entries with null values for CustomerID will be dropped."
   ]
  },
  {
   "cell_type": "code",
   "execution_count": 7,
   "metadata": {
    "datalore": {
     "hide_input_from_viewers": false,
     "hide_output_from_viewers": false,
     "type": "CODE"
    }
   },
   "outputs": [
    {
     "data": {
      "text/plain": [
       "0"
      ]
     },
     "execution_count": 7,
     "metadata": {},
     "output_type": "execute_result"
    }
   ],
   "source": [
    "# Removes all duplicates keeping the first instance\n",
    "df_retail.drop_duplicates(keep='first',inplace=True) \n",
    "df_retail.duplicated().sum()"
   ]
  },
  {
   "cell_type": "code",
   "execution_count": 8,
   "metadata": {
    "datalore": {
     "hide_input_from_viewers": false,
     "hide_output_from_viewers": false,
     "type": "CODE"
    },
    "scrolled": true
   },
   "outputs": [
    {
     "data": {
      "text/plain": [
       "United Kingdom    490300\n",
       "Name: Country, dtype: int64"
      ]
     },
     "execution_count": 8,
     "metadata": {},
     "output_type": "execute_result"
    }
   ],
   "source": [
    "# Keeps only entries from the United Kingdom\n",
    "df_retail=df_retail[df_retail['Country']=='United Kingdom'] \n",
    "df_retail['Country'].value_counts()"
   ]
  },
  {
   "cell_type": "code",
   "execution_count": 9,
   "metadata": {
    "datalore": {
     "hide_input_from_viewers": false,
     "hide_output_from_viewers": false,
     "type": "CODE"
    }
   },
   "outputs": [
    {
     "name": "stdout",
     "output_type": "stream",
     "text": [
      "<class 'pandas.core.frame.DataFrame'>\n",
      "Int64Index: 356728 entries, 0 to 541893\n",
      "Data columns (total 8 columns):\n",
      " #   Column       Non-Null Count   Dtype         \n",
      "---  ------       --------------   -----         \n",
      " 0   InvoiceNo    356728 non-null  object        \n",
      " 1   StockCode    356728 non-null  object        \n",
      " 2   Description  356728 non-null  object        \n",
      " 3   Quantity     356728 non-null  int64         \n",
      " 4   InvoiceDate  356728 non-null  datetime64[ns]\n",
      " 5   UnitPrice    356728 non-null  float64       \n",
      " 6   CustomerID   356728 non-null  float64       \n",
      " 7   Country      356728 non-null  object        \n",
      "dtypes: datetime64[ns](1), float64(2), int64(1), object(4)\n",
      "memory usage: 24.5+ MB\n"
     ]
    }
   ],
   "source": [
    "# Drop rows with null entries in CustomerID\n",
    "df_retail=df_retail.dropna(subset=['CustomerID'])\n",
    "df_retail.info()"
   ]
  },
  {
   "cell_type": "code",
   "execution_count": 10,
   "metadata": {},
   "outputs": [
    {
     "data": {
      "text/html": [
       "<div>\n",
       "<style scoped>\n",
       "    .dataframe tbody tr th:only-of-type {\n",
       "        vertical-align: middle;\n",
       "    }\n",
       "\n",
       "    .dataframe tbody tr th {\n",
       "        vertical-align: top;\n",
       "    }\n",
       "\n",
       "    .dataframe thead th {\n",
       "        text-align: right;\n",
       "    }\n",
       "</style>\n",
       "<table border=\"1\" class=\"dataframe\">\n",
       "  <thead>\n",
       "    <tr style=\"text-align: right;\">\n",
       "      <th></th>\n",
       "      <th>Quantity</th>\n",
       "      <th>UnitPrice</th>\n",
       "      <th>CustomerID</th>\n",
       "    </tr>\n",
       "  </thead>\n",
       "  <tbody>\n",
       "    <tr>\n",
       "      <th>count</th>\n",
       "      <td>356728.000000</td>\n",
       "      <td>356728.000000</td>\n",
       "      <td>356728.000000</td>\n",
       "    </tr>\n",
       "    <tr>\n",
       "      <th>mean</th>\n",
       "      <td>11.198644</td>\n",
       "      <td>3.268255</td>\n",
       "      <td>15543.795284</td>\n",
       "    </tr>\n",
       "    <tr>\n",
       "      <th>std</th>\n",
       "      <td>264.998044</td>\n",
       "      <td>71.162330</td>\n",
       "      <td>1594.286219</td>\n",
       "    </tr>\n",
       "    <tr>\n",
       "      <th>min</th>\n",
       "      <td>-80995.000000</td>\n",
       "      <td>0.000000</td>\n",
       "      <td>12346.000000</td>\n",
       "    </tr>\n",
       "    <tr>\n",
       "      <th>25%</th>\n",
       "      <td>2.000000</td>\n",
       "      <td>1.250000</td>\n",
       "      <td>14191.000000</td>\n",
       "    </tr>\n",
       "    <tr>\n",
       "      <th>50%</th>\n",
       "      <td>4.000000</td>\n",
       "      <td>1.950000</td>\n",
       "      <td>15513.000000</td>\n",
       "    </tr>\n",
       "    <tr>\n",
       "      <th>75%</th>\n",
       "      <td>12.000000</td>\n",
       "      <td>3.750000</td>\n",
       "      <td>16931.000000</td>\n",
       "    </tr>\n",
       "    <tr>\n",
       "      <th>max</th>\n",
       "      <td>80995.000000</td>\n",
       "      <td>38970.000000</td>\n",
       "      <td>18287.000000</td>\n",
       "    </tr>\n",
       "  </tbody>\n",
       "</table>\n",
       "</div>"
      ],
      "text/plain": [
       "            Quantity      UnitPrice     CustomerID\n",
       "count  356728.000000  356728.000000  356728.000000\n",
       "mean       11.198644       3.268255   15543.795284\n",
       "std       264.998044      71.162330    1594.286219\n",
       "min    -80995.000000       0.000000   12346.000000\n",
       "25%         2.000000       1.250000   14191.000000\n",
       "50%         4.000000       1.950000   15513.000000\n",
       "75%        12.000000       3.750000   16931.000000\n",
       "max     80995.000000   38970.000000   18287.000000"
      ]
     },
     "execution_count": 10,
     "metadata": {},
     "output_type": "execute_result"
    }
   ],
   "source": [
    "df_retail.describe()"
   ]
  },
  {
   "cell_type": "markdown",
   "metadata": {},
   "source": [
    "The minimum valuse of quantity and unit price are negative. This is not physically possible and could happen only due to canceled orders. According to the data description, the InvoiceNo of canceled orders contains the letter 'C' in them. These canceled order entries have to be removed to filter out actual transactions."
   ]
  },
  {
   "cell_type": "code",
   "execution_count": 11,
   "metadata": {
    "datalore": {
     "hide_input_from_viewers": false,
     "hide_output_from_viewers": false,
     "type": "CODE"
    }
   },
   "outputs": [
    {
     "name": "stdout",
     "output_type": "stream",
     "text": [
      "The number of canceled orders is : 0         False\n",
      "1         False\n",
      "2         False\n",
      "3         False\n",
      "4         False\n",
      "          ...  \n",
      "541889    False\n",
      "541890    False\n",
      "541891    False\n",
      "541892    False\n",
      "541893    False\n",
      "Name: InvoiceNo, Length: 356728, dtype: bool\n"
     ]
    }
   ],
   "source": [
    "# removes all cancelled orders\n",
    "print(\"The number of canceled orders is : {}\".format(df_retail[\"InvoiceNo\"].str.contains(\"C\", na=False)))\n",
    "df_retail = df_retail[~df_retail[\"InvoiceNo\"].str.contains(\"C\", na=False)] "
   ]
  },
  {
   "cell_type": "code",
   "execution_count": 12,
   "metadata": {},
   "outputs": [
    {
     "data": {
      "text/html": [
       "<div>\n",
       "<style scoped>\n",
       "    .dataframe tbody tr th:only-of-type {\n",
       "        vertical-align: middle;\n",
       "    }\n",
       "\n",
       "    .dataframe tbody tr th {\n",
       "        vertical-align: top;\n",
       "    }\n",
       "\n",
       "    .dataframe thead th {\n",
       "        text-align: right;\n",
       "    }\n",
       "</style>\n",
       "<table border=\"1\" class=\"dataframe\">\n",
       "  <thead>\n",
       "    <tr style=\"text-align: right;\">\n",
       "      <th></th>\n",
       "      <th>Quantity</th>\n",
       "      <th>UnitPrice</th>\n",
       "      <th>CustomerID</th>\n",
       "    </tr>\n",
       "  </thead>\n",
       "  <tbody>\n",
       "    <tr>\n",
       "      <th>count</th>\n",
       "      <td>349227.000000</td>\n",
       "      <td>349227.000000</td>\n",
       "      <td>349227.000000</td>\n",
       "    </tr>\n",
       "    <tr>\n",
       "      <th>mean</th>\n",
       "      <td>12.181295</td>\n",
       "      <td>2.972124</td>\n",
       "      <td>15548.333625</td>\n",
       "    </tr>\n",
       "    <tr>\n",
       "      <th>std</th>\n",
       "      <td>191.797470</td>\n",
       "      <td>17.990307</td>\n",
       "      <td>1594.403077</td>\n",
       "    </tr>\n",
       "    <tr>\n",
       "      <th>min</th>\n",
       "      <td>1.000000</td>\n",
       "      <td>0.000000</td>\n",
       "      <td>12346.000000</td>\n",
       "    </tr>\n",
       "    <tr>\n",
       "      <th>25%</th>\n",
       "      <td>2.000000</td>\n",
       "      <td>1.250000</td>\n",
       "      <td>14191.000000</td>\n",
       "    </tr>\n",
       "    <tr>\n",
       "      <th>50%</th>\n",
       "      <td>4.000000</td>\n",
       "      <td>1.950000</td>\n",
       "      <td>15518.000000</td>\n",
       "    </tr>\n",
       "    <tr>\n",
       "      <th>75%</th>\n",
       "      <td>12.000000</td>\n",
       "      <td>3.750000</td>\n",
       "      <td>16931.000000</td>\n",
       "    </tr>\n",
       "    <tr>\n",
       "      <th>max</th>\n",
       "      <td>80995.000000</td>\n",
       "      <td>8142.750000</td>\n",
       "      <td>18287.000000</td>\n",
       "    </tr>\n",
       "  </tbody>\n",
       "</table>\n",
       "</div>"
      ],
      "text/plain": [
       "            Quantity      UnitPrice     CustomerID\n",
       "count  349227.000000  349227.000000  349227.000000\n",
       "mean       12.181295       2.972124   15548.333625\n",
       "std       191.797470      17.990307    1594.403077\n",
       "min         1.000000       0.000000   12346.000000\n",
       "25%         2.000000       1.250000   14191.000000\n",
       "50%         4.000000       1.950000   15518.000000\n",
       "75%        12.000000       3.750000   16931.000000\n",
       "max     80995.000000    8142.750000   18287.000000"
      ]
     },
     "execution_count": 12,
     "metadata": {},
     "output_type": "execute_result"
    }
   ],
   "source": [
    "df_retail.describe()"
   ]
  },
  {
   "cell_type": "markdown",
   "metadata": {},
   "source": [
    "There are still instances of negative values of unit price and quantity. These entries have to be removed."
   ]
  },
  {
   "cell_type": "code",
   "execution_count": 13,
   "metadata": {
    "datalore": {
     "hide_input_from_viewers": false,
     "hide_output_from_viewers": false,
     "type": "CODE"
    }
   },
   "outputs": [
    {
     "name": "stdout",
     "output_type": "stream",
     "text": [
      "<class 'pandas.core.frame.DataFrame'>\n",
      "Int64Index: 349203 entries, 0 to 541893\n",
      "Data columns (total 8 columns):\n",
      " #   Column       Non-Null Count   Dtype         \n",
      "---  ------       --------------   -----         \n",
      " 0   InvoiceNo    349203 non-null  object        \n",
      " 1   StockCode    349203 non-null  object        \n",
      " 2   Description  349203 non-null  object        \n",
      " 3   Quantity     349203 non-null  int64         \n",
      " 4   InvoiceDate  349203 non-null  datetime64[ns]\n",
      " 5   UnitPrice    349203 non-null  float64       \n",
      " 6   CustomerID   349203 non-null  float64       \n",
      " 7   Country      349203 non-null  object        \n",
      "dtypes: datetime64[ns](1), float64(2), int64(1), object(4)\n",
      "memory usage: 24.0+ MB\n"
     ]
    }
   ],
   "source": [
    "# Keep only non negative values of Price and Quantity\n",
    "df_retail = df_retail[(df_retail['UnitPrice']>0) & (df_retail['Quantity']>0)]\n",
    "df_retail.info()"
   ]
  },
  {
   "cell_type": "markdown",
   "metadata": {},
   "source": [
    "## RFM Analysis\n",
    "For the purpose of clustering, first we have to define Recency, Frequency and Monetary values.\n",
    "- **Monetary value**- It can be the net amount recieved by the comany from one customer. i.e The sum of quantity times unit price across all transactions of a given customer.\n",
    "- **Frequency**- This can be defined as the number of purchases made by one customer. i.e the numbver of transactions per customer.\n",
    "- **Recency**- The time between last transaction and current date. Here, we can assume the most recent transaction date to be the correct date. \n"
   ]
  },
  {
   "cell_type": "code",
   "execution_count": 14,
   "metadata": {
    "datalore": {
     "hide_input_from_viewers": false,
     "hide_output_from_viewers": false,
     "type": "CODE"
    }
   },
   "outputs": [
    {
     "data": {
      "text/html": [
       "<div>\n",
       "<style scoped>\n",
       "    .dataframe tbody tr th:only-of-type {\n",
       "        vertical-align: middle;\n",
       "    }\n",
       "\n",
       "    .dataframe tbody tr th {\n",
       "        vertical-align: top;\n",
       "    }\n",
       "\n",
       "    .dataframe thead th {\n",
       "        text-align: right;\n",
       "    }\n",
       "</style>\n",
       "<table border=\"1\" class=\"dataframe\">\n",
       "  <thead>\n",
       "    <tr style=\"text-align: right;\">\n",
       "      <th></th>\n",
       "      <th>InvoiceNo</th>\n",
       "      <th>StockCode</th>\n",
       "      <th>Description</th>\n",
       "      <th>Quantity</th>\n",
       "      <th>InvoiceDate</th>\n",
       "      <th>UnitPrice</th>\n",
       "      <th>CustomerID</th>\n",
       "      <th>Country</th>\n",
       "      <th>Amount</th>\n",
       "    </tr>\n",
       "  </thead>\n",
       "  <tbody>\n",
       "    <tr>\n",
       "      <th>0</th>\n",
       "      <td>536365</td>\n",
       "      <td>85123A</td>\n",
       "      <td>WHITE HANGING HEART T-LIGHT HOLDER</td>\n",
       "      <td>6</td>\n",
       "      <td>2010-12-01 08:26:00</td>\n",
       "      <td>2.55</td>\n",
       "      <td>17850.0</td>\n",
       "      <td>United Kingdom</td>\n",
       "      <td>15.30</td>\n",
       "    </tr>\n",
       "    <tr>\n",
       "      <th>1</th>\n",
       "      <td>536365</td>\n",
       "      <td>71053</td>\n",
       "      <td>WHITE METAL LANTERN</td>\n",
       "      <td>6</td>\n",
       "      <td>2010-12-01 08:26:00</td>\n",
       "      <td>3.39</td>\n",
       "      <td>17850.0</td>\n",
       "      <td>United Kingdom</td>\n",
       "      <td>20.34</td>\n",
       "    </tr>\n",
       "    <tr>\n",
       "      <th>2</th>\n",
       "      <td>536365</td>\n",
       "      <td>84406B</td>\n",
       "      <td>CREAM CUPID HEARTS COAT HANGER</td>\n",
       "      <td>8</td>\n",
       "      <td>2010-12-01 08:26:00</td>\n",
       "      <td>2.75</td>\n",
       "      <td>17850.0</td>\n",
       "      <td>United Kingdom</td>\n",
       "      <td>22.00</td>\n",
       "    </tr>\n",
       "    <tr>\n",
       "      <th>3</th>\n",
       "      <td>536365</td>\n",
       "      <td>84029G</td>\n",
       "      <td>KNITTED UNION FLAG HOT WATER BOTTLE</td>\n",
       "      <td>6</td>\n",
       "      <td>2010-12-01 08:26:00</td>\n",
       "      <td>3.39</td>\n",
       "      <td>17850.0</td>\n",
       "      <td>United Kingdom</td>\n",
       "      <td>20.34</td>\n",
       "    </tr>\n",
       "    <tr>\n",
       "      <th>4</th>\n",
       "      <td>536365</td>\n",
       "      <td>84029E</td>\n",
       "      <td>RED WOOLLY HOTTIE WHITE HEART.</td>\n",
       "      <td>6</td>\n",
       "      <td>2010-12-01 08:26:00</td>\n",
       "      <td>3.39</td>\n",
       "      <td>17850.0</td>\n",
       "      <td>United Kingdom</td>\n",
       "      <td>20.34</td>\n",
       "    </tr>\n",
       "  </tbody>\n",
       "</table>\n",
       "</div>"
      ],
      "text/plain": [
       "  InvoiceNo StockCode                          Description  Quantity  \\\n",
       "0    536365    85123A   WHITE HANGING HEART T-LIGHT HOLDER         6   \n",
       "1    536365     71053                  WHITE METAL LANTERN         6   \n",
       "2    536365    84406B       CREAM CUPID HEARTS COAT HANGER         8   \n",
       "3    536365    84029G  KNITTED UNION FLAG HOT WATER BOTTLE         6   \n",
       "4    536365    84029E       RED WOOLLY HOTTIE WHITE HEART.         6   \n",
       "\n",
       "          InvoiceDate  UnitPrice  CustomerID         Country  Amount  \n",
       "0 2010-12-01 08:26:00       2.55     17850.0  United Kingdom   15.30  \n",
       "1 2010-12-01 08:26:00       3.39     17850.0  United Kingdom   20.34  \n",
       "2 2010-12-01 08:26:00       2.75     17850.0  United Kingdom   22.00  \n",
       "3 2010-12-01 08:26:00       3.39     17850.0  United Kingdom   20.34  \n",
       "4 2010-12-01 08:26:00       3.39     17850.0  United Kingdom   20.34  "
      ]
     },
     "execution_count": 14,
     "metadata": {},
     "output_type": "execute_result"
    }
   ],
   "source": [
    "# Calculates amount as product of unit price and Quantity\n",
    "df_retail['Amount']=df_retail['Quantity']*df_retail['UnitPrice']\n",
    "df_retail.head()"
   ]
  },
  {
   "cell_type": "code",
   "execution_count": 15,
   "metadata": {
    "datalore": {
     "hide_input_from_viewers": false,
     "hide_output_from_viewers": false,
     "type": "CODE"
    }
   },
   "outputs": [
    {
     "data": {
      "text/html": [
       "<div>\n",
       "<style scoped>\n",
       "    .dataframe tbody tr th:only-of-type {\n",
       "        vertical-align: middle;\n",
       "    }\n",
       "\n",
       "    .dataframe tbody tr th {\n",
       "        vertical-align: top;\n",
       "    }\n",
       "\n",
       "    .dataframe thead th {\n",
       "        text-align: right;\n",
       "    }\n",
       "</style>\n",
       "<table border=\"1\" class=\"dataframe\">\n",
       "  <thead>\n",
       "    <tr style=\"text-align: right;\">\n",
       "      <th></th>\n",
       "      <th>CustomerID</th>\n",
       "      <th>Amount</th>\n",
       "    </tr>\n",
       "  </thead>\n",
       "  <tbody>\n",
       "    <tr>\n",
       "      <th>0</th>\n",
       "      <td>12346.0</td>\n",
       "      <td>77183.60</td>\n",
       "    </tr>\n",
       "    <tr>\n",
       "      <th>1</th>\n",
       "      <td>12747.0</td>\n",
       "      <td>4196.01</td>\n",
       "    </tr>\n",
       "    <tr>\n",
       "      <th>2</th>\n",
       "      <td>12748.0</td>\n",
       "      <td>33053.19</td>\n",
       "    </tr>\n",
       "    <tr>\n",
       "      <th>3</th>\n",
       "      <td>12749.0</td>\n",
       "      <td>4090.88</td>\n",
       "    </tr>\n",
       "    <tr>\n",
       "      <th>4</th>\n",
       "      <td>12820.0</td>\n",
       "      <td>942.34</td>\n",
       "    </tr>\n",
       "  </tbody>\n",
       "</table>\n",
       "</div>"
      ],
      "text/plain": [
       "   CustomerID    Amount\n",
       "0     12346.0  77183.60\n",
       "1     12747.0   4196.01\n",
       "2     12748.0  33053.19\n",
       "3     12749.0   4090.88\n",
       "4     12820.0    942.34"
      ]
     },
     "execution_count": 15,
     "metadata": {},
     "output_type": "execute_result"
    }
   ],
   "source": [
    "# Calculates total monetary value of each customers as sum of Amount of all transactions and stores in new dataframe\n",
    "monetary=df_retail.groupby('CustomerID')['Amount'].sum()\n",
    "monetary = monetary.reset_index()\n",
    "monetary.head()"
   ]
  },
  {
   "cell_type": "code",
   "execution_count": 16,
   "metadata": {
    "datalore": {
     "hide_input_from_viewers": false,
     "hide_output_from_viewers": false,
     "type": "CODE"
    }
   },
   "outputs": [
    {
     "data": {
      "text/html": [
       "<div>\n",
       "<style scoped>\n",
       "    .dataframe tbody tr th:only-of-type {\n",
       "        vertical-align: middle;\n",
       "    }\n",
       "\n",
       "    .dataframe tbody tr th {\n",
       "        vertical-align: top;\n",
       "    }\n",
       "\n",
       "    .dataframe thead th {\n",
       "        text-align: right;\n",
       "    }\n",
       "</style>\n",
       "<table border=\"1\" class=\"dataframe\">\n",
       "  <thead>\n",
       "    <tr style=\"text-align: right;\">\n",
       "      <th></th>\n",
       "      <th>CustomerID</th>\n",
       "      <th>InvoiceNo</th>\n",
       "    </tr>\n",
       "  </thead>\n",
       "  <tbody>\n",
       "    <tr>\n",
       "      <th>0</th>\n",
       "      <td>12346.0</td>\n",
       "      <td>1</td>\n",
       "    </tr>\n",
       "    <tr>\n",
       "      <th>1</th>\n",
       "      <td>12747.0</td>\n",
       "      <td>103</td>\n",
       "    </tr>\n",
       "    <tr>\n",
       "      <th>2</th>\n",
       "      <td>12748.0</td>\n",
       "      <td>4412</td>\n",
       "    </tr>\n",
       "    <tr>\n",
       "      <th>3</th>\n",
       "      <td>12749.0</td>\n",
       "      <td>199</td>\n",
       "    </tr>\n",
       "    <tr>\n",
       "      <th>4</th>\n",
       "      <td>12820.0</td>\n",
       "      <td>59</td>\n",
       "    </tr>\n",
       "  </tbody>\n",
       "</table>\n",
       "</div>"
      ],
      "text/plain": [
       "   CustomerID  InvoiceNo\n",
       "0     12346.0          1\n",
       "1     12747.0        103\n",
       "2     12748.0       4412\n",
       "3     12749.0        199\n",
       "4     12820.0         59"
      ]
     },
     "execution_count": 16,
     "metadata": {},
     "output_type": "execute_result"
    }
   ],
   "source": [
    "# Total number of individual transaction of customers by invoice number\n",
    "frequency = df_retail.groupby('CustomerID')['InvoiceNo'].count()\n",
    "frequency = frequency.reset_index()\n",
    "frequency.head()"
   ]
  },
  {
   "cell_type": "code",
   "execution_count": 17,
   "metadata": {
    "datalore": {
     "hide_input_from_viewers": false,
     "hide_output_from_viewers": false,
     "type": "CODE"
    }
   },
   "outputs": [
    {
     "data": {
      "text/html": [
       "<div>\n",
       "<style scoped>\n",
       "    .dataframe tbody tr th:only-of-type {\n",
       "        vertical-align: middle;\n",
       "    }\n",
       "\n",
       "    .dataframe tbody tr th {\n",
       "        vertical-align: top;\n",
       "    }\n",
       "\n",
       "    .dataframe thead th {\n",
       "        text-align: right;\n",
       "    }\n",
       "</style>\n",
       "<table border=\"1\" class=\"dataframe\">\n",
       "  <thead>\n",
       "    <tr style=\"text-align: right;\">\n",
       "      <th></th>\n",
       "      <th>InvoiceNo</th>\n",
       "      <th>StockCode</th>\n",
       "      <th>Description</th>\n",
       "      <th>Quantity</th>\n",
       "      <th>InvoiceDate</th>\n",
       "      <th>UnitPrice</th>\n",
       "      <th>CustomerID</th>\n",
       "      <th>Country</th>\n",
       "      <th>Amount</th>\n",
       "      <th>Latest</th>\n",
       "    </tr>\n",
       "  </thead>\n",
       "  <tbody>\n",
       "    <tr>\n",
       "      <th>0</th>\n",
       "      <td>536365</td>\n",
       "      <td>85123A</td>\n",
       "      <td>WHITE HANGING HEART T-LIGHT HOLDER</td>\n",
       "      <td>6</td>\n",
       "      <td>2010-12-01 08:26:00</td>\n",
       "      <td>2.55</td>\n",
       "      <td>17850.0</td>\n",
       "      <td>United Kingdom</td>\n",
       "      <td>15.30</td>\n",
       "      <td>373 days 04:23:00</td>\n",
       "    </tr>\n",
       "    <tr>\n",
       "      <th>1</th>\n",
       "      <td>536365</td>\n",
       "      <td>71053</td>\n",
       "      <td>WHITE METAL LANTERN</td>\n",
       "      <td>6</td>\n",
       "      <td>2010-12-01 08:26:00</td>\n",
       "      <td>3.39</td>\n",
       "      <td>17850.0</td>\n",
       "      <td>United Kingdom</td>\n",
       "      <td>20.34</td>\n",
       "      <td>373 days 04:23:00</td>\n",
       "    </tr>\n",
       "    <tr>\n",
       "      <th>2</th>\n",
       "      <td>536365</td>\n",
       "      <td>84406B</td>\n",
       "      <td>CREAM CUPID HEARTS COAT HANGER</td>\n",
       "      <td>8</td>\n",
       "      <td>2010-12-01 08:26:00</td>\n",
       "      <td>2.75</td>\n",
       "      <td>17850.0</td>\n",
       "      <td>United Kingdom</td>\n",
       "      <td>22.00</td>\n",
       "      <td>373 days 04:23:00</td>\n",
       "    </tr>\n",
       "    <tr>\n",
       "      <th>3</th>\n",
       "      <td>536365</td>\n",
       "      <td>84029G</td>\n",
       "      <td>KNITTED UNION FLAG HOT WATER BOTTLE</td>\n",
       "      <td>6</td>\n",
       "      <td>2010-12-01 08:26:00</td>\n",
       "      <td>3.39</td>\n",
       "      <td>17850.0</td>\n",
       "      <td>United Kingdom</td>\n",
       "      <td>20.34</td>\n",
       "      <td>373 days 04:23:00</td>\n",
       "    </tr>\n",
       "    <tr>\n",
       "      <th>4</th>\n",
       "      <td>536365</td>\n",
       "      <td>84029E</td>\n",
       "      <td>RED WOOLLY HOTTIE WHITE HEART.</td>\n",
       "      <td>6</td>\n",
       "      <td>2010-12-01 08:26:00</td>\n",
       "      <td>3.39</td>\n",
       "      <td>17850.0</td>\n",
       "      <td>United Kingdom</td>\n",
       "      <td>20.34</td>\n",
       "      <td>373 days 04:23:00</td>\n",
       "    </tr>\n",
       "  </tbody>\n",
       "</table>\n",
       "</div>"
      ],
      "text/plain": [
       "  InvoiceNo StockCode                          Description  Quantity  \\\n",
       "0    536365    85123A   WHITE HANGING HEART T-LIGHT HOLDER         6   \n",
       "1    536365     71053                  WHITE METAL LANTERN         6   \n",
       "2    536365    84406B       CREAM CUPID HEARTS COAT HANGER         8   \n",
       "3    536365    84029G  KNITTED UNION FLAG HOT WATER BOTTLE         6   \n",
       "4    536365    84029E       RED WOOLLY HOTTIE WHITE HEART.         6   \n",
       "\n",
       "          InvoiceDate  UnitPrice  CustomerID         Country  Amount  \\\n",
       "0 2010-12-01 08:26:00       2.55     17850.0  United Kingdom   15.30   \n",
       "1 2010-12-01 08:26:00       3.39     17850.0  United Kingdom   20.34   \n",
       "2 2010-12-01 08:26:00       2.75     17850.0  United Kingdom   22.00   \n",
       "3 2010-12-01 08:26:00       3.39     17850.0  United Kingdom   20.34   \n",
       "4 2010-12-01 08:26:00       3.39     17850.0  United Kingdom   20.34   \n",
       "\n",
       "             Latest  \n",
       "0 373 days 04:23:00  \n",
       "1 373 days 04:23:00  \n",
       "2 373 days 04:23:00  \n",
       "3 373 days 04:23:00  \n",
       "4 373 days 04:23:00  "
      ]
     },
     "execution_count": 17,
     "metadata": {},
     "output_type": "execute_result"
    }
   ],
   "source": [
    "# Number of days between each transaction and last recorded transaction \n",
    "df_retail['Latest'] = max(df_retail['InvoiceDate']) - df_retail['InvoiceDate']\n",
    "df_retail.head()"
   ]
  },
  {
   "cell_type": "code",
   "execution_count": 18,
   "metadata": {
    "datalore": {
     "hide_input_from_viewers": false,
     "hide_output_from_viewers": false,
     "type": "CODE"
    }
   },
   "outputs": [
    {
     "data": {
      "text/html": [
       "<div>\n",
       "<style scoped>\n",
       "    .dataframe tbody tr th:only-of-type {\n",
       "        vertical-align: middle;\n",
       "    }\n",
       "\n",
       "    .dataframe tbody tr th {\n",
       "        vertical-align: top;\n",
       "    }\n",
       "\n",
       "    .dataframe thead th {\n",
       "        text-align: right;\n",
       "    }\n",
       "</style>\n",
       "<table border=\"1\" class=\"dataframe\">\n",
       "  <thead>\n",
       "    <tr style=\"text-align: right;\">\n",
       "      <th></th>\n",
       "      <th>CustomerID</th>\n",
       "      <th>Latest</th>\n",
       "    </tr>\n",
       "  </thead>\n",
       "  <tbody>\n",
       "    <tr>\n",
       "      <th>0</th>\n",
       "      <td>12346.0</td>\n",
       "      <td>325 days 02:48:00</td>\n",
       "    </tr>\n",
       "    <tr>\n",
       "      <th>1</th>\n",
       "      <td>12747.0</td>\n",
       "      <td>1 days 22:15:00</td>\n",
       "    </tr>\n",
       "    <tr>\n",
       "      <th>2</th>\n",
       "      <td>12748.0</td>\n",
       "      <td>0 days 00:29:00</td>\n",
       "    </tr>\n",
       "    <tr>\n",
       "      <th>3</th>\n",
       "      <td>12749.0</td>\n",
       "      <td>3 days 02:53:00</td>\n",
       "    </tr>\n",
       "    <tr>\n",
       "      <th>4</th>\n",
       "      <td>12820.0</td>\n",
       "      <td>2 days 21:37:00</td>\n",
       "    </tr>\n",
       "  </tbody>\n",
       "</table>\n",
       "</div>"
      ],
      "text/plain": [
       "   CustomerID            Latest\n",
       "0     12346.0 325 days 02:48:00\n",
       "1     12747.0   1 days 22:15:00\n",
       "2     12748.0   0 days 00:29:00\n",
       "3     12749.0   3 days 02:53:00\n",
       "4     12820.0   2 days 21:37:00"
      ]
     },
     "execution_count": 18,
     "metadata": {},
     "output_type": "execute_result"
    }
   ],
   "source": [
    "# Most recent transaction per customer \n",
    "recency = df_retail.groupby('CustomerID')['Latest'].min()\n",
    "recency = recency.reset_index()\n",
    "recency.head()"
   ]
  },
  {
   "cell_type": "code",
   "execution_count": 19,
   "metadata": {
    "datalore": {
     "hide_input_from_viewers": false,
     "hide_output_from_viewers": false,
     "type": "CODE"
    }
   },
   "outputs": [
    {
     "data": {
      "text/html": [
       "<div>\n",
       "<style scoped>\n",
       "    .dataframe tbody tr th:only-of-type {\n",
       "        vertical-align: middle;\n",
       "    }\n",
       "\n",
       "    .dataframe tbody tr th {\n",
       "        vertical-align: top;\n",
       "    }\n",
       "\n",
       "    .dataframe thead th {\n",
       "        text-align: right;\n",
       "    }\n",
       "</style>\n",
       "<table border=\"1\" class=\"dataframe\">\n",
       "  <thead>\n",
       "    <tr style=\"text-align: right;\">\n",
       "      <th></th>\n",
       "      <th>CustomerID</th>\n",
       "      <th>Latest</th>\n",
       "    </tr>\n",
       "  </thead>\n",
       "  <tbody>\n",
       "    <tr>\n",
       "      <th>0</th>\n",
       "      <td>12346.0</td>\n",
       "      <td>325</td>\n",
       "    </tr>\n",
       "    <tr>\n",
       "      <th>1</th>\n",
       "      <td>12747.0</td>\n",
       "      <td>1</td>\n",
       "    </tr>\n",
       "    <tr>\n",
       "      <th>2</th>\n",
       "      <td>12748.0</td>\n",
       "      <td>0</td>\n",
       "    </tr>\n",
       "    <tr>\n",
       "      <th>3</th>\n",
       "      <td>12749.0</td>\n",
       "      <td>3</td>\n",
       "    </tr>\n",
       "    <tr>\n",
       "      <th>4</th>\n",
       "      <td>12820.0</td>\n",
       "      <td>2</td>\n",
       "    </tr>\n",
       "  </tbody>\n",
       "</table>\n",
       "</div>"
      ],
      "text/plain": [
       "   CustomerID  Latest\n",
       "0     12346.0     325\n",
       "1     12747.0       1\n",
       "2     12748.0       0\n",
       "3     12749.0       3\n",
       "4     12820.0       2"
      ]
     },
     "execution_count": 19,
     "metadata": {},
     "output_type": "execute_result"
    }
   ],
   "source": [
    "# Remove time from the values\n",
    "recency['Latest']=recency['Latest'].dt.days\n",
    "recency.head()"
   ]
  },
  {
   "cell_type": "code",
   "execution_count": 20,
   "metadata": {
    "datalore": {
     "hide_input_from_viewers": false,
     "hide_output_from_viewers": false,
     "type": "CODE"
    }
   },
   "outputs": [
    {
     "data": {
      "text/html": [
       "<div>\n",
       "<style scoped>\n",
       "    .dataframe tbody tr th:only-of-type {\n",
       "        vertical-align: middle;\n",
       "    }\n",
       "\n",
       "    .dataframe tbody tr th {\n",
       "        vertical-align: top;\n",
       "    }\n",
       "\n",
       "    .dataframe thead th {\n",
       "        text-align: right;\n",
       "    }\n",
       "</style>\n",
       "<table border=\"1\" class=\"dataframe\">\n",
       "  <thead>\n",
       "    <tr style=\"text-align: right;\">\n",
       "      <th></th>\n",
       "      <th>CustomerID</th>\n",
       "      <th>Amount</th>\n",
       "      <th>InvoiceNo</th>\n",
       "    </tr>\n",
       "  </thead>\n",
       "  <tbody>\n",
       "    <tr>\n",
       "      <th>0</th>\n",
       "      <td>12346.0</td>\n",
       "      <td>77183.60</td>\n",
       "      <td>1</td>\n",
       "    </tr>\n",
       "    <tr>\n",
       "      <th>1</th>\n",
       "      <td>12747.0</td>\n",
       "      <td>4196.01</td>\n",
       "      <td>103</td>\n",
       "    </tr>\n",
       "    <tr>\n",
       "      <th>2</th>\n",
       "      <td>12748.0</td>\n",
       "      <td>33053.19</td>\n",
       "      <td>4412</td>\n",
       "    </tr>\n",
       "    <tr>\n",
       "      <th>3</th>\n",
       "      <td>12749.0</td>\n",
       "      <td>4090.88</td>\n",
       "      <td>199</td>\n",
       "    </tr>\n",
       "    <tr>\n",
       "      <th>4</th>\n",
       "      <td>12820.0</td>\n",
       "      <td>942.34</td>\n",
       "      <td>59</td>\n",
       "    </tr>\n",
       "  </tbody>\n",
       "</table>\n",
       "</div>"
      ],
      "text/plain": [
       "   CustomerID    Amount  InvoiceNo\n",
       "0     12346.0  77183.60          1\n",
       "1     12747.0   4196.01        103\n",
       "2     12748.0  33053.19       4412\n",
       "3     12749.0   4090.88        199\n",
       "4     12820.0    942.34         59"
      ]
     },
     "execution_count": 20,
     "metadata": {},
     "output_type": "execute_result"
    }
   ],
   "source": [
    "# Merge monetary and frequency tables based on CustomerID\n",
    "rfm = pd.merge(monetary, frequency, on='CustomerID', how='inner')\n",
    "rfm.head()"
   ]
  },
  {
   "cell_type": "code",
   "execution_count": 21,
   "metadata": {
    "datalore": {
     "hide_input_from_viewers": false,
     "hide_output_from_viewers": false,
     "type": "CODE"
    }
   },
   "outputs": [
    {
     "data": {
      "text/html": [
       "<div>\n",
       "<style scoped>\n",
       "    .dataframe tbody tr th:only-of-type {\n",
       "        vertical-align: middle;\n",
       "    }\n",
       "\n",
       "    .dataframe tbody tr th {\n",
       "        vertical-align: top;\n",
       "    }\n",
       "\n",
       "    .dataframe thead th {\n",
       "        text-align: right;\n",
       "    }\n",
       "</style>\n",
       "<table border=\"1\" class=\"dataframe\">\n",
       "  <thead>\n",
       "    <tr style=\"text-align: right;\">\n",
       "      <th></th>\n",
       "      <th>CustomerID</th>\n",
       "      <th>Monetary</th>\n",
       "      <th>Frequency</th>\n",
       "      <th>Recency</th>\n",
       "    </tr>\n",
       "  </thead>\n",
       "  <tbody>\n",
       "    <tr>\n",
       "      <th>0</th>\n",
       "      <td>12346.0</td>\n",
       "      <td>77183.60</td>\n",
       "      <td>1</td>\n",
       "      <td>325</td>\n",
       "    </tr>\n",
       "    <tr>\n",
       "      <th>1</th>\n",
       "      <td>12747.0</td>\n",
       "      <td>4196.01</td>\n",
       "      <td>103</td>\n",
       "      <td>1</td>\n",
       "    </tr>\n",
       "    <tr>\n",
       "      <th>2</th>\n",
       "      <td>12748.0</td>\n",
       "      <td>33053.19</td>\n",
       "      <td>4412</td>\n",
       "      <td>0</td>\n",
       "    </tr>\n",
       "    <tr>\n",
       "      <th>3</th>\n",
       "      <td>12749.0</td>\n",
       "      <td>4090.88</td>\n",
       "      <td>199</td>\n",
       "      <td>3</td>\n",
       "    </tr>\n",
       "    <tr>\n",
       "      <th>4</th>\n",
       "      <td>12820.0</td>\n",
       "      <td>942.34</td>\n",
       "      <td>59</td>\n",
       "      <td>2</td>\n",
       "    </tr>\n",
       "  </tbody>\n",
       "</table>\n",
       "</div>"
      ],
      "text/plain": [
       "   CustomerID  Monetary  Frequency  Recency\n",
       "0     12346.0  77183.60          1      325\n",
       "1     12747.0   4196.01        103        1\n",
       "2     12748.0  33053.19       4412        0\n",
       "3     12749.0   4090.88        199        3\n",
       "4     12820.0    942.34         59        2"
      ]
     },
     "execution_count": 21,
     "metadata": {},
     "output_type": "execute_result"
    }
   ],
   "source": [
    "# Merge monetary and frequency table with recency table based on CustomerID and change column name\n",
    "rfm = pd.merge(rfm, recency, on='CustomerID', how='inner')\n",
    "rfm.columns=['CustomerID','Monetary','Frequency','Recency']\n",
    "rfm.head()"
   ]
  },
  {
   "cell_type": "code",
   "execution_count": 22,
   "metadata": {
    "datalore": {
     "hide_input_from_viewers": false,
     "hide_output_from_viewers": false,
     "type": "CODE"
    }
   },
   "outputs": [],
   "source": [
    "# CustomerID is stored as string\n",
    "rfm['CustomerID']=rfm['CustomerID'].astype(str)"
   ]
  },
  {
   "cell_type": "markdown",
   "metadata": {},
   "source": [
    "Now, we have an RFM table. For the next step, we need to remove the outliers. We will use the **z-score** method for the same."
   ]
  },
  {
   "cell_type": "code",
   "execution_count": 23,
   "metadata": {
    "datalore": {
     "hide_input_from_viewers": false,
     "hide_output_from_viewers": false,
     "type": "CODE"
    }
   },
   "outputs": [
    {
     "data": {
      "text/html": [
       "<div>\n",
       "<style scoped>\n",
       "    .dataframe tbody tr th:only-of-type {\n",
       "        vertical-align: middle;\n",
       "    }\n",
       "\n",
       "    .dataframe tbody tr th {\n",
       "        vertical-align: top;\n",
       "    }\n",
       "\n",
       "    .dataframe thead th {\n",
       "        text-align: right;\n",
       "    }\n",
       "</style>\n",
       "<table border=\"1\" class=\"dataframe\">\n",
       "  <thead>\n",
       "    <tr style=\"text-align: right;\">\n",
       "      <th></th>\n",
       "      <th>Monetary</th>\n",
       "      <th>Frequency</th>\n",
       "      <th>Recency</th>\n",
       "    </tr>\n",
       "  </thead>\n",
       "  <tbody>\n",
       "    <tr>\n",
       "      <th>count</th>\n",
       "      <td>3920.000000</td>\n",
       "      <td>3920.000000</td>\n",
       "      <td>3920.000000</td>\n",
       "    </tr>\n",
       "    <tr>\n",
       "      <th>mean</th>\n",
       "      <td>1858.424654</td>\n",
       "      <td>89.082398</td>\n",
       "      <td>91.208418</td>\n",
       "    </tr>\n",
       "    <tr>\n",
       "      <th>std</th>\n",
       "      <td>7478.631256</td>\n",
       "      <td>214.034542</td>\n",
       "      <td>99.533854</td>\n",
       "    </tr>\n",
       "    <tr>\n",
       "      <th>min</th>\n",
       "      <td>3.750000</td>\n",
       "      <td>1.000000</td>\n",
       "      <td>0.000000</td>\n",
       "    </tr>\n",
       "    <tr>\n",
       "      <th>25%</th>\n",
       "      <td>298.185000</td>\n",
       "      <td>17.000000</td>\n",
       "      <td>17.000000</td>\n",
       "    </tr>\n",
       "    <tr>\n",
       "      <th>50%</th>\n",
       "      <td>644.975000</td>\n",
       "      <td>40.000000</td>\n",
       "      <td>50.000000</td>\n",
       "    </tr>\n",
       "    <tr>\n",
       "      <th>75%</th>\n",
       "      <td>1571.285000</td>\n",
       "      <td>98.000000</td>\n",
       "      <td>142.000000</td>\n",
       "    </tr>\n",
       "    <tr>\n",
       "      <th>max</th>\n",
       "      <td>259657.300000</td>\n",
       "      <td>7676.000000</td>\n",
       "      <td>373.000000</td>\n",
       "    </tr>\n",
       "  </tbody>\n",
       "</table>\n",
       "</div>"
      ],
      "text/plain": [
       "            Monetary    Frequency      Recency\n",
       "count    3920.000000  3920.000000  3920.000000\n",
       "mean     1858.424654    89.082398    91.208418\n",
       "std      7478.631256   214.034542    99.533854\n",
       "min         3.750000     1.000000     0.000000\n",
       "25%       298.185000    17.000000    17.000000\n",
       "50%       644.975000    40.000000    50.000000\n",
       "75%      1571.285000    98.000000   142.000000\n",
       "max    259657.300000  7676.000000   373.000000"
      ]
     },
     "execution_count": 23,
     "metadata": {},
     "output_type": "execute_result"
    }
   ],
   "source": [
    "# Statistical description of dataframe\n",
    "rfm.describe()"
   ]
  },
  {
   "cell_type": "markdown",
   "metadata": {},
   "source": [
    "The mean is taken as 0 and standard deviation as 1. We will fit only the values that lie within 3 standard deviations from the mean and remove the rest. This process is repeated for all 3 columns."
   ]
  },
  {
   "cell_type": "code",
   "execution_count": 24,
   "metadata": {
    "datalore": {
     "hide_input_from_viewers": false,
     "hide_output_from_viewers": false,
     "type": "CODE"
    }
   },
   "outputs": [
    {
     "data": {
      "text/plain": [
       "(24294.31842285217, -20577.46911468891, 1858.4246540816325, 7478.631256256846)"
      ]
     },
     "execution_count": 24,
     "metadata": {},
     "output_type": "execute_result"
    }
   ],
   "source": [
    "# Set upper limit and lower limit at 3 standard deviations from the mean\n",
    "m_mean=rfm['Monetary'].mean()\n",
    "m_sd=rfm['Monetary'].std()\n",
    "upperl_m=m_mean+3*m_sd\n",
    "lowerl_m=m_mean-3*m_sd\n",
    "upperl_m,lowerl_m,m_mean,m_sd"
   ]
  },
  {
   "cell_type": "code",
   "execution_count": 25,
   "metadata": {
    "datalore": {
     "hide_input_from_viewers": false,
     "hide_output_from_viewers": false,
     "type": "CODE"
    }
   },
   "outputs": [
    {
     "data": {
      "text/html": [
       "<div>\n",
       "<style scoped>\n",
       "    .dataframe tbody tr th:only-of-type {\n",
       "        vertical-align: middle;\n",
       "    }\n",
       "\n",
       "    .dataframe tbody tr th {\n",
       "        vertical-align: top;\n",
       "    }\n",
       "\n",
       "    .dataframe thead th {\n",
       "        text-align: right;\n",
       "    }\n",
       "</style>\n",
       "<table border=\"1\" class=\"dataframe\">\n",
       "  <thead>\n",
       "    <tr style=\"text-align: right;\">\n",
       "      <th></th>\n",
       "      <th>Monetary</th>\n",
       "      <th>Frequency</th>\n",
       "      <th>Recency</th>\n",
       "    </tr>\n",
       "  </thead>\n",
       "  <tbody>\n",
       "    <tr>\n",
       "      <th>count</th>\n",
       "      <td>3887.000000</td>\n",
       "      <td>3887.000000</td>\n",
       "      <td>3887.000000</td>\n",
       "    </tr>\n",
       "    <tr>\n",
       "      <th>mean</th>\n",
       "      <td>1352.646929</td>\n",
       "      <td>81.866478</td>\n",
       "      <td>91.746077</td>\n",
       "    </tr>\n",
       "    <tr>\n",
       "      <th>std</th>\n",
       "      <td>2083.818453</td>\n",
       "      <td>128.558731</td>\n",
       "      <td>99.563190</td>\n",
       "    </tr>\n",
       "    <tr>\n",
       "      <th>min</th>\n",
       "      <td>3.750000</td>\n",
       "      <td>1.000000</td>\n",
       "      <td>0.000000</td>\n",
       "    </tr>\n",
       "    <tr>\n",
       "      <th>25%</th>\n",
       "      <td>295.465000</td>\n",
       "      <td>16.000000</td>\n",
       "      <td>17.000000</td>\n",
       "    </tr>\n",
       "    <tr>\n",
       "      <th>50%</th>\n",
       "      <td>638.050000</td>\n",
       "      <td>40.000000</td>\n",
       "      <td>50.000000</td>\n",
       "    </tr>\n",
       "    <tr>\n",
       "      <th>75%</th>\n",
       "      <td>1533.230000</td>\n",
       "      <td>97.000000</td>\n",
       "      <td>143.000000</td>\n",
       "    </tr>\n",
       "    <tr>\n",
       "      <th>max</th>\n",
       "      <td>21086.300000</td>\n",
       "      <td>2677.000000</td>\n",
       "      <td>373.000000</td>\n",
       "    </tr>\n",
       "  </tbody>\n",
       "</table>\n",
       "</div>"
      ],
      "text/plain": [
       "           Monetary    Frequency      Recency\n",
       "count   3887.000000  3887.000000  3887.000000\n",
       "mean    1352.646929    81.866478    91.746077\n",
       "std     2083.818453   128.558731    99.563190\n",
       "min        3.750000     1.000000     0.000000\n",
       "25%      295.465000    16.000000    17.000000\n",
       "50%      638.050000    40.000000    50.000000\n",
       "75%     1533.230000    97.000000   143.000000\n",
       "max    21086.300000  2677.000000   373.000000"
      ]
     },
     "execution_count": 25,
     "metadata": {},
     "output_type": "execute_result"
    }
   ],
   "source": [
    "# Remove outliers\n",
    "rfm=rfm[(rfm['Monetary']>lowerl_m) & (rfm['Monetary']<upperl_m)] \n",
    "rfm.describe()"
   ]
  },
  {
   "cell_type": "code",
   "execution_count": 26,
   "metadata": {
    "datalore": {
     "hide_input_from_viewers": false,
     "hide_output_from_viewers": false,
     "type": "CODE"
    }
   },
   "outputs": [
    {
     "data": {
      "text/plain": [
       "(467.54267109615193,\n",
       " -303.80971508894845,\n",
       " 81.86647800360176,\n",
       " 128.55873103085005)"
      ]
     },
     "execution_count": 26,
     "metadata": {},
     "output_type": "execute_result"
    }
   ],
   "source": [
    "# Repeat for frequency\n",
    "f_mean=rfm['Frequency'].mean()\n",
    "f_sd=rfm['Frequency'].std()\n",
    "upperl_f=f_mean+3*f_sd\n",
    "lowerl_f=f_mean-3*f_sd\n",
    "upperl_f,lowerl_f,f_mean,f_sd"
   ]
  },
  {
   "cell_type": "code",
   "execution_count": 27,
   "metadata": {
    "datalore": {
     "hide_input_from_viewers": false,
     "hide_output_from_viewers": false,
     "type": "CODE"
    }
   },
   "outputs": [
    {
     "data": {
      "text/html": [
       "<div>\n",
       "<style scoped>\n",
       "    .dataframe tbody tr th:only-of-type {\n",
       "        vertical-align: middle;\n",
       "    }\n",
       "\n",
       "    .dataframe tbody tr th {\n",
       "        vertical-align: top;\n",
       "    }\n",
       "\n",
       "    .dataframe thead th {\n",
       "        text-align: right;\n",
       "    }\n",
       "</style>\n",
       "<table border=\"1\" class=\"dataframe\">\n",
       "  <thead>\n",
       "    <tr style=\"text-align: right;\">\n",
       "      <th></th>\n",
       "      <th>Monetary</th>\n",
       "      <th>Frequency</th>\n",
       "      <th>Recency</th>\n",
       "    </tr>\n",
       "  </thead>\n",
       "  <tbody>\n",
       "    <tr>\n",
       "      <th>count</th>\n",
       "      <td>3816.000000</td>\n",
       "      <td>3816.000000</td>\n",
       "      <td>3816.000000</td>\n",
       "    </tr>\n",
       "    <tr>\n",
       "      <th>mean</th>\n",
       "      <td>1252.649113</td>\n",
       "      <td>69.819969</td>\n",
       "      <td>93.250262</td>\n",
       "    </tr>\n",
       "    <tr>\n",
       "      <th>std</th>\n",
       "      <td>1875.664680</td>\n",
       "      <td>82.122428</td>\n",
       "      <td>99.832045</td>\n",
       "    </tr>\n",
       "    <tr>\n",
       "      <th>min</th>\n",
       "      <td>3.750000</td>\n",
       "      <td>1.000000</td>\n",
       "      <td>0.000000</td>\n",
       "    </tr>\n",
       "    <tr>\n",
       "      <th>25%</th>\n",
       "      <td>290.390000</td>\n",
       "      <td>16.000000</td>\n",
       "      <td>18.000000</td>\n",
       "    </tr>\n",
       "    <tr>\n",
       "      <th>50%</th>\n",
       "      <td>622.130000</td>\n",
       "      <td>39.000000</td>\n",
       "      <td>51.000000</td>\n",
       "    </tr>\n",
       "    <tr>\n",
       "      <th>75%</th>\n",
       "      <td>1445.280000</td>\n",
       "      <td>91.000000</td>\n",
       "      <td>147.000000</td>\n",
       "    </tr>\n",
       "    <tr>\n",
       "      <th>max</th>\n",
       "      <td>21086.300000</td>\n",
       "      <td>467.000000</td>\n",
       "      <td>373.000000</td>\n",
       "    </tr>\n",
       "  </tbody>\n",
       "</table>\n",
       "</div>"
      ],
      "text/plain": [
       "           Monetary    Frequency      Recency\n",
       "count   3816.000000  3816.000000  3816.000000\n",
       "mean    1252.649113    69.819969    93.250262\n",
       "std     1875.664680    82.122428    99.832045\n",
       "min        3.750000     1.000000     0.000000\n",
       "25%      290.390000    16.000000    18.000000\n",
       "50%      622.130000    39.000000    51.000000\n",
       "75%     1445.280000    91.000000   147.000000\n",
       "max    21086.300000   467.000000   373.000000"
      ]
     },
     "execution_count": 27,
     "metadata": {},
     "output_type": "execute_result"
    }
   ],
   "source": [
    "rfm=rfm[(rfm['Frequency']>lowerl_f) & (rfm['Frequency']<upperl_f)] \n",
    "rfm.describe()"
   ]
  },
  {
   "cell_type": "code",
   "execution_count": 28,
   "metadata": {
    "datalore": {
     "hide_input_from_viewers": false,
     "hide_output_from_viewers": false,
     "type": "CODE"
    }
   },
   "outputs": [
    {
     "data": {
      "text/plain": [
       "(392.7463972429747, -206.24587313396, 93.25026205450733, 99.83204506282244)"
      ]
     },
     "execution_count": 28,
     "metadata": {},
     "output_type": "execute_result"
    }
   ],
   "source": [
    "# Repeat for Recency\n",
    "r_mean=rfm['Recency'].mean()\n",
    "r_sd=rfm['Recency'].std()\n",
    "upperl_r=r_mean+3*r_sd\n",
    "lowerl_r=r_mean-3*r_sd\n",
    "upperl_r,lowerl_r,r_mean,r_sd"
   ]
  },
  {
   "cell_type": "code",
   "execution_count": 29,
   "metadata": {
    "datalore": {
     "hide_input_from_viewers": false,
     "hide_output_from_viewers": false,
     "type": "CODE"
    }
   },
   "outputs": [
    {
     "name": "stdout",
     "output_type": "stream",
     "text": [
      "<class 'pandas.core.frame.DataFrame'>\n",
      "Int64Index: 3816 entries, 1 to 3919\n",
      "Data columns (total 4 columns):\n",
      " #   Column      Non-Null Count  Dtype  \n",
      "---  ------      --------------  -----  \n",
      " 0   CustomerID  3816 non-null   object \n",
      " 1   Monetary    3816 non-null   float64\n",
      " 2   Frequency   3816 non-null   int64  \n",
      " 3   Recency     3816 non-null   int64  \n",
      "dtypes: float64(1), int64(2), object(1)\n",
      "memory usage: 149.1+ KB\n"
     ]
    },
    {
     "data": {
      "text/html": [
       "<div>\n",
       "<style scoped>\n",
       "    .dataframe tbody tr th:only-of-type {\n",
       "        vertical-align: middle;\n",
       "    }\n",
       "\n",
       "    .dataframe tbody tr th {\n",
       "        vertical-align: top;\n",
       "    }\n",
       "\n",
       "    .dataframe thead th {\n",
       "        text-align: right;\n",
       "    }\n",
       "</style>\n",
       "<table border=\"1\" class=\"dataframe\">\n",
       "  <thead>\n",
       "    <tr style=\"text-align: right;\">\n",
       "      <th></th>\n",
       "      <th>CustomerID</th>\n",
       "      <th>Monetary</th>\n",
       "      <th>Frequency</th>\n",
       "      <th>Recency</th>\n",
       "    </tr>\n",
       "  </thead>\n",
       "  <tbody>\n",
       "    <tr>\n",
       "      <th>1</th>\n",
       "      <td>12747.0</td>\n",
       "      <td>4196.01</td>\n",
       "      <td>103</td>\n",
       "      <td>1</td>\n",
       "    </tr>\n",
       "    <tr>\n",
       "      <th>3</th>\n",
       "      <td>12749.0</td>\n",
       "      <td>4090.88</td>\n",
       "      <td>199</td>\n",
       "      <td>3</td>\n",
       "    </tr>\n",
       "    <tr>\n",
       "      <th>4</th>\n",
       "      <td>12820.0</td>\n",
       "      <td>942.34</td>\n",
       "      <td>59</td>\n",
       "      <td>2</td>\n",
       "    </tr>\n",
       "    <tr>\n",
       "      <th>5</th>\n",
       "      <td>12821.0</td>\n",
       "      <td>92.72</td>\n",
       "      <td>6</td>\n",
       "      <td>213</td>\n",
       "    </tr>\n",
       "    <tr>\n",
       "      <th>6</th>\n",
       "      <td>12822.0</td>\n",
       "      <td>948.88</td>\n",
       "      <td>46</td>\n",
       "      <td>70</td>\n",
       "    </tr>\n",
       "  </tbody>\n",
       "</table>\n",
       "</div>"
      ],
      "text/plain": [
       "  CustomerID  Monetary  Frequency  Recency\n",
       "1    12747.0   4196.01        103        1\n",
       "3    12749.0   4090.88        199        3\n",
       "4    12820.0    942.34         59        2\n",
       "5    12821.0     92.72          6      213\n",
       "6    12822.0    948.88         46       70"
      ]
     },
     "execution_count": 29,
     "metadata": {},
     "output_type": "execute_result"
    }
   ],
   "source": [
    "rfm.info()\n",
    "rfm.head()"
   ]
  },
  {
   "cell_type": "markdown",
   "metadata": {},
   "source": [
    "## K-Means Clustering\n",
    "\n",
    "K-Means algorithm assumes symmertical distribution and normalized variables.\n",
    "\n",
    "- In case the variables are not symmetrically distributed, since all values are positive, we can apply log transformation.\n",
    "- If the mean and variables are not equal, the variables could be normalized using Min-Max normalization. "
   ]
  },
  {
   "cell_type": "code",
   "execution_count": 30,
   "metadata": {},
   "outputs": [],
   "source": [
    "# measure skewness\n",
    "def skewness_measure(df, column):\n",
    "    skew = stats.skew(df[column])\n",
    "    skewtest = stats.skewtest(df[column])\n",
    "    plt.title('Distribution of ' + column)\n",
    "    sns.distplot(df[column])\n",
    "    print(\"{}'s: Skew: {}, : {}\".format(column, skew, skewtest))\n",
    "    return "
   ]
  },
  {
   "cell_type": "code",
   "execution_count": 31,
   "metadata": {},
   "outputs": [
    {
     "name": "stdout",
     "output_type": "stream",
     "text": [
      "Recency's: Skew: 1.217276495560285, : SkewtestResult(statistic=24.566687218671124, pvalue=2.8688868188306188e-133)\n",
      "Frequency's: Skew: 2.139498393651452, : SkewtestResult(statistic=34.93427049128807, pvalue=2.244572451154113e-267)\n"
     ]
    },
    {
     "name": "stderr",
     "output_type": "stream",
     "text": [
      "C:\\Anaconda\\lib\\site-packages\\seaborn\\distributions.py:2619: FutureWarning: `distplot` is a deprecated function and will be removed in a future version. Please adapt your code to use either `displot` (a figure-level function with similar flexibility) or `histplot` (an axes-level function for histograms).\n",
      "  warnings.warn(msg, FutureWarning)\n",
      "C:\\Anaconda\\lib\\site-packages\\seaborn\\distributions.py:2619: FutureWarning: `distplot` is a deprecated function and will be removed in a future version. Please adapt your code to use either `displot` (a figure-level function with similar flexibility) or `histplot` (an axes-level function for histograms).\n",
      "  warnings.warn(msg, FutureWarning)\n",
      "C:\\Anaconda\\lib\\site-packages\\seaborn\\distributions.py:2619: FutureWarning: `distplot` is a deprecated function and will be removed in a future version. Please adapt your code to use either `displot` (a figure-level function with similar flexibility) or `histplot` (an axes-level function for histograms).\n",
      "  warnings.warn(msg, FutureWarning)\n"
     ]
    },
    {
     "name": "stdout",
     "output_type": "stream",
     "text": [
      "Monetary's: Skew: 4.26118567689371, : SkewtestResult(statistic=48.659926664078775, pvalue=0.0)\n"
     ]
    }
   ],
   "source": [
    "# Plot skewness of all variables\n",
    "plt.figure(figsize=(9, 9))\n",
    "\n",
    "plt.subplot(3, 1, 1)\n",
    "skewness_measure(rfm,'Recency')\n",
    "\n",
    "plt.subplot(3, 1, 2)\n",
    "skewness_measure(rfm,'Frequency')\n",
    "\n",
    "plt.subplot(3, 1, 3)\n",
    "skewness_measure(rfm,'Monetary')\n",
    "\n",
    "plt.tight_layout()\n",
    "plt.savefig('before_transform.png', format='png', dpi=500)"
   ]
  },
  {
   "cell_type": "code",
   "execution_count": 32,
   "metadata": {},
   "outputs": [],
   "source": [
    "#log transformation\n",
    "rfm_rlog = np.log(rfm['Recency']+0.1) #can't take log(0) and so add a small number\n",
    "rfm_flog = np.log(rfm['Frequency'])\n",
    "rfm_mlog = np.log(rfm['Monetary']+0.1)"
   ]
  },
  {
   "cell_type": "markdown",
   "metadata": {},
   "source": [
    "Now let's plot the skewness after log transform."
   ]
  },
  {
   "cell_type": "code",
   "execution_count": 33,
   "metadata": {},
   "outputs": [
    {
     "name": "stderr",
     "output_type": "stream",
     "text": [
      "C:\\Anaconda\\lib\\site-packages\\seaborn\\distributions.py:2619: FutureWarning: `distplot` is a deprecated function and will be removed in a future version. Please adapt your code to use either `displot` (a figure-level function with similar flexibility) or `histplot` (an axes-level function for histograms).\n",
      "  warnings.warn(msg, FutureWarning)\n",
      "C:\\Anaconda\\lib\\site-packages\\seaborn\\distributions.py:2619: FutureWarning: `distplot` is a deprecated function and will be removed in a future version. Please adapt your code to use either `displot` (a figure-level function with similar flexibility) or `histplot` (an axes-level function for histograms).\n",
      "  warnings.warn(msg, FutureWarning)\n",
      "C:\\Anaconda\\lib\\site-packages\\seaborn\\distributions.py:2619: FutureWarning: `distplot` is a deprecated function and will be removed in a future version. Please adapt your code to use either `displot` (a figure-level function with similar flexibility) or `histplot` (an axes-level function for histograms).\n",
      "  warnings.warn(msg, FutureWarning)\n"
     ]
    },
    {
     "name": "stdout",
     "output_type": "stream",
     "text": [
      "Recency's: Skew: -1.1882590353698503, : SkewtestResult(statistic=-24.15402941208342, pvalue=6.773102489251262e-129)\n",
      "Frequency's: Skew: -0.4339450180864357, : SkewtestResult(statistic=-10.507635524591295, pvalue=7.966586177943693e-26)\n",
      "Monetary's: Skew: 0.05981899692414256, : SkewtestResult(statistic=1.5101877210017653, pvalue=0.13099553096772962)\n"
     ]
    }
   ],
   "source": [
    "log_rfm = pd.DataFrame({'Monetary': rfm_mlog,'Recency': rfm_rlog,'Frequency': rfm_flog})\n",
    "\n",
    "# Plot skewness of all variables\n",
    "plt.figure(figsize=(9, 9))\n",
    "\n",
    "plt.subplot(3, 1, 1)\n",
    "skewness_measure(log_rfm,'Recency')\n",
    "\n",
    "plt.subplot(3, 1, 2)\n",
    "skewness_measure(log_rfm,'Frequency')\n",
    "\n",
    "plt.subplot(3, 1, 3)\n",
    "skewness_measure(log_rfm,'Monetary')\n",
    "\n",
    "plt.tight_layout()\n",
    "plt.savefig('after_transform.png', format='png', dpi=500)"
   ]
  },
  {
   "cell_type": "markdown",
   "metadata": {},
   "source": [
    "Now, to standardize the data, we will remove mean and scale to unit variance. "
   ]
  },
  {
   "cell_type": "code",
   "execution_count": 34,
   "metadata": {
    "datalore": {
     "hide_input_from_viewers": false,
     "hide_output_from_viewers": false,
     "type": "CODE"
    }
   },
   "outputs": [
    {
     "data": {
      "text/plain": [
       "(3816, 3)"
      ]
     },
     "execution_count": 34,
     "metadata": {},
     "output_type": "execute_result"
    }
   ],
   "source": [
    "# Rescaling the attributes\n",
    "rfm_reshaped = log_rfm[['Monetary', 'Frequency', 'Recency']]\n",
    "\n",
    "# Instantiate\n",
    "scaler = StandardScaler()\n",
    "\n",
    "# fit_transform\n",
    "rfm_df_scaled = scaler.fit_transform(rfm_reshaped)\n",
    "rfm_df_scaled.shape"
   ]
  },
  {
   "cell_type": "code",
   "execution_count": 35,
   "metadata": {
    "datalore": {
     "hide_input_from_viewers": false,
     "hide_output_from_viewers": false,
     "type": "CODE"
    }
   },
   "outputs": [
    {
     "data": {
      "text/html": [
       "<div>\n",
       "<style scoped>\n",
       "    .dataframe tbody tr th:only-of-type {\n",
       "        vertical-align: middle;\n",
       "    }\n",
       "\n",
       "    .dataframe tbody tr th {\n",
       "        vertical-align: top;\n",
       "    }\n",
       "\n",
       "    .dataframe thead th {\n",
       "        text-align: right;\n",
       "    }\n",
       "</style>\n",
       "<table border=\"1\" class=\"dataframe\">\n",
       "  <thead>\n",
       "    <tr style=\"text-align: right;\">\n",
       "      <th></th>\n",
       "      <th>Monetary</th>\n",
       "      <th>Frequency</th>\n",
       "      <th>Recency</th>\n",
       "    </tr>\n",
       "  </thead>\n",
       "  <tbody>\n",
       "    <tr>\n",
       "      <th>0</th>\n",
       "      <td>1.622201</td>\n",
       "      <td>0.830796</td>\n",
       "      <td>-2.261574</td>\n",
       "    </tr>\n",
       "    <tr>\n",
       "      <th>1</th>\n",
       "      <td>1.600304</td>\n",
       "      <td>1.351598</td>\n",
       "      <td>-1.615766</td>\n",
       "    </tr>\n",
       "    <tr>\n",
       "      <th>2</th>\n",
       "      <td>0.333427</td>\n",
       "      <td>0.390170</td>\n",
       "      <td>-1.858524</td>\n",
       "    </tr>\n",
       "    <tr>\n",
       "      <th>3</th>\n",
       "      <td>-1.666741</td>\n",
       "      <td>-1.417423</td>\n",
       "      <td>1.021067</td>\n",
       "    </tr>\n",
       "    <tr>\n",
       "      <th>4</th>\n",
       "      <td>0.339395</td>\n",
       "      <td>0.193343</td>\n",
       "      <td>0.328045</td>\n",
       "    </tr>\n",
       "  </tbody>\n",
       "</table>\n",
       "</div>"
      ],
      "text/plain": [
       "   Monetary  Frequency   Recency\n",
       "0  1.622201   0.830796 -2.261574\n",
       "1  1.600304   1.351598 -1.615766\n",
       "2  0.333427   0.390170 -1.858524\n",
       "3 -1.666741  -1.417423  1.021067\n",
       "4  0.339395   0.193343  0.328045"
      ]
     },
     "execution_count": 35,
     "metadata": {},
     "output_type": "execute_result"
    }
   ],
   "source": [
    "# Make dataframe and name colums\n",
    "rfm_scaled = pd.DataFrame(rfm_df_scaled)\n",
    "rfm_scaled.columns = ['Monetary', 'Frequency', 'Recency']\n",
    "rfm_scaled.head()"
   ]
  },
  {
   "cell_type": "markdown",
   "metadata": {},
   "source": [
    "To find optimum clusters, we will plot the elbow curve and pick the k at the elbow. "
   ]
  },
  {
   "cell_type": "code",
   "execution_count": 36,
   "metadata": {
    "datalore": {
     "hide_input_from_viewers": false,
     "hide_output_from_viewers": false,
     "type": "CODE"
    }
   },
   "outputs": [],
   "source": [
    "# Calculate SSE to find optimum number of clusters\n",
    "sse = []\n",
    "k_rng = range(1,11)\n",
    "for k in k_rng:\n",
    "    km = KMeans(n_clusters=k,init='k-means++')\n",
    "    km.fit(rfm_scaled[['Monetary', 'Frequency', 'Recency']])\n",
    "    sse.append(km.inertia_)"
   ]
  },
  {
   "cell_type": "code",
   "execution_count": 37,
   "metadata": {
    "datalore": {
     "hide_input_from_viewers": false,
     "hide_output_from_viewers": false,
     "type": "CODE"
    }
   },
   "outputs": [
    {
     "data": {
      "application/vnd.jupyter.widget-view+json": {
       "model_id": "d79b71b60e8f4b529b28d264120fe400",
       "version_major": 2,
       "version_minor": 0
      },
      "image/png": "[encoded data removed]",
      "text/html": [
       "\n",
       "            <div style=\"display: inline-block;\">\n",
       "                <div class=\"jupyter-widgets widget-label\" style=\"text-align: center;\">\n",
       "                    Figure\n",
       "                </div>\n",
       "                <img src='data:image/png;base64,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' width=640.0/>\n",
       "            </div>\n",
       "        "
      ],
      "text/plain": [
       "Canvas(toolbar=Toolbar(toolitems=[('Home', 'Reset original view', 'home', 'home'), ('Back', 'Back to previous …"
      ]
     },
     "metadata": {},
     "output_type": "display_data"
    }
   ],
   "source": [
    "# Plot elbow plot to find k\n",
    "fig, ax = plt.subplots()\n",
    "plt.xlabel('K')\n",
    "plt.ylabel('Sum of squared error')\n",
    "plt.plot(k_rng,sse)\n",
    "plt.show()"
   ]
  },
  {
   "cell_type": "markdown",
   "metadata": {},
   "source": [
    "The elbow appears at 2 clusters. So, we will take k=2."
   ]
  },
  {
   "cell_type": "code",
   "execution_count": 38,
   "metadata": {
    "datalore": {
     "hide_input_from_viewers": false,
     "hide_output_from_viewers": false,
     "type": "CODE"
    }
   },
   "outputs": [
    {
     "data": {
      "text/plain": [
       "array([0, 0, 0, ..., 1, 1, 0])"
      ]
     },
     "execution_count": 38,
     "metadata": {},
     "output_type": "execute_result"
    }
   ],
   "source": [
    "# Perform K-Means clustering on normalized data\n",
    "km = KMeans(n_clusters=2)\n",
    "y_predicted = km.fit_predict(rfm_scaled[['Monetary', 'Frequency', 'Recency']])\n",
    "y_predicted"
   ]
  },
  {
   "cell_type": "code",
   "execution_count": 39,
   "metadata": {
    "datalore": {
     "hide_input_from_viewers": false,
     "hide_output_from_viewers": false,
     "type": "CODE"
    }
   },
   "outputs": [
    {
     "data": {
      "text/plain": [
       "array([[ 0.79687025,  0.79238853, -0.59673327],\n",
       "       [-0.68214574, -0.67830925,  0.51082226]])"
      ]
     },
     "execution_count": 39,
     "metadata": {},
     "output_type": "execute_result"
    }
   ],
   "source": [
    "# Display cluster centers\n",
    "km.cluster_centers_"
   ]
  },
  {
   "cell_type": "code",
   "execution_count": 40,
   "metadata": {
    "datalore": {
     "hide_input_from_viewers": false,
     "hide_output_from_viewers": false,
     "type": "CODE"
    }
   },
   "outputs": [
    {
     "data": {
      "text/html": [
       "<div>\n",
       "<style scoped>\n",
       "    .dataframe tbody tr th:only-of-type {\n",
       "        vertical-align: middle;\n",
       "    }\n",
       "\n",
       "    .dataframe tbody tr th {\n",
       "        vertical-align: top;\n",
       "    }\n",
       "\n",
       "    .dataframe thead th {\n",
       "        text-align: right;\n",
       "    }\n",
       "</style>\n",
       "<table border=\"1\" class=\"dataframe\">\n",
       "  <thead>\n",
       "    <tr style=\"text-align: right;\">\n",
       "      <th></th>\n",
       "      <th>Monetary</th>\n",
       "      <th>Frequency</th>\n",
       "      <th>Recency</th>\n",
       "      <th>Cluster</th>\n",
       "    </tr>\n",
       "  </thead>\n",
       "  <tbody>\n",
       "    <tr>\n",
       "      <th>0</th>\n",
       "      <td>1.622201</td>\n",
       "      <td>0.830796</td>\n",
       "      <td>-2.261574</td>\n",
       "      <td>0</td>\n",
       "    </tr>\n",
       "    <tr>\n",
       "      <th>1</th>\n",
       "      <td>1.600304</td>\n",
       "      <td>1.351598</td>\n",
       "      <td>-1.615766</td>\n",
       "      <td>0</td>\n",
       "    </tr>\n",
       "    <tr>\n",
       "      <th>2</th>\n",
       "      <td>0.333427</td>\n",
       "      <td>0.390170</td>\n",
       "      <td>-1.858524</td>\n",
       "      <td>0</td>\n",
       "    </tr>\n",
       "    <tr>\n",
       "      <th>3</th>\n",
       "      <td>-1.666741</td>\n",
       "      <td>-1.417423</td>\n",
       "      <td>1.021067</td>\n",
       "      <td>1</td>\n",
       "    </tr>\n",
       "    <tr>\n",
       "      <th>4</th>\n",
       "      <td>0.339395</td>\n",
       "      <td>0.193343</td>\n",
       "      <td>0.328045</td>\n",
       "      <td>0</td>\n",
       "    </tr>\n",
       "  </tbody>\n",
       "</table>\n",
       "</div>"
      ],
      "text/plain": [
       "   Monetary  Frequency   Recency  Cluster\n",
       "0  1.622201   0.830796 -2.261574        0\n",
       "1  1.600304   1.351598 -1.615766        0\n",
       "2  0.333427   0.390170 -1.858524        0\n",
       "3 -1.666741  -1.417423  1.021067        1\n",
       "4  0.339395   0.193343  0.328045        0"
      ]
     },
     "execution_count": 40,
     "metadata": {},
     "output_type": "execute_result"
    }
   ],
   "source": [
    "# Add clusters to dataset\n",
    "rfm_scaled['Cluster']=y_predicted\n",
    "rfm_scaled.head()"
   ]
  },
  {
   "cell_type": "code",
   "execution_count": 41,
   "metadata": {},
   "outputs": [],
   "source": [
    "rfm1=rfm_scaled[rfm_scaled['Cluster']==0]\n",
    "rfm2=rfm_scaled[rfm_scaled['Cluster']==1]"
   ]
  },
  {
   "cell_type": "markdown",
   "metadata": {},
   "source": [
    "Now, we can plot the clusters we obtained from K-Means clustering."
   ]
  },
  {
   "cell_type": "code",
   "execution_count": 42,
   "metadata": {
    "datalore": {
     "hide_input_from_viewers": false,
     "hide_output_from_viewers": false,
     "type": "CODE"
    }
   },
   "outputs": [],
   "source": [
    "sns.set(style = \"darkgrid\")\n",
    "fig = plt.figure()\n",
    "ax = fig.add_subplot(111, projection='3d')\n",
    "ax.scatter3D(rfm1.Monetary, rfm1.Frequency, rfm1.Recency, c='#58508d', label = 'Cluster 1')\n",
    "ax.scatter3D(rfm2.Monetary, rfm2.Frequency, rfm2.Recency, c='#bc5090', label = 'Cluster 2')\n",
    "ax.set_xlabel(\"Monetary\",fontsize=12)\n",
    "ax.set_ylabel(\"Frequency\",fontsize=12)\n",
    "ax.set_zlabel(\"Recency\",fontsize=12)\n",
    "plt.title(\"RFM\",fontsize=18)\n",
    "plt.legend(bbox_to_anchor=(1.0,1.0),prop={'size': 12})\n",
    "plt.tight_layout()\n",
    "plt.savefig('clusters.png', format='png', dpi=500)"
   ]
  },
  {
   "cell_type": "markdown",
   "metadata": {},
   "source": [
    "## Conclusion\n",
    "\n",
    "For the purpose of the following analysis, it is safe to assume that there is no correlation between the products bought and the customer cluster. The influence of products and geographical factors can be studied in a different study.\n",
    "\n",
    "**Some reccomendations**:\n",
    "- The cancelled orders can all be dealt with uniformly. In this case, while some cancelled orders were represented by the letter 'C' in the invoice number, the others were represented by negative feilds for unit price or quantity.\n",
    "- Duplicates can be avoided.\n",
    "- Null entries are to be reevaluated. "
   ]
  },
  {
   "cell_type": "code",
   "execution_count": null,
   "metadata": {},
   "outputs": [],
   "source": []
  }
 ],
 "metadata": {
  "datalore": {
   "base_environment": "default",
   "computation_mode": "JUPYTER",
   "package_manager": "pip",
   "packages": [
    {
     "name": "openpyxl",
     "source": "PIP",
     "version": "3.2.0b1"
    },
    {
     "name": "mlxtend",
     "source": "PIP",
     "version": "0.20.0"
    },
    {
     "name": "ipympl",
     "source": "PIP",
     "version": "0.9.1"
    }
   ],
   "version": 1
  },
  "kernelspec": {
   "display_name": "Python 3 (ipykernel)",
   "language": "python",
   "name": "python3"
  },
  "language_info": {
   "codemirror_mode": {
    "name": "ipython",
    "version": 3
   },
   "file_extension": ".py",
   "mimetype": "text/x-python",
   "name": "python",
   "nbconvert_exporter": "python",
   "pygments_lexer": "ipython3",
   "version": "3.9.7"
  }
 },
 "nbformat": 4,
 "nbformat_minor": 4
}
