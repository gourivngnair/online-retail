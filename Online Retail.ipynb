{
 "cells": [
  {
   "cell_type": "code",
   "execution_count": 1,
   "metadata": {
    "datalore": {
     "hide_input_from_viewers": false,
     "hide_output_from_viewers": false,
     "type": "CODE"
    }
   },
   "outputs": [],
   "source": [
    "\n",
    "import pandas as pd\n",
    "import matplotlib.pyplot as plt\n",
    "import ipympl\n",
    "import seaborn as sns\n",
    "from sklearn.preprocessing import StandardScaler\n",
    "from sklearn.cluster import KMeans"
   ]
  },
  {
   "cell_type": "code",
   "execution_count": 2,
   "metadata": {
    "datalore": {
     "hide_input_from_viewers": false,
     "hide_output_from_viewers": false,
     "type": "CODE"
    }
   },
   "outputs": [
    {
     "data": {
      "text/html": [
       "<div>\n",
       "<style scoped>\n",
       "    .dataframe tbody tr th:only-of-type {\n",
       "        vertical-align: middle;\n",
       "    }\n",
       "\n",
       "    .dataframe tbody tr th {\n",
       "        vertical-align: top;\n",
       "    }\n",
       "\n",
       "    .dataframe thead th {\n",
       "        text-align: right;\n",
       "    }\n",
       "</style>\n",
       "<table border=\"1\" class=\"dataframe\">\n",
       "  <thead>\n",
       "    <tr style=\"text-align: right;\">\n",
       "      <th></th>\n",
       "      <th>InvoiceNo</th>\n",
       "      <th>StockCode</th>\n",
       "      <th>Description</th>\n",
       "      <th>Quantity</th>\n",
       "      <th>InvoiceDate</th>\n",
       "      <th>UnitPrice</th>\n",
       "      <th>CustomerID</th>\n",
       "      <th>Country</th>\n",
       "    </tr>\n",
       "  </thead>\n",
       "  <tbody>\n",
       "    <tr>\n",
       "      <th>0</th>\n",
       "      <td>536365</td>\n",
       "      <td>85123A</td>\n",
       "      <td>WHITE HANGING HEART T-LIGHT HOLDER</td>\n",
       "      <td>6</td>\n",
       "      <td>2010-12-01 08:26:00</td>\n",
       "      <td>2.55</td>\n",
       "      <td>17850.0</td>\n",
       "      <td>United Kingdom</td>\n",
       "    </tr>\n",
       "    <tr>\n",
       "      <th>1</th>\n",
       "      <td>536365</td>\n",
       "      <td>71053</td>\n",
       "      <td>WHITE METAL LANTERN</td>\n",
       "      <td>6</td>\n",
       "      <td>2010-12-01 08:26:00</td>\n",
       "      <td>3.39</td>\n",
       "      <td>17850.0</td>\n",
       "      <td>United Kingdom</td>\n",
       "    </tr>\n",
       "    <tr>\n",
       "      <th>2</th>\n",
       "      <td>536365</td>\n",
       "      <td>84406B</td>\n",
       "      <td>CREAM CUPID HEARTS COAT HANGER</td>\n",
       "      <td>8</td>\n",
       "      <td>2010-12-01 08:26:00</td>\n",
       "      <td>2.75</td>\n",
       "      <td>17850.0</td>\n",
       "      <td>United Kingdom</td>\n",
       "    </tr>\n",
       "    <tr>\n",
       "      <th>3</th>\n",
       "      <td>536365</td>\n",
       "      <td>84029G</td>\n",
       "      <td>KNITTED UNION FLAG HOT WATER BOTTLE</td>\n",
       "      <td>6</td>\n",
       "      <td>2010-12-01 08:26:00</td>\n",
       "      <td>3.39</td>\n",
       "      <td>17850.0</td>\n",
       "      <td>United Kingdom</td>\n",
       "    </tr>\n",
       "    <tr>\n",
       "      <th>4</th>\n",
       "      <td>536365</td>\n",
       "      <td>84029E</td>\n",
       "      <td>RED WOOLLY HOTTIE WHITE HEART.</td>\n",
       "      <td>6</td>\n",
       "      <td>2010-12-01 08:26:00</td>\n",
       "      <td>3.39</td>\n",
       "      <td>17850.0</td>\n",
       "      <td>United Kingdom</td>\n",
       "    </tr>\n",
       "  </tbody>\n",
       "</table>\n",
       "</div>"
      ],
      "text/plain": [
       "  InvoiceNo StockCode                          Description  Quantity  \\\n",
       "0    536365    85123A   WHITE HANGING HEART T-LIGHT HOLDER         6   \n",
       "1    536365     71053                  WHITE METAL LANTERN         6   \n",
       "2    536365    84406B       CREAM CUPID HEARTS COAT HANGER         8   \n",
       "3    536365    84029G  KNITTED UNION FLAG HOT WATER BOTTLE         6   \n",
       "4    536365    84029E       RED WOOLLY HOTTIE WHITE HEART.         6   \n",
       "\n",
       "          InvoiceDate  UnitPrice  CustomerID         Country  \n",
       "0 2010-12-01 08:26:00       2.55     17850.0  United Kingdom  \n",
       "1 2010-12-01 08:26:00       3.39     17850.0  United Kingdom  \n",
       "2 2010-12-01 08:26:00       2.75     17850.0  United Kingdom  \n",
       "3 2010-12-01 08:26:00       3.39     17850.0  United Kingdom  \n",
       "4 2010-12-01 08:26:00       3.39     17850.0  United Kingdom  "
      ]
     },
     "execution_count": 2,
     "metadata": {},
     "output_type": "execute_result"
    }
   ],
   "source": [
    "# Read the data on which analysis needs to be done and display first 5 entries\n",
    "data='Online Retail.xlsx'\n",
    "df_retail=pd.read_excel(data)\n",
    "df_retail.head()"
   ]
  },
  {
   "cell_type": "code",
   "execution_count": 3,
   "metadata": {
    "datalore": {
     "hide_input_from_viewers": false,
     "hide_output_from_viewers": false,
     "type": "CODE"
    }
   },
   "outputs": [
    {
     "name": "stdout",
     "output_type": "stream",
     "text": [
      "<class 'pandas.core.frame.DataFrame'>\n",
      "RangeIndex: 541909 entries, 0 to 541908\n",
      "Data columns (total 8 columns):\n",
      " #   Column       Non-Null Count   Dtype         \n",
      "---  ------       --------------   -----         \n",
      " 0   InvoiceNo    541909 non-null  object        \n",
      " 1   StockCode    541909 non-null  object        \n",
      " 2   Description  540455 non-null  object        \n",
      " 3   Quantity     541909 non-null  int64         \n",
      " 4   InvoiceDate  541909 non-null  datetime64[ns]\n",
      " 5   UnitPrice    541909 non-null  float64       \n",
      " 6   CustomerID   406829 non-null  float64       \n",
      " 7   Country      541909 non-null  object        \n",
      "dtypes: datetime64[ns](1), float64(2), int64(1), object(4)\n",
      "memory usage: 33.1+ MB\n"
     ]
    }
   ],
   "source": [
    "df_retail.info() #Displays datatype, number of non null values and general properties of fields"
   ]
  },
  {
   "cell_type": "code",
   "execution_count": 4,
   "metadata": {
    "datalore": {
     "hide_input_from_viewers": false,
     "hide_output_from_viewers": false,
     "type": "CODE"
    }
   },
   "outputs": [
    {
     "name": "stdout",
     "output_type": "stream",
     "text": [
      "The number of duplicate entries : 5268\n"
     ]
    }
   ],
   "source": [
    "print(\"The number of duplicate entries : {}\".format(df_retail.duplicated().sum())) #checks the number of duplicates"
   ]
  },
  {
   "cell_type": "code",
   "execution_count": 5,
   "metadata": {
    "datalore": {
     "hide_input_from_viewers": false,
     "hide_output_from_viewers": false,
     "type": "CODE"
    }
   },
   "outputs": [
    {
     "data": {
      "text/plain": [
       "0"
      ]
     },
     "execution_count": 5,
     "metadata": {},
     "output_type": "execute_result"
    }
   ],
   "source": [
    "df_retail.drop_duplicates(keep='first',inplace=True) #removes all duplicates keeping the first instance\n",
    "df_retail.duplicated().sum()"
   ]
  },
  {
   "cell_type": "code",
   "execution_count": 6,
   "metadata": {
    "datalore": {
     "hide_input_from_viewers": false,
     "hide_output_from_viewers": false,
     "type": "CODE"
    }
   },
   "outputs": [
    {
     "data": {
      "text/plain": [
       "United Kingdom          490300\n",
       "Germany                   9480\n",
       "France                    8541\n",
       "EIRE                      8184\n",
       "Spain                     2528\n",
       "Netherlands               2371\n",
       "Belgium                   2069\n",
       "Switzerland               1994\n",
       "Portugal                  1510\n",
       "Australia                 1258\n",
       "Norway                    1086\n",
       "Italy                      803\n",
       "Channel Islands            757\n",
       "Finland                    695\n",
       "Cyprus                     611\n",
       "Sweden                     461\n",
       "Unspecified                442\n",
       "Austria                    401\n",
       "Denmark                    389\n",
       "Japan                      358\n",
       "Poland                     341\n",
       "Israel                     294\n",
       "USA                        291\n",
       "Hong Kong                  284\n",
       "Singapore                  229\n",
       "Iceland                    182\n",
       "Canada                     151\n",
       "Greece                     146\n",
       "Malta                      127\n",
       "United Arab Emirates        68\n",
       "European Community          61\n",
       "RSA                         58\n",
       "Lebanon                     45\n",
       "Lithuania                   35\n",
       "Brazil                      32\n",
       "Czech Republic              30\n",
       "Bahrain                     19\n",
       "Saudi Arabia                10\n",
       "Name: Country, dtype: int64"
      ]
     },
     "execution_count": 6,
     "metadata": {},
     "output_type": "execute_result"
    }
   ],
   "source": [
    "df_retail['Country'].value_counts() #checks countrywise distribution of data"
   ]
  },
  {
   "cell_type": "code",
   "execution_count": 7,
   "metadata": {
    "datalore": {
     "hide_input_from_viewers": false,
     "hide_output_from_viewers": false,
     "type": "CODE"
    }
   },
   "outputs": [
    {
     "data": {
      "text/plain": [
       "United Kingdom    490300\n",
       "Name: Country, dtype: int64"
      ]
     },
     "execution_count": 7,
     "metadata": {},
     "output_type": "execute_result"
    }
   ],
   "source": [
    "df_retail=df_retail[df_retail['Country']=='United Kingdom'] #Keeps only entries from the United Kingdom\n",
    "df_retail['Country'].value_counts()"
   ]
  },
  {
   "cell_type": "code",
   "execution_count": 8,
   "metadata": {
    "datalore": {
     "hide_input_from_viewers": false,
     "hide_output_from_viewers": false,
     "type": "CODE"
    }
   },
   "outputs": [
    {
     "name": "stdout",
     "output_type": "stream",
     "text": [
      "<class 'pandas.core.frame.DataFrame'>\n",
      "Int64Index: 482479 entries, 0 to 541893\n",
      "Data columns (total 8 columns):\n",
      " #   Column       Non-Null Count   Dtype         \n",
      "---  ------       --------------   -----         \n",
      " 0   InvoiceNo    482479 non-null  object        \n",
      " 1   StockCode    482479 non-null  object        \n",
      " 2   Description  481025 non-null  object        \n",
      " 3   Quantity     482479 non-null  int64         \n",
      " 4   InvoiceDate  482479 non-null  datetime64[ns]\n",
      " 5   UnitPrice    482479 non-null  float64       \n",
      " 6   CustomerID   349227 non-null  float64       \n",
      " 7   Country      482479 non-null  object        \n",
      "dtypes: datetime64[ns](1), float64(2), int64(1), object(4)\n",
      "memory usage: 33.1+ MB\n"
     ]
    }
   ],
   "source": [
    "df_retail = df_retail[~df_retail[\"InvoiceNo\"].str.contains(\"C\", na=False)] #removes all cancelled orders\n",
    "df_retail.info()"
   ]
  },
  {
   "cell_type": "code",
   "execution_count": 9,
   "metadata": {
    "datalore": {
     "hide_input_from_viewers": false,
     "hide_output_from_viewers": false,
     "type": "CODE"
    }
   },
   "outputs": [
    {
     "data": {
      "text/plain": [
       "133252"
      ]
     },
     "execution_count": 9,
     "metadata": {},
     "output_type": "execute_result"
    }
   ],
   "source": [
    "#number of null entries in customer ID\n",
    "df_retail['CustomerID'].isna().sum()"
   ]
  },
  {
   "cell_type": "code",
   "execution_count": 10,
   "metadata": {
    "datalore": {
     "hide_input_from_viewers": false,
     "hide_output_from_viewers": false,
     "type": "CODE"
    }
   },
   "outputs": [
    {
     "name": "stdout",
     "output_type": "stream",
     "text": [
      "<class 'pandas.core.frame.DataFrame'>\n",
      "Int64Index: 349227 entries, 0 to 541893\n",
      "Data columns (total 8 columns):\n",
      " #   Column       Non-Null Count   Dtype         \n",
      "---  ------       --------------   -----         \n",
      " 0   InvoiceNo    349227 non-null  object        \n",
      " 1   StockCode    349227 non-null  object        \n",
      " 2   Description  349227 non-null  object        \n",
      " 3   Quantity     349227 non-null  int64         \n",
      " 4   InvoiceDate  349227 non-null  datetime64[ns]\n",
      " 5   UnitPrice    349227 non-null  float64       \n",
      " 6   CustomerID   349227 non-null  float64       \n",
      " 7   Country      349227 non-null  object        \n",
      "dtypes: datetime64[ns](1), float64(2), int64(1), object(4)\n",
      "memory usage: 24.0+ MB\n"
     ]
    }
   ],
   "source": [
    "# Drop rows with null entries in CustomerID\n",
    "df_retail=df_retail.dropna(subset=['CustomerID'])\n",
    "df_retail.info()"
   ]
  },
  {
   "cell_type": "code",
   "execution_count": 11,
   "metadata": {
    "datalore": {
     "hide_input_from_viewers": false,
     "hide_output_from_viewers": false,
     "type": "CODE"
    }
   },
   "outputs": [
    {
     "name": "stdout",
     "output_type": "stream",
     "text": [
      "<class 'pandas.core.frame.DataFrame'>\n",
      "Int64Index: 349203 entries, 0 to 541893\n",
      "Data columns (total 8 columns):\n",
      " #   Column       Non-Null Count   Dtype         \n",
      "---  ------       --------------   -----         \n",
      " 0   InvoiceNo    349203 non-null  object        \n",
      " 1   StockCode    349203 non-null  object        \n",
      " 2   Description  349203 non-null  object        \n",
      " 3   Quantity     349203 non-null  int64         \n",
      " 4   InvoiceDate  349203 non-null  datetime64[ns]\n",
      " 5   UnitPrice    349203 non-null  float64       \n",
      " 6   CustomerID   349203 non-null  float64       \n",
      " 7   Country      349203 non-null  object        \n",
      "dtypes: datetime64[ns](1), float64(2), int64(1), object(4)\n",
      "memory usage: 24.0+ MB\n"
     ]
    }
   ],
   "source": [
    "#Keep only non negative values of Price and Quantity\n",
    "df_retail = df_retail[(df_retail['UnitPrice']>0) & (df_retail['Quantity']>0)]\n",
    "df_retail.info()"
   ]
  },
  {
   "cell_type": "code",
   "execution_count": 12,
   "metadata": {
    "datalore": {
     "hide_input_from_viewers": false,
     "hide_output_from_viewers": false,
     "type": "CODE"
    }
   },
   "outputs": [
    {
     "data": {
      "text/html": [
       "<div>\n",
       "<style scoped>\n",
       "    .dataframe tbody tr th:only-of-type {\n",
       "        vertical-align: middle;\n",
       "    }\n",
       "\n",
       "    .dataframe tbody tr th {\n",
       "        vertical-align: top;\n",
       "    }\n",
       "\n",
       "    .dataframe thead th {\n",
       "        text-align: right;\n",
       "    }\n",
       "</style>\n",
       "<table border=\"1\" class=\"dataframe\">\n",
       "  <thead>\n",
       "    <tr style=\"text-align: right;\">\n",
       "      <th></th>\n",
       "      <th>InvoiceNo</th>\n",
       "      <th>StockCode</th>\n",
       "      <th>Description</th>\n",
       "      <th>Quantity</th>\n",
       "      <th>InvoiceDate</th>\n",
       "      <th>UnitPrice</th>\n",
       "      <th>CustomerID</th>\n",
       "      <th>Country</th>\n",
       "      <th>Amount</th>\n",
       "    </tr>\n",
       "  </thead>\n",
       "  <tbody>\n",
       "    <tr>\n",
       "      <th>0</th>\n",
       "      <td>536365</td>\n",
       "      <td>85123A</td>\n",
       "      <td>WHITE HANGING HEART T-LIGHT HOLDER</td>\n",
       "      <td>6</td>\n",
       "      <td>2010-12-01 08:26:00</td>\n",
       "      <td>2.55</td>\n",
       "      <td>17850.0</td>\n",
       "      <td>United Kingdom</td>\n",
       "      <td>15.30</td>\n",
       "    </tr>\n",
       "    <tr>\n",
       "      <th>1</th>\n",
       "      <td>536365</td>\n",
       "      <td>71053</td>\n",
       "      <td>WHITE METAL LANTERN</td>\n",
       "      <td>6</td>\n",
       "      <td>2010-12-01 08:26:00</td>\n",
       "      <td>3.39</td>\n",
       "      <td>17850.0</td>\n",
       "      <td>United Kingdom</td>\n",
       "      <td>20.34</td>\n",
       "    </tr>\n",
       "    <tr>\n",
       "      <th>2</th>\n",
       "      <td>536365</td>\n",
       "      <td>84406B</td>\n",
       "      <td>CREAM CUPID HEARTS COAT HANGER</td>\n",
       "      <td>8</td>\n",
       "      <td>2010-12-01 08:26:00</td>\n",
       "      <td>2.75</td>\n",
       "      <td>17850.0</td>\n",
       "      <td>United Kingdom</td>\n",
       "      <td>22.00</td>\n",
       "    </tr>\n",
       "    <tr>\n",
       "      <th>3</th>\n",
       "      <td>536365</td>\n",
       "      <td>84029G</td>\n",
       "      <td>KNITTED UNION FLAG HOT WATER BOTTLE</td>\n",
       "      <td>6</td>\n",
       "      <td>2010-12-01 08:26:00</td>\n",
       "      <td>3.39</td>\n",
       "      <td>17850.0</td>\n",
       "      <td>United Kingdom</td>\n",
       "      <td>20.34</td>\n",
       "    </tr>\n",
       "    <tr>\n",
       "      <th>4</th>\n",
       "      <td>536365</td>\n",
       "      <td>84029E</td>\n",
       "      <td>RED WOOLLY HOTTIE WHITE HEART.</td>\n",
       "      <td>6</td>\n",
       "      <td>2010-12-01 08:26:00</td>\n",
       "      <td>3.39</td>\n",
       "      <td>17850.0</td>\n",
       "      <td>United Kingdom</td>\n",
       "      <td>20.34</td>\n",
       "    </tr>\n",
       "  </tbody>\n",
       "</table>\n",
       "</div>"
      ],
      "text/plain": [
       "  InvoiceNo StockCode                          Description  Quantity  \\\n",
       "0    536365    85123A   WHITE HANGING HEART T-LIGHT HOLDER         6   \n",
       "1    536365     71053                  WHITE METAL LANTERN         6   \n",
       "2    536365    84406B       CREAM CUPID HEARTS COAT HANGER         8   \n",
       "3    536365    84029G  KNITTED UNION FLAG HOT WATER BOTTLE         6   \n",
       "4    536365    84029E       RED WOOLLY HOTTIE WHITE HEART.         6   \n",
       "\n",
       "          InvoiceDate  UnitPrice  CustomerID         Country  Amount  \n",
       "0 2010-12-01 08:26:00       2.55     17850.0  United Kingdom   15.30  \n",
       "1 2010-12-01 08:26:00       3.39     17850.0  United Kingdom   20.34  \n",
       "2 2010-12-01 08:26:00       2.75     17850.0  United Kingdom   22.00  \n",
       "3 2010-12-01 08:26:00       3.39     17850.0  United Kingdom   20.34  \n",
       "4 2010-12-01 08:26:00       3.39     17850.0  United Kingdom   20.34  "
      ]
     },
     "execution_count": 12,
     "metadata": {},
     "output_type": "execute_result"
    }
   ],
   "source": [
    "# Calculates amount as product of unit price and Quantity\n",
    "df_retail['Amount']=df_retail['Quantity']*df_retail['UnitPrice']\n",
    "df_retail.head()"
   ]
  },
  {
   "cell_type": "code",
   "execution_count": 13,
   "metadata": {
    "datalore": {
     "hide_input_from_viewers": false,
     "hide_output_from_viewers": false,
     "type": "CODE"
    }
   },
   "outputs": [
    {
     "data": {
      "text/html": [
       "<div>\n",
       "<style scoped>\n",
       "    .dataframe tbody tr th:only-of-type {\n",
       "        vertical-align: middle;\n",
       "    }\n",
       "\n",
       "    .dataframe tbody tr th {\n",
       "        vertical-align: top;\n",
       "    }\n",
       "\n",
       "    .dataframe thead th {\n",
       "        text-align: right;\n",
       "    }\n",
       "</style>\n",
       "<table border=\"1\" class=\"dataframe\">\n",
       "  <thead>\n",
       "    <tr style=\"text-align: right;\">\n",
       "      <th></th>\n",
       "      <th>CustomerID</th>\n",
       "      <th>Amount</th>\n",
       "    </tr>\n",
       "  </thead>\n",
       "  <tbody>\n",
       "    <tr>\n",
       "      <th>0</th>\n",
       "      <td>12346.0</td>\n",
       "      <td>77183.60</td>\n",
       "    </tr>\n",
       "    <tr>\n",
       "      <th>1</th>\n",
       "      <td>12747.0</td>\n",
       "      <td>4196.01</td>\n",
       "    </tr>\n",
       "    <tr>\n",
       "      <th>2</th>\n",
       "      <td>12748.0</td>\n",
       "      <td>33053.19</td>\n",
       "    </tr>\n",
       "    <tr>\n",
       "      <th>3</th>\n",
       "      <td>12749.0</td>\n",
       "      <td>4090.88</td>\n",
       "    </tr>\n",
       "    <tr>\n",
       "      <th>4</th>\n",
       "      <td>12820.0</td>\n",
       "      <td>942.34</td>\n",
       "    </tr>\n",
       "  </tbody>\n",
       "</table>\n",
       "</div>"
      ],
      "text/plain": [
       "   CustomerID    Amount\n",
       "0     12346.0  77183.60\n",
       "1     12747.0   4196.01\n",
       "2     12748.0  33053.19\n",
       "3     12749.0   4090.88\n",
       "4     12820.0    942.34"
      ]
     },
     "execution_count": 13,
     "metadata": {},
     "output_type": "execute_result"
    }
   ],
   "source": [
    "# Calculates total monetary value of each customers as sum of Amount of all transactions and stores in new dataframe\n",
    "monetary=df_retail.groupby('CustomerID')['Amount'].sum()\n",
    "monetary = monetary.reset_index()\n",
    "monetary.head()"
   ]
  },
  {
   "cell_type": "code",
   "execution_count": 14,
   "metadata": {
    "datalore": {
     "hide_input_from_viewers": false,
     "hide_output_from_viewers": false,
     "type": "CODE"
    }
   },
   "outputs": [
    {
     "data": {
      "text/html": [
       "<div>\n",
       "<style scoped>\n",
       "    .dataframe tbody tr th:only-of-type {\n",
       "        vertical-align: middle;\n",
       "    }\n",
       "\n",
       "    .dataframe tbody tr th {\n",
       "        vertical-align: top;\n",
       "    }\n",
       "\n",
       "    .dataframe thead th {\n",
       "        text-align: right;\n",
       "    }\n",
       "</style>\n",
       "<table border=\"1\" class=\"dataframe\">\n",
       "  <thead>\n",
       "    <tr style=\"text-align: right;\">\n",
       "      <th></th>\n",
       "      <th>CustomerID</th>\n",
       "      <th>InvoiceNo</th>\n",
       "    </tr>\n",
       "  </thead>\n",
       "  <tbody>\n",
       "    <tr>\n",
       "      <th>0</th>\n",
       "      <td>12346.0</td>\n",
       "      <td>1</td>\n",
       "    </tr>\n",
       "    <tr>\n",
       "      <th>1</th>\n",
       "      <td>12747.0</td>\n",
       "      <td>103</td>\n",
       "    </tr>\n",
       "    <tr>\n",
       "      <th>2</th>\n",
       "      <td>12748.0</td>\n",
       "      <td>4412</td>\n",
       "    </tr>\n",
       "    <tr>\n",
       "      <th>3</th>\n",
       "      <td>12749.0</td>\n",
       "      <td>199</td>\n",
       "    </tr>\n",
       "    <tr>\n",
       "      <th>4</th>\n",
       "      <td>12820.0</td>\n",
       "      <td>59</td>\n",
       "    </tr>\n",
       "  </tbody>\n",
       "</table>\n",
       "</div>"
      ],
      "text/plain": [
       "   CustomerID  InvoiceNo\n",
       "0     12346.0          1\n",
       "1     12747.0        103\n",
       "2     12748.0       4412\n",
       "3     12749.0        199\n",
       "4     12820.0         59"
      ]
     },
     "execution_count": 14,
     "metadata": {},
     "output_type": "execute_result"
    }
   ],
   "source": [
    "# Total number of individual transaction of customers by invoice number\n",
    "frequency = df_retail.groupby('CustomerID')['InvoiceNo'].count()\n",
    "frequency = frequency.reset_index()\n",
    "frequency.head()"
   ]
  },
  {
   "cell_type": "code",
   "execution_count": 15,
   "metadata": {
    "datalore": {
     "hide_input_from_viewers": false,
     "hide_output_from_viewers": false,
     "type": "CODE"
    }
   },
   "outputs": [
    {
     "data": {
      "text/html": [
       "<div>\n",
       "<style scoped>\n",
       "    .dataframe tbody tr th:only-of-type {\n",
       "        vertical-align: middle;\n",
       "    }\n",
       "\n",
       "    .dataframe tbody tr th {\n",
       "        vertical-align: top;\n",
       "    }\n",
       "\n",
       "    .dataframe thead th {\n",
       "        text-align: right;\n",
       "    }\n",
       "</style>\n",
       "<table border=\"1\" class=\"dataframe\">\n",
       "  <thead>\n",
       "    <tr style=\"text-align: right;\">\n",
       "      <th></th>\n",
       "      <th>InvoiceNo</th>\n",
       "      <th>StockCode</th>\n",
       "      <th>Description</th>\n",
       "      <th>Quantity</th>\n",
       "      <th>InvoiceDate</th>\n",
       "      <th>UnitPrice</th>\n",
       "      <th>CustomerID</th>\n",
       "      <th>Country</th>\n",
       "      <th>Amount</th>\n",
       "      <th>Latest</th>\n",
       "    </tr>\n",
       "  </thead>\n",
       "  <tbody>\n",
       "    <tr>\n",
       "      <th>0</th>\n",
       "      <td>536365</td>\n",
       "      <td>85123A</td>\n",
       "      <td>WHITE HANGING HEART T-LIGHT HOLDER</td>\n",
       "      <td>6</td>\n",
       "      <td>2010-12-01 08:26:00</td>\n",
       "      <td>2.55</td>\n",
       "      <td>17850.0</td>\n",
       "      <td>United Kingdom</td>\n",
       "      <td>15.30</td>\n",
       "      <td>373 days 04:23:00</td>\n",
       "    </tr>\n",
       "    <tr>\n",
       "      <th>1</th>\n",
       "      <td>536365</td>\n",
       "      <td>71053</td>\n",
       "      <td>WHITE METAL LANTERN</td>\n",
       "      <td>6</td>\n",
       "      <td>2010-12-01 08:26:00</td>\n",
       "      <td>3.39</td>\n",
       "      <td>17850.0</td>\n",
       "      <td>United Kingdom</td>\n",
       "      <td>20.34</td>\n",
       "      <td>373 days 04:23:00</td>\n",
       "    </tr>\n",
       "    <tr>\n",
       "      <th>2</th>\n",
       "      <td>536365</td>\n",
       "      <td>84406B</td>\n",
       "      <td>CREAM CUPID HEARTS COAT HANGER</td>\n",
       "      <td>8</td>\n",
       "      <td>2010-12-01 08:26:00</td>\n",
       "      <td>2.75</td>\n",
       "      <td>17850.0</td>\n",
       "      <td>United Kingdom</td>\n",
       "      <td>22.00</td>\n",
       "      <td>373 days 04:23:00</td>\n",
       "    </tr>\n",
       "    <tr>\n",
       "      <th>3</th>\n",
       "      <td>536365</td>\n",
       "      <td>84029G</td>\n",
       "      <td>KNITTED UNION FLAG HOT WATER BOTTLE</td>\n",
       "      <td>6</td>\n",
       "      <td>2010-12-01 08:26:00</td>\n",
       "      <td>3.39</td>\n",
       "      <td>17850.0</td>\n",
       "      <td>United Kingdom</td>\n",
       "      <td>20.34</td>\n",
       "      <td>373 days 04:23:00</td>\n",
       "    </tr>\n",
       "    <tr>\n",
       "      <th>4</th>\n",
       "      <td>536365</td>\n",
       "      <td>84029E</td>\n",
       "      <td>RED WOOLLY HOTTIE WHITE HEART.</td>\n",
       "      <td>6</td>\n",
       "      <td>2010-12-01 08:26:00</td>\n",
       "      <td>3.39</td>\n",
       "      <td>17850.0</td>\n",
       "      <td>United Kingdom</td>\n",
       "      <td>20.34</td>\n",
       "      <td>373 days 04:23:00</td>\n",
       "    </tr>\n",
       "  </tbody>\n",
       "</table>\n",
       "</div>"
      ],
      "text/plain": [
       "  InvoiceNo StockCode                          Description  Quantity  \\\n",
       "0    536365    85123A   WHITE HANGING HEART T-LIGHT HOLDER         6   \n",
       "1    536365     71053                  WHITE METAL LANTERN         6   \n",
       "2    536365    84406B       CREAM CUPID HEARTS COAT HANGER         8   \n",
       "3    536365    84029G  KNITTED UNION FLAG HOT WATER BOTTLE         6   \n",
       "4    536365    84029E       RED WOOLLY HOTTIE WHITE HEART.         6   \n",
       "\n",
       "          InvoiceDate  UnitPrice  CustomerID         Country  Amount  \\\n",
       "0 2010-12-01 08:26:00       2.55     17850.0  United Kingdom   15.30   \n",
       "1 2010-12-01 08:26:00       3.39     17850.0  United Kingdom   20.34   \n",
       "2 2010-12-01 08:26:00       2.75     17850.0  United Kingdom   22.00   \n",
       "3 2010-12-01 08:26:00       3.39     17850.0  United Kingdom   20.34   \n",
       "4 2010-12-01 08:26:00       3.39     17850.0  United Kingdom   20.34   \n",
       "\n",
       "             Latest  \n",
       "0 373 days 04:23:00  \n",
       "1 373 days 04:23:00  \n",
       "2 373 days 04:23:00  \n",
       "3 373 days 04:23:00  \n",
       "4 373 days 04:23:00  "
      ]
     },
     "execution_count": 15,
     "metadata": {},
     "output_type": "execute_result"
    }
   ],
   "source": [
    "# Number of days between each transaction and last recorded transaction \n",
    "df_retail['Latest'] = max(df_retail['InvoiceDate']) - df_retail['InvoiceDate']\n",
    "df_retail.head()"
   ]
  },
  {
   "cell_type": "code",
   "execution_count": 16,
   "metadata": {
    "datalore": {
     "hide_input_from_viewers": false,
     "hide_output_from_viewers": false,
     "type": "CODE"
    }
   },
   "outputs": [
    {
     "data": {
      "text/html": [
       "<div>\n",
       "<style scoped>\n",
       "    .dataframe tbody tr th:only-of-type {\n",
       "        vertical-align: middle;\n",
       "    }\n",
       "\n",
       "    .dataframe tbody tr th {\n",
       "        vertical-align: top;\n",
       "    }\n",
       "\n",
       "    .dataframe thead th {\n",
       "        text-align: right;\n",
       "    }\n",
       "</style>\n",
       "<table border=\"1\" class=\"dataframe\">\n",
       "  <thead>\n",
       "    <tr style=\"text-align: right;\">\n",
       "      <th></th>\n",
       "      <th>CustomerID</th>\n",
       "      <th>Latest</th>\n",
       "    </tr>\n",
       "  </thead>\n",
       "  <tbody>\n",
       "    <tr>\n",
       "      <th>0</th>\n",
       "      <td>12346.0</td>\n",
       "      <td>325 days 02:48:00</td>\n",
       "    </tr>\n",
       "    <tr>\n",
       "      <th>1</th>\n",
       "      <td>12747.0</td>\n",
       "      <td>1 days 22:15:00</td>\n",
       "    </tr>\n",
       "    <tr>\n",
       "      <th>2</th>\n",
       "      <td>12748.0</td>\n",
       "      <td>0 days 00:29:00</td>\n",
       "    </tr>\n",
       "    <tr>\n",
       "      <th>3</th>\n",
       "      <td>12749.0</td>\n",
       "      <td>3 days 02:53:00</td>\n",
       "    </tr>\n",
       "    <tr>\n",
       "      <th>4</th>\n",
       "      <td>12820.0</td>\n",
       "      <td>2 days 21:37:00</td>\n",
       "    </tr>\n",
       "  </tbody>\n",
       "</table>\n",
       "</div>"
      ],
      "text/plain": [
       "   CustomerID            Latest\n",
       "0     12346.0 325 days 02:48:00\n",
       "1     12747.0   1 days 22:15:00\n",
       "2     12748.0   0 days 00:29:00\n",
       "3     12749.0   3 days 02:53:00\n",
       "4     12820.0   2 days 21:37:00"
      ]
     },
     "execution_count": 16,
     "metadata": {},
     "output_type": "execute_result"
    }
   ],
   "source": [
    "# Most recent transaction per customer \n",
    "recency = df_retail.groupby('CustomerID')['Latest'].min()\n",
    "recency = recency.reset_index()\n",
    "recency.head()"
   ]
  },
  {
   "cell_type": "code",
   "execution_count": 17,
   "metadata": {
    "datalore": {
     "hide_input_from_viewers": false,
     "hide_output_from_viewers": false,
     "type": "CODE"
    }
   },
   "outputs": [
    {
     "data": {
      "text/html": [
       "<div>\n",
       "<style scoped>\n",
       "    .dataframe tbody tr th:only-of-type {\n",
       "        vertical-align: middle;\n",
       "    }\n",
       "\n",
       "    .dataframe tbody tr th {\n",
       "        vertical-align: top;\n",
       "    }\n",
       "\n",
       "    .dataframe thead th {\n",
       "        text-align: right;\n",
       "    }\n",
       "</style>\n",
       "<table border=\"1\" class=\"dataframe\">\n",
       "  <thead>\n",
       "    <tr style=\"text-align: right;\">\n",
       "      <th></th>\n",
       "      <th>CustomerID</th>\n",
       "      <th>Latest</th>\n",
       "    </tr>\n",
       "  </thead>\n",
       "  <tbody>\n",
       "    <tr>\n",
       "      <th>0</th>\n",
       "      <td>12346.0</td>\n",
       "      <td>325</td>\n",
       "    </tr>\n",
       "    <tr>\n",
       "      <th>1</th>\n",
       "      <td>12747.0</td>\n",
       "      <td>1</td>\n",
       "    </tr>\n",
       "    <tr>\n",
       "      <th>2</th>\n",
       "      <td>12748.0</td>\n",
       "      <td>0</td>\n",
       "    </tr>\n",
       "    <tr>\n",
       "      <th>3</th>\n",
       "      <td>12749.0</td>\n",
       "      <td>3</td>\n",
       "    </tr>\n",
       "    <tr>\n",
       "      <th>4</th>\n",
       "      <td>12820.0</td>\n",
       "      <td>2</td>\n",
       "    </tr>\n",
       "  </tbody>\n",
       "</table>\n",
       "</div>"
      ],
      "text/plain": [
       "   CustomerID  Latest\n",
       "0     12346.0     325\n",
       "1     12747.0       1\n",
       "2     12748.0       0\n",
       "3     12749.0       3\n",
       "4     12820.0       2"
      ]
     },
     "execution_count": 17,
     "metadata": {},
     "output_type": "execute_result"
    }
   ],
   "source": [
    "# Remove time from the values\n",
    "recency['Latest']=recency['Latest'].dt.days\n",
    "recency.head()"
   ]
  },
  {
   "cell_type": "code",
   "execution_count": 18,
   "metadata": {
    "datalore": {
     "hide_input_from_viewers": false,
     "hide_output_from_viewers": false,
     "type": "CODE"
    }
   },
   "outputs": [
    {
     "data": {
      "text/html": [
       "<div>\n",
       "<style scoped>\n",
       "    .dataframe tbody tr th:only-of-type {\n",
       "        vertical-align: middle;\n",
       "    }\n",
       "\n",
       "    .dataframe tbody tr th {\n",
       "        vertical-align: top;\n",
       "    }\n",
       "\n",
       "    .dataframe thead th {\n",
       "        text-align: right;\n",
       "    }\n",
       "</style>\n",
       "<table border=\"1\" class=\"dataframe\">\n",
       "  <thead>\n",
       "    <tr style=\"text-align: right;\">\n",
       "      <th></th>\n",
       "      <th>CustomerID</th>\n",
       "      <th>Amount</th>\n",
       "      <th>InvoiceNo</th>\n",
       "    </tr>\n",
       "  </thead>\n",
       "  <tbody>\n",
       "    <tr>\n",
       "      <th>0</th>\n",
       "      <td>12346.0</td>\n",
       "      <td>77183.60</td>\n",
       "      <td>1</td>\n",
       "    </tr>\n",
       "    <tr>\n",
       "      <th>1</th>\n",
       "      <td>12747.0</td>\n",
       "      <td>4196.01</td>\n",
       "      <td>103</td>\n",
       "    </tr>\n",
       "    <tr>\n",
       "      <th>2</th>\n",
       "      <td>12748.0</td>\n",
       "      <td>33053.19</td>\n",
       "      <td>4412</td>\n",
       "    </tr>\n",
       "    <tr>\n",
       "      <th>3</th>\n",
       "      <td>12749.0</td>\n",
       "      <td>4090.88</td>\n",
       "      <td>199</td>\n",
       "    </tr>\n",
       "    <tr>\n",
       "      <th>4</th>\n",
       "      <td>12820.0</td>\n",
       "      <td>942.34</td>\n",
       "      <td>59</td>\n",
       "    </tr>\n",
       "  </tbody>\n",
       "</table>\n",
       "</div>"
      ],
      "text/plain": [
       "   CustomerID    Amount  InvoiceNo\n",
       "0     12346.0  77183.60          1\n",
       "1     12747.0   4196.01        103\n",
       "2     12748.0  33053.19       4412\n",
       "3     12749.0   4090.88        199\n",
       "4     12820.0    942.34         59"
      ]
     },
     "execution_count": 18,
     "metadata": {},
     "output_type": "execute_result"
    }
   ],
   "source": [
    "# Merge monetary and frequency tables based on CustomerID\n",
    "rfm = pd.merge(monetary, frequency, on='CustomerID', how='inner')\n",
    "rfm.head()"
   ]
  },
  {
   "cell_type": "code",
   "execution_count": 19,
   "metadata": {
    "datalore": {
     "hide_input_from_viewers": false,
     "hide_output_from_viewers": false,
     "type": "CODE"
    }
   },
   "outputs": [
    {
     "data": {
      "text/html": [
       "<div>\n",
       "<style scoped>\n",
       "    .dataframe tbody tr th:only-of-type {\n",
       "        vertical-align: middle;\n",
       "    }\n",
       "\n",
       "    .dataframe tbody tr th {\n",
       "        vertical-align: top;\n",
       "    }\n",
       "\n",
       "    .dataframe thead th {\n",
       "        text-align: right;\n",
       "    }\n",
       "</style>\n",
       "<table border=\"1\" class=\"dataframe\">\n",
       "  <thead>\n",
       "    <tr style=\"text-align: right;\">\n",
       "      <th></th>\n",
       "      <th>CustomerID</th>\n",
       "      <th>Monetary</th>\n",
       "      <th>Frequency</th>\n",
       "      <th>Recency</th>\n",
       "    </tr>\n",
       "  </thead>\n",
       "  <tbody>\n",
       "    <tr>\n",
       "      <th>0</th>\n",
       "      <td>12346.0</td>\n",
       "      <td>77183.60</td>\n",
       "      <td>1</td>\n",
       "      <td>325</td>\n",
       "    </tr>\n",
       "    <tr>\n",
       "      <th>1</th>\n",
       "      <td>12747.0</td>\n",
       "      <td>4196.01</td>\n",
       "      <td>103</td>\n",
       "      <td>1</td>\n",
       "    </tr>\n",
       "    <tr>\n",
       "      <th>2</th>\n",
       "      <td>12748.0</td>\n",
       "      <td>33053.19</td>\n",
       "      <td>4412</td>\n",
       "      <td>0</td>\n",
       "    </tr>\n",
       "    <tr>\n",
       "      <th>3</th>\n",
       "      <td>12749.0</td>\n",
       "      <td>4090.88</td>\n",
       "      <td>199</td>\n",
       "      <td>3</td>\n",
       "    </tr>\n",
       "    <tr>\n",
       "      <th>4</th>\n",
       "      <td>12820.0</td>\n",
       "      <td>942.34</td>\n",
       "      <td>59</td>\n",
       "      <td>2</td>\n",
       "    </tr>\n",
       "  </tbody>\n",
       "</table>\n",
       "</div>"
      ],
      "text/plain": [
       "   CustomerID  Monetary  Frequency  Recency\n",
       "0     12346.0  77183.60          1      325\n",
       "1     12747.0   4196.01        103        1\n",
       "2     12748.0  33053.19       4412        0\n",
       "3     12749.0   4090.88        199        3\n",
       "4     12820.0    942.34         59        2"
      ]
     },
     "execution_count": 19,
     "metadata": {},
     "output_type": "execute_result"
    }
   ],
   "source": [
    "# Merge monetary and frequency table with recency table based on CustomerID and change column name\n",
    "rfm = pd.merge(rfm, recency, on='CustomerID', how='inner')\n",
    "rfm.columns=['CustomerID','Monetary','Frequency','Recency']\n",
    "rfm.head()"
   ]
  },
  {
   "cell_type": "code",
   "execution_count": 20,
   "metadata": {
    "datalore": {
     "hide_input_from_viewers": false,
     "hide_output_from_viewers": false,
     "type": "CODE"
    }
   },
   "outputs": [],
   "source": [
    "# CustomerID is stored as string\n",
    "rfm['CustomerID']=rfm['CustomerID'].astype(str)"
   ]
  },
  {
   "cell_type": "code",
   "execution_count": 21,
   "metadata": {
    "datalore": {
     "hide_input_from_viewers": false,
     "hide_output_from_viewers": false,
     "type": "CODE"
    }
   },
   "outputs": [
    {
     "data": {
      "text/html": [
       "<div>\n",
       "<style scoped>\n",
       "    .dataframe tbody tr th:only-of-type {\n",
       "        vertical-align: middle;\n",
       "    }\n",
       "\n",
       "    .dataframe tbody tr th {\n",
       "        vertical-align: top;\n",
       "    }\n",
       "\n",
       "    .dataframe thead th {\n",
       "        text-align: right;\n",
       "    }\n",
       "</style>\n",
       "<table border=\"1\" class=\"dataframe\">\n",
       "  <thead>\n",
       "    <tr style=\"text-align: right;\">\n",
       "      <th></th>\n",
       "      <th>Monetary</th>\n",
       "      <th>Frequency</th>\n",
       "      <th>Recency</th>\n",
       "    </tr>\n",
       "  </thead>\n",
       "  <tbody>\n",
       "    <tr>\n",
       "      <th>count</th>\n",
       "      <td>3920.000000</td>\n",
       "      <td>3920.000000</td>\n",
       "      <td>3920.000000</td>\n",
       "    </tr>\n",
       "    <tr>\n",
       "      <th>mean</th>\n",
       "      <td>1858.424654</td>\n",
       "      <td>89.082398</td>\n",
       "      <td>91.208418</td>\n",
       "    </tr>\n",
       "    <tr>\n",
       "      <th>std</th>\n",
       "      <td>7478.631256</td>\n",
       "      <td>214.034542</td>\n",
       "      <td>99.533854</td>\n",
       "    </tr>\n",
       "    <tr>\n",
       "      <th>min</th>\n",
       "      <td>3.750000</td>\n",
       "      <td>1.000000</td>\n",
       "      <td>0.000000</td>\n",
       "    </tr>\n",
       "    <tr>\n",
       "      <th>25%</th>\n",
       "      <td>298.185000</td>\n",
       "      <td>17.000000</td>\n",
       "      <td>17.000000</td>\n",
       "    </tr>\n",
       "    <tr>\n",
       "      <th>50%</th>\n",
       "      <td>644.975000</td>\n",
       "      <td>40.000000</td>\n",
       "      <td>50.000000</td>\n",
       "    </tr>\n",
       "    <tr>\n",
       "      <th>75%</th>\n",
       "      <td>1571.285000</td>\n",
       "      <td>98.000000</td>\n",
       "      <td>142.000000</td>\n",
       "    </tr>\n",
       "    <tr>\n",
       "      <th>max</th>\n",
       "      <td>259657.300000</td>\n",
       "      <td>7676.000000</td>\n",
       "      <td>373.000000</td>\n",
       "    </tr>\n",
       "  </tbody>\n",
       "</table>\n",
       "</div>"
      ],
      "text/plain": [
       "            Monetary    Frequency      Recency\n",
       "count    3920.000000  3920.000000  3920.000000\n",
       "mean     1858.424654    89.082398    91.208418\n",
       "std      7478.631256   214.034542    99.533854\n",
       "min         3.750000     1.000000     0.000000\n",
       "25%       298.185000    17.000000    17.000000\n",
       "50%       644.975000    40.000000    50.000000\n",
       "75%      1571.285000    98.000000   142.000000\n",
       "max    259657.300000  7676.000000   373.000000"
      ]
     },
     "execution_count": 21,
     "metadata": {},
     "output_type": "execute_result"
    }
   ],
   "source": [
    "# Statistical description of dataframe\n",
    "rfm.describe()"
   ]
  },
  {
   "cell_type": "code",
   "execution_count": 22,
   "metadata": {
    "datalore": {
     "hide_input_from_viewers": false,
     "hide_output_from_viewers": false,
     "type": "CODE"
    }
   },
   "outputs": [
    {
     "data": {
      "text/plain": [
       "(24294.31842285217, -20577.46911468891, 1858.4246540816325, 7478.631256256846)"
      ]
     },
     "execution_count": 22,
     "metadata": {},
     "output_type": "execute_result"
    }
   ],
   "source": [
    "m_mean=rfm['Monetary'].mean()\n",
    "m_sd=rfm['Monetary'].std()\n",
    "upperl_m=m_mean+3*m_sd\n",
    "lowerl_m=m_mean-3*m_sd\n",
    "upperl_m,lowerl_m,m_mean,m_sd"
   ]
  },
  {
   "cell_type": "code",
   "execution_count": 23,
   "metadata": {
    "datalore": {
     "hide_input_from_viewers": false,
     "hide_output_from_viewers": false,
     "type": "CODE"
    }
   },
   "outputs": [
    {
     "data": {
      "text/html": [
       "<div>\n",
       "<style scoped>\n",
       "    .dataframe tbody tr th:only-of-type {\n",
       "        vertical-align: middle;\n",
       "    }\n",
       "\n",
       "    .dataframe tbody tr th {\n",
       "        vertical-align: top;\n",
       "    }\n",
       "\n",
       "    .dataframe thead th {\n",
       "        text-align: right;\n",
       "    }\n",
       "</style>\n",
       "<table border=\"1\" class=\"dataframe\">\n",
       "  <thead>\n",
       "    <tr style=\"text-align: right;\">\n",
       "      <th></th>\n",
       "      <th>Monetary</th>\n",
       "      <th>Frequency</th>\n",
       "      <th>Recency</th>\n",
       "    </tr>\n",
       "  </thead>\n",
       "  <tbody>\n",
       "    <tr>\n",
       "      <th>count</th>\n",
       "      <td>3887.000000</td>\n",
       "      <td>3887.000000</td>\n",
       "      <td>3887.000000</td>\n",
       "    </tr>\n",
       "    <tr>\n",
       "      <th>mean</th>\n",
       "      <td>1352.646929</td>\n",
       "      <td>81.866478</td>\n",
       "      <td>91.746077</td>\n",
       "    </tr>\n",
       "    <tr>\n",
       "      <th>std</th>\n",
       "      <td>2083.818453</td>\n",
       "      <td>128.558731</td>\n",
       "      <td>99.563190</td>\n",
       "    </tr>\n",
       "    <tr>\n",
       "      <th>min</th>\n",
       "      <td>3.750000</td>\n",
       "      <td>1.000000</td>\n",
       "      <td>0.000000</td>\n",
       "    </tr>\n",
       "    <tr>\n",
       "      <th>25%</th>\n",
       "      <td>295.465000</td>\n",
       "      <td>16.000000</td>\n",
       "      <td>17.000000</td>\n",
       "    </tr>\n",
       "    <tr>\n",
       "      <th>50%</th>\n",
       "      <td>638.050000</td>\n",
       "      <td>40.000000</td>\n",
       "      <td>50.000000</td>\n",
       "    </tr>\n",
       "    <tr>\n",
       "      <th>75%</th>\n",
       "      <td>1533.230000</td>\n",
       "      <td>97.000000</td>\n",
       "      <td>143.000000</td>\n",
       "    </tr>\n",
       "    <tr>\n",
       "      <th>max</th>\n",
       "      <td>21086.300000</td>\n",
       "      <td>2677.000000</td>\n",
       "      <td>373.000000</td>\n",
       "    </tr>\n",
       "  </tbody>\n",
       "</table>\n",
       "</div>"
      ],
      "text/plain": [
       "           Monetary    Frequency      Recency\n",
       "count   3887.000000  3887.000000  3887.000000\n",
       "mean    1352.646929    81.866478    91.746077\n",
       "std     2083.818453   128.558731    99.563190\n",
       "min        3.750000     1.000000     0.000000\n",
       "25%      295.465000    16.000000    17.000000\n",
       "50%      638.050000    40.000000    50.000000\n",
       "75%     1533.230000    97.000000   143.000000\n",
       "max    21086.300000  2677.000000   373.000000"
      ]
     },
     "execution_count": 23,
     "metadata": {},
     "output_type": "execute_result"
    }
   ],
   "source": [
    "rfm=rfm[(rfm['Monetary']>lowerl_m) & (rfm['Monetary']<upperl_m)] \n",
    "rfm.describe()"
   ]
  },
  {
   "cell_type": "code",
   "execution_count": 24,
   "metadata": {
    "datalore": {
     "hide_input_from_viewers": false,
     "hide_output_from_viewers": false,
     "type": "CODE"
    }
   },
   "outputs": [
    {
     "data": {
      "text/plain": [
       "(467.54267109615193,\n",
       " -303.80971508894845,\n",
       " 81.86647800360176,\n",
       " 128.55873103085005)"
      ]
     },
     "execution_count": 24,
     "metadata": {},
     "output_type": "execute_result"
    }
   ],
   "source": [
    "f_mean=rfm['Frequency'].mean()\n",
    "f_sd=rfm['Frequency'].std()\n",
    "upperl_f=f_mean+3*f_sd\n",
    "lowerl_f=f_mean-3*f_sd\n",
    "upperl_f,lowerl_f,f_mean,f_sd"
   ]
  },
  {
   "cell_type": "code",
   "execution_count": 25,
   "metadata": {
    "datalore": {
     "hide_input_from_viewers": false,
     "hide_output_from_viewers": false,
     "type": "CODE"
    }
   },
   "outputs": [
    {
     "data": {
      "text/html": [
       "<div>\n",
       "<style scoped>\n",
       "    .dataframe tbody tr th:only-of-type {\n",
       "        vertical-align: middle;\n",
       "    }\n",
       "\n",
       "    .dataframe tbody tr th {\n",
       "        vertical-align: top;\n",
       "    }\n",
       "\n",
       "    .dataframe thead th {\n",
       "        text-align: right;\n",
       "    }\n",
       "</style>\n",
       "<table border=\"1\" class=\"dataframe\">\n",
       "  <thead>\n",
       "    <tr style=\"text-align: right;\">\n",
       "      <th></th>\n",
       "      <th>Monetary</th>\n",
       "      <th>Frequency</th>\n",
       "      <th>Recency</th>\n",
       "    </tr>\n",
       "  </thead>\n",
       "  <tbody>\n",
       "    <tr>\n",
       "      <th>count</th>\n",
       "      <td>3816.000000</td>\n",
       "      <td>3816.000000</td>\n",
       "      <td>3816.000000</td>\n",
       "    </tr>\n",
       "    <tr>\n",
       "      <th>mean</th>\n",
       "      <td>1252.649113</td>\n",
       "      <td>69.819969</td>\n",
       "      <td>93.250262</td>\n",
       "    </tr>\n",
       "    <tr>\n",
       "      <th>std</th>\n",
       "      <td>1875.664680</td>\n",
       "      <td>82.122428</td>\n",
       "      <td>99.832045</td>\n",
       "    </tr>\n",
       "    <tr>\n",
       "      <th>min</th>\n",
       "      <td>3.750000</td>\n",
       "      <td>1.000000</td>\n",
       "      <td>0.000000</td>\n",
       "    </tr>\n",
       "    <tr>\n",
       "      <th>25%</th>\n",
       "      <td>290.390000</td>\n",
       "      <td>16.000000</td>\n",
       "      <td>18.000000</td>\n",
       "    </tr>\n",
       "    <tr>\n",
       "      <th>50%</th>\n",
       "      <td>622.130000</td>\n",
       "      <td>39.000000</td>\n",
       "      <td>51.000000</td>\n",
       "    </tr>\n",
       "    <tr>\n",
       "      <th>75%</th>\n",
       "      <td>1445.280000</td>\n",
       "      <td>91.000000</td>\n",
       "      <td>147.000000</td>\n",
       "    </tr>\n",
       "    <tr>\n",
       "      <th>max</th>\n",
       "      <td>21086.300000</td>\n",
       "      <td>467.000000</td>\n",
       "      <td>373.000000</td>\n",
       "    </tr>\n",
       "  </tbody>\n",
       "</table>\n",
       "</div>"
      ],
      "text/plain": [
       "           Monetary    Frequency      Recency\n",
       "count   3816.000000  3816.000000  3816.000000\n",
       "mean    1252.649113    69.819969    93.250262\n",
       "std     1875.664680    82.122428    99.832045\n",
       "min        3.750000     1.000000     0.000000\n",
       "25%      290.390000    16.000000    18.000000\n",
       "50%      622.130000    39.000000    51.000000\n",
       "75%     1445.280000    91.000000   147.000000\n",
       "max    21086.300000   467.000000   373.000000"
      ]
     },
     "execution_count": 25,
     "metadata": {},
     "output_type": "execute_result"
    }
   ],
   "source": [
    "rfm=rfm[(rfm['Frequency']>lowerl_f) & (rfm['Frequency']<upperl_f)] \n",
    "rfm.describe()"
   ]
  },
  {
   "cell_type": "code",
   "execution_count": 26,
   "metadata": {
    "datalore": {
     "hide_input_from_viewers": false,
     "hide_output_from_viewers": false,
     "type": "CODE"
    }
   },
   "outputs": [
    {
     "data": {
      "text/plain": [
       "(392.7463972429747, -206.24587313396, 93.25026205450733, 99.83204506282244)"
      ]
     },
     "execution_count": 26,
     "metadata": {},
     "output_type": "execute_result"
    }
   ],
   "source": [
    "r_mean=rfm['Recency'].mean()\n",
    "r_sd=rfm['Recency'].std()\n",
    "upperl_r=r_mean+3*r_sd\n",
    "lowerl_r=r_mean-3*r_sd\n",
    "upperl_r,lowerl_r,r_mean,r_sd"
   ]
  },
  {
   "cell_type": "code",
   "execution_count": 27,
   "metadata": {
    "datalore": {
     "hide_input_from_viewers": false,
     "hide_output_from_viewers": false,
     "type": "CODE"
    }
   },
   "outputs": [
    {
     "name": "stdout",
     "output_type": "stream",
     "text": [
      "<class 'pandas.core.frame.DataFrame'>\n",
      "Int64Index: 3816 entries, 1 to 3919\n",
      "Data columns (total 4 columns):\n",
      " #   Column      Non-Null Count  Dtype  \n",
      "---  ------      --------------  -----  \n",
      " 0   CustomerID  3816 non-null   object \n",
      " 1   Monetary    3816 non-null   float64\n",
      " 2   Frequency   3816 non-null   int64  \n",
      " 3   Recency     3816 non-null   int64  \n",
      "dtypes: float64(1), int64(2), object(1)\n",
      "memory usage: 149.1+ KB\n"
     ]
    },
    {
     "data": {
      "text/html": [
       "<div>\n",
       "<style scoped>\n",
       "    .dataframe tbody tr th:only-of-type {\n",
       "        vertical-align: middle;\n",
       "    }\n",
       "\n",
       "    .dataframe tbody tr th {\n",
       "        vertical-align: top;\n",
       "    }\n",
       "\n",
       "    .dataframe thead th {\n",
       "        text-align: right;\n",
       "    }\n",
       "</style>\n",
       "<table border=\"1\" class=\"dataframe\">\n",
       "  <thead>\n",
       "    <tr style=\"text-align: right;\">\n",
       "      <th></th>\n",
       "      <th>CustomerID</th>\n",
       "      <th>Monetary</th>\n",
       "      <th>Frequency</th>\n",
       "      <th>Recency</th>\n",
       "    </tr>\n",
       "  </thead>\n",
       "  <tbody>\n",
       "    <tr>\n",
       "      <th>1</th>\n",
       "      <td>12747.0</td>\n",
       "      <td>4196.01</td>\n",
       "      <td>103</td>\n",
       "      <td>1</td>\n",
       "    </tr>\n",
       "    <tr>\n",
       "      <th>3</th>\n",
       "      <td>12749.0</td>\n",
       "      <td>4090.88</td>\n",
       "      <td>199</td>\n",
       "      <td>3</td>\n",
       "    </tr>\n",
       "    <tr>\n",
       "      <th>4</th>\n",
       "      <td>12820.0</td>\n",
       "      <td>942.34</td>\n",
       "      <td>59</td>\n",
       "      <td>2</td>\n",
       "    </tr>\n",
       "    <tr>\n",
       "      <th>5</th>\n",
       "      <td>12821.0</td>\n",
       "      <td>92.72</td>\n",
       "      <td>6</td>\n",
       "      <td>213</td>\n",
       "    </tr>\n",
       "    <tr>\n",
       "      <th>6</th>\n",
       "      <td>12822.0</td>\n",
       "      <td>948.88</td>\n",
       "      <td>46</td>\n",
       "      <td>70</td>\n",
       "    </tr>\n",
       "  </tbody>\n",
       "</table>\n",
       "</div>"
      ],
      "text/plain": [
       "  CustomerID  Monetary  Frequency  Recency\n",
       "1    12747.0   4196.01        103        1\n",
       "3    12749.0   4090.88        199        3\n",
       "4    12820.0    942.34         59        2\n",
       "5    12821.0     92.72          6      213\n",
       "6    12822.0    948.88         46       70"
      ]
     },
     "execution_count": 27,
     "metadata": {},
     "output_type": "execute_result"
    }
   ],
   "source": [
    "rfm.info()\n",
    "rfm.head()"
   ]
  },
  {
   "cell_type": "code",
   "execution_count": 28,
   "metadata": {
    "datalore": {
     "hide_input_from_viewers": false,
     "hide_output_from_viewers": false,
     "type": "CODE"
    }
   },
   "outputs": [
    {
     "data": {
      "text/plain": [
       "(3816, 3)"
      ]
     },
     "execution_count": 28,
     "metadata": {},
     "output_type": "execute_result"
    }
   ],
   "source": [
    "# Rescaling the attributes\n",
    "rfm_reshaped = rfm[['Monetary', 'Frequency', 'Recency']]\n",
    "\n",
    "\n",
    "# Instantiate\n",
    "scaler = StandardScaler()\n",
    "\n",
    "# fit_transform\n",
    "rfm_df_scaled = scaler.fit_transform(rfm_reshaped)\n",
    "rfm_df_scaled.shape"
   ]
  },
  {
   "cell_type": "code",
   "execution_count": 29,
   "metadata": {
    "datalore": {
     "hide_input_from_viewers": false,
     "hide_output_from_viewers": false,
     "type": "CODE"
    }
   },
   "outputs": [
    {
     "data": {
      "text/html": [
       "<div>\n",
       "<style scoped>\n",
       "    .dataframe tbody tr th:only-of-type {\n",
       "        vertical-align: middle;\n",
       "    }\n",
       "\n",
       "    .dataframe tbody tr th {\n",
       "        vertical-align: top;\n",
       "    }\n",
       "\n",
       "    .dataframe thead th {\n",
       "        text-align: right;\n",
       "    }\n",
       "</style>\n",
       "<table border=\"1\" class=\"dataframe\">\n",
       "  <thead>\n",
       "    <tr style=\"text-align: right;\">\n",
       "      <th></th>\n",
       "      <th>Monetary</th>\n",
       "      <th>Frequency</th>\n",
       "      <th>Recency</th>\n",
       "    </tr>\n",
       "  </thead>\n",
       "  <tbody>\n",
       "    <tr>\n",
       "      <th>0</th>\n",
       "      <td>1.569442</td>\n",
       "      <td>0.404084</td>\n",
       "      <td>-0.924176</td>\n",
       "    </tr>\n",
       "    <tr>\n",
       "      <th>1</th>\n",
       "      <td>1.513385</td>\n",
       "      <td>1.573224</td>\n",
       "      <td>-0.904139</td>\n",
       "    </tr>\n",
       "    <tr>\n",
       "      <th>2</th>\n",
       "      <td>-0.165461</td>\n",
       "      <td>-0.131771</td>\n",
       "      <td>-0.914158</td>\n",
       "    </tr>\n",
       "    <tr>\n",
       "      <th>3</th>\n",
       "      <td>-0.618491</td>\n",
       "      <td>-0.777234</td>\n",
       "      <td>1.199669</td>\n",
       "    </tr>\n",
       "    <tr>\n",
       "      <th>4</th>\n",
       "      <td>-0.161974</td>\n",
       "      <td>-0.290092</td>\n",
       "      <td>-0.232924</td>\n",
       "    </tr>\n",
       "  </tbody>\n",
       "</table>\n",
       "</div>"
      ],
      "text/plain": [
       "   Monetary  Frequency   Recency\n",
       "0  1.569442   0.404084 -0.924176\n",
       "1  1.513385   1.573224 -0.904139\n",
       "2 -0.165461  -0.131771 -0.914158\n",
       "3 -0.618491  -0.777234  1.199669\n",
       "4 -0.161974  -0.290092 -0.232924"
      ]
     },
     "execution_count": 29,
     "metadata": {},
     "output_type": "execute_result"
    }
   ],
   "source": [
    "rfm_scaled = pd.DataFrame(rfm_df_scaled)\n",
    "rfm_scaled.columns = ['Monetary', 'Frequency', 'Recency']\n",
    "rfm_scaled.head()"
   ]
  },
  {
   "cell_type": "code",
   "execution_count": 30,
   "metadata": {
    "datalore": {
     "hide_input_from_viewers": false,
     "hide_output_from_viewers": false,
     "type": "CODE"
    }
   },
   "outputs": [],
   "source": [
    "sse = []\n",
    "k_rng = range(1,11)\n",
    "for k in k_rng:\n",
    "    km = KMeans(n_clusters=k,init='k-means++')\n",
    "    km.fit(rfm_scaled[['Monetary', 'Frequency', 'Recency']])\n",
    "    sse.append(km.inertia_)"
   ]
  },
  {
   "cell_type": "code",
   "execution_count": 32,
   "metadata": {
    "datalore": {
     "hide_input_from_viewers": false,
     "hide_output_from_viewers": false,
     "type": "CODE"
    }
   },
   "outputs": [
    {
     "data": {
      "application/vnd.jupyter.widget-view+json": {
       "model_id": "edab75b46f2741b39f580d483b70fea0",
       "version_major": 2,
       "version_minor": 0
      },
      "image/png": "[encoded data removed]",
      "text/html": [
       "\n",
       "            <div style=\"display: inline-block;\">\n",
       "                <div class=\"jupyter-widgets widget-label\" style=\"text-align: center;\">\n",
       "                    Figure\n",
       "                </div>\n",
       "                <img src='data:image/png;base64,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' width=640.0/>\n",
       "            </div>\n",
       "        "
      ],
      "text/plain": [
       "Canvas(toolbar=Toolbar(toolitems=[('Home', 'Reset original view', 'home', 'home'), ('Back', 'Back to previous …"
      ]
     },
     "metadata": {},
     "output_type": "display_data"
    }
   ],
   "source": [
    "fig, ax = plt.subplots()\n",
    "plt.xlabel('K')\n",
    "plt.ylabel('Sum of squared error')\n",
    "plt.plot(k_rng,sse)\n",
    "plt.show()"
   ]
  },
  {
   "cell_type": "code",
   "execution_count": 33,
   "metadata": {
    "datalore": {
     "hide_input_from_viewers": false,
     "hide_output_from_viewers": false,
     "type": "CODE"
    }
   },
   "outputs": [
    {
     "data": {
      "text/plain": [
       "array([2, 2, 0, ..., 1, 0, 0])"
      ]
     },
     "execution_count": 33,
     "metadata": {},
     "output_type": "execute_result"
    }
   ],
   "source": [
    "km = KMeans(n_clusters=3)\n",
    "y_predicted = km.fit_predict(rfm_scaled[['Monetary', 'Frequency', 'Recency']])\n",
    "y_predicted"
   ]
  },
  {
   "cell_type": "code",
   "execution_count": 34,
   "metadata": {
    "datalore": {
     "hide_input_from_viewers": false,
     "hide_output_from_viewers": false,
     "type": "CODE"
    }
   },
   "outputs": [
    {
     "data": {
      "text/plain": [
       "array([[-0.18159141, -0.18994013, -0.47922416],\n",
       "       [-0.45152509, -0.54205644,  1.52708108],\n",
       "       [ 1.8409755 ,  2.06812236, -0.69439667]])"
      ]
     },
     "execution_count": 34,
     "metadata": {},
     "output_type": "execute_result"
    }
   ],
   "source": [
    "km.cluster_centers_"
   ]
  },
  {
   "cell_type": "code",
   "execution_count": 35,
   "metadata": {
    "datalore": {
     "hide_input_from_viewers": false,
     "hide_output_from_viewers": false,
     "type": "CODE"
    }
   },
   "outputs": [
    {
     "data": {
      "text/html": [
       "<div>\n",
       "<style scoped>\n",
       "    .dataframe tbody tr th:only-of-type {\n",
       "        vertical-align: middle;\n",
       "    }\n",
       "\n",
       "    .dataframe tbody tr th {\n",
       "        vertical-align: top;\n",
       "    }\n",
       "\n",
       "    .dataframe thead th {\n",
       "        text-align: right;\n",
       "    }\n",
       "</style>\n",
       "<table border=\"1\" class=\"dataframe\">\n",
       "  <thead>\n",
       "    <tr style=\"text-align: right;\">\n",
       "      <th></th>\n",
       "      <th>Monetary</th>\n",
       "      <th>Frequency</th>\n",
       "      <th>Recency</th>\n",
       "      <th>Cluster</th>\n",
       "    </tr>\n",
       "  </thead>\n",
       "  <tbody>\n",
       "    <tr>\n",
       "      <th>0</th>\n",
       "      <td>1.569442</td>\n",
       "      <td>0.404084</td>\n",
       "      <td>-0.924176</td>\n",
       "      <td>2</td>\n",
       "    </tr>\n",
       "    <tr>\n",
       "      <th>1</th>\n",
       "      <td>1.513385</td>\n",
       "      <td>1.573224</td>\n",
       "      <td>-0.904139</td>\n",
       "      <td>2</td>\n",
       "    </tr>\n",
       "    <tr>\n",
       "      <th>2</th>\n",
       "      <td>-0.165461</td>\n",
       "      <td>-0.131771</td>\n",
       "      <td>-0.914158</td>\n",
       "      <td>0</td>\n",
       "    </tr>\n",
       "    <tr>\n",
       "      <th>3</th>\n",
       "      <td>-0.618491</td>\n",
       "      <td>-0.777234</td>\n",
       "      <td>1.199669</td>\n",
       "      <td>1</td>\n",
       "    </tr>\n",
       "    <tr>\n",
       "      <th>4</th>\n",
       "      <td>-0.161974</td>\n",
       "      <td>-0.290092</td>\n",
       "      <td>-0.232924</td>\n",
       "      <td>0</td>\n",
       "    </tr>\n",
       "  </tbody>\n",
       "</table>\n",
       "</div>"
      ],
      "text/plain": [
       "   Monetary  Frequency   Recency  Cluster\n",
       "0  1.569442   0.404084 -0.924176        2\n",
       "1  1.513385   1.573224 -0.904139        2\n",
       "2 -0.165461  -0.131771 -0.914158        0\n",
       "3 -0.618491  -0.777234  1.199669        1\n",
       "4 -0.161974  -0.290092 -0.232924        0"
      ]
     },
     "execution_count": 35,
     "metadata": {},
     "output_type": "execute_result"
    }
   ],
   "source": [
    "rfm_scaled['Cluster']=y_predicted\n",
    "rfm_scaled.head()"
   ]
  },
  {
   "cell_type": "code",
   "execution_count": 36,
   "metadata": {},
   "outputs": [],
   "source": [
    "rfm1=rfm_scaled[rfm_scaled['Cluster']==0]\n",
    "rfm2=rfm_scaled[rfm_scaled['Cluster']==1]\n",
    "rfm3=rfm_scaled[rfm_scaled['Cluster']==2]"
   ]
  },
  {
   "cell_type": "code",
   "execution_count": 51,
   "metadata": {
    "datalore": {
     "hide_input_from_viewers": false,
     "hide_output_from_viewers": false,
     "type": "CODE"
    }
   },
   "outputs": [
    {
     "data": {
      "application/vnd.jupyter.widget-view+json": {
       "model_id": "c8e8e0332aa147f5a94488c04311a953",
       "version_major": 2,
       "version_minor": 0
      },
      "image/png": "[encoded data removed]",
      "text/html": [
       "\n",
       "            <div style=\"display: inline-block;\">\n",
       "                <div class=\"jupyter-widgets widget-label\" style=\"text-align: center;\">\n",
       "                    Figure\n",
       "                </div>\n",
       "                <img src='data:image/png;base64,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' width=640.0/>\n",
       "            </div>\n",
       "        "
      ],
      "text/plain": [
       "Canvas(toolbar=Toolbar(toolitems=[('Home', 'Reset original view', 'home', 'home'), ('Back', 'Back to previous …"
      ]
     },
     "metadata": {},
     "output_type": "display_data"
    }
   ],
   "source": [
    "%matplotlib widget\n",
    "sns.set(style = \"darkgrid\")\n",
    "kplot = plt.axes(projection = '3d')\n",
    "kplot.scatter3D(rfm1.Monetary, rfm1.Frequency, rfm1.Recency, c='#58508d', label = 'Cluster 1')\n",
    "kplot.scatter3D(rfm2.Monetary, rfm2.Frequency, rfm2.Recency, c='#bc5090', label = 'Cluster 2')\n",
    "kplot.scatter3D(rfm3.Monetary, rfm3.Frequency, rfm3.Recency, c='#ff6361', label = 'Cluster 3')\n",
    "kplot.set_xlabel(\"Monetary\",fontsize=12)\n",
    "kplot.set_ylabel(\"Frequency\",fontsize=12)\n",
    "kplot.set_zlabel(\"Recency\",fontsize=12)\n",
    "plt.title(\"RFM\",fontsize=18)\n",
    "plt.legend(bbox_to_anchor=(1.0,1.0),prop={'size': 12})\n",
    "plt.tight_layout()\n",
    "plt.show()"
   ]
  }
 ],
 "metadata": {
  "datalore": {
   "base_environment": "default",
   "computation_mode": "JUPYTER",
   "package_manager": "pip",
   "packages": [
    {
     "name": "openpyxl",
     "source": "PIP",
     "version": "3.2.0b1"
    },
    {
     "name": "mlxtend",
     "source": "PIP",
     "version": "0.20.0"
    },
    {
     "name": "ipympl",
     "source": "PIP",
     "version": "0.9.1"
    }
   ],
   "version": 1
  },
  "kernelspec": {
   "display_name": "Python 3 (ipykernel)",
   "language": "python",
   "name": "python3"
  },
  "language_info": {
   "codemirror_mode": {
    "name": "ipython",
    "version": 3
   },
   "file_extension": ".py",
   "mimetype": "text/x-python",
   "name": "python",
   "nbconvert_exporter": "python",
   "pygments_lexer": "ipython3",
   "version": "3.9.7"
  }
 },
 "nbformat": 4,
 "nbformat_minor": 4
}
